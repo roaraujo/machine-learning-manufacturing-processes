{
 "cells": [
  {
   "cell_type": "markdown",
   "metadata": {},
   "source": [
    "## EDA"
   ]
  },
  {
   "cell_type": "code",
   "execution_count": 1,
   "metadata": {},
   "outputs": [],
   "source": [
    "import warnings\n",
    "import numpy as np \n",
    "import pandas as pd\n",
    "import seaborn as sns\n",
    "import plotly.express as px\n",
    "import matplotlib.pyplot as plt\n",
    "from collections import Counter\n",
    "from sklearn.feature_selection import f_classif\n",
    "from sklearn.model_selection import train_test_split"
   ]
  },
  {
   "cell_type": "code",
   "execution_count": 2,
   "metadata": {},
   "outputs": [
    {
     "data": {
      "text/html": [
       "<div>\n",
       "<style scoped>\n",
       "    .dataframe tbody tr th:only-of-type {\n",
       "        vertical-align: middle;\n",
       "    }\n",
       "\n",
       "    .dataframe tbody tr th {\n",
       "        vertical-align: top;\n",
       "    }\n",
       "\n",
       "    .dataframe thead th {\n",
       "        text-align: right;\n",
       "    }\n",
       "</style>\n",
       "<table border=\"1\" class=\"dataframe\">\n",
       "  <thead>\n",
       "    <tr style=\"text-align: right;\">\n",
       "      <th></th>\n",
       "      <th>TM</th>\n",
       "      <th>GR</th>\n",
       "      <th>RFV</th>\n",
       "      <th>GR.1</th>\n",
       "      <th>H1RFV</th>\n",
       "      <th>GR.2</th>\n",
       "      <th>H2RFV</th>\n",
       "      <th>GR.3</th>\n",
       "      <th>CONICITY</th>\n",
       "      <th>GR.4</th>\n",
       "      <th>H1LFV</th>\n",
       "      <th>GR.5</th>\n",
       "      <th>PLY</th>\n",
       "      <th>GR.6</th>\n",
       "      <th>LFV</th>\n",
       "      <th>GR.7</th>\n",
       "      <th>RRO</th>\n",
       "      <th>GR.8</th>\n",
       "      <th>CAPSPLICE</th>\n",
       "      <th>GR.9</th>\n",
       "      <th>H1RRO</th>\n",
       "      <th>GR.10</th>\n",
       "    </tr>\n",
       "  </thead>\n",
       "  <tbody>\n",
       "    <tr>\n",
       "      <th>0</th>\n",
       "      <td>1</td>\n",
       "      <td>B</td>\n",
       "      <td>75</td>\n",
       "      <td>A</td>\n",
       "      <td>45</td>\n",
       "      <td>A</td>\n",
       "      <td>22</td>\n",
       "      <td>A</td>\n",
       "      <td>6.7</td>\n",
       "      <td>A</td>\n",
       "      <td>4.5</td>\n",
       "      <td>A</td>\n",
       "      <td>50.4</td>\n",
       "      <td>A</td>\n",
       "      <td>8.4</td>\n",
       "      <td>A</td>\n",
       "      <td>1.12</td>\n",
       "      <td>B</td>\n",
       "      <td>0.33</td>\n",
       "      <td>A</td>\n",
       "      <td>0.68</td>\n",
       "      <td>A</td>\n",
       "    </tr>\n",
       "    <tr>\n",
       "      <th>1</th>\n",
       "      <td>1</td>\n",
       "      <td>A</td>\n",
       "      <td>46</td>\n",
       "      <td>A</td>\n",
       "      <td>14</td>\n",
       "      <td>A</td>\n",
       "      <td>23</td>\n",
       "      <td>A</td>\n",
       "      <td>4.5</td>\n",
       "      <td>A</td>\n",
       "      <td>4.3</td>\n",
       "      <td>A</td>\n",
       "      <td>56.0</td>\n",
       "      <td>A</td>\n",
       "      <td>13.0</td>\n",
       "      <td>A</td>\n",
       "      <td>0.77</td>\n",
       "      <td>A</td>\n",
       "      <td>0.17</td>\n",
       "      <td>A</td>\n",
       "      <td>0.17</td>\n",
       "      <td>A</td>\n",
       "    </tr>\n",
       "    <tr>\n",
       "      <th>2</th>\n",
       "      <td>1</td>\n",
       "      <td>A</td>\n",
       "      <td>35</td>\n",
       "      <td>A</td>\n",
       "      <td>19</td>\n",
       "      <td>A</td>\n",
       "      <td>6</td>\n",
       "      <td>A</td>\n",
       "      <td>6.4</td>\n",
       "      <td>A</td>\n",
       "      <td>13.7</td>\n",
       "      <td>A</td>\n",
       "      <td>52.8</td>\n",
       "      <td>A</td>\n",
       "      <td>16.7</td>\n",
       "      <td>A</td>\n",
       "      <td>0.60</td>\n",
       "      <td>A</td>\n",
       "      <td>0.26</td>\n",
       "      <td>A</td>\n",
       "      <td>0.19</td>\n",
       "      <td>A</td>\n",
       "    </tr>\n",
       "    <tr>\n",
       "      <th>3</th>\n",
       "      <td>1</td>\n",
       "      <td>A</td>\n",
       "      <td>34</td>\n",
       "      <td>A</td>\n",
       "      <td>12</td>\n",
       "      <td>A</td>\n",
       "      <td>2</td>\n",
       "      <td>A</td>\n",
       "      <td>8.0</td>\n",
       "      <td>A</td>\n",
       "      <td>4.8</td>\n",
       "      <td>A</td>\n",
       "      <td>49.5</td>\n",
       "      <td>A</td>\n",
       "      <td>11.5</td>\n",
       "      <td>A</td>\n",
       "      <td>0.50</td>\n",
       "      <td>A</td>\n",
       "      <td>0.33</td>\n",
       "      <td>A</td>\n",
       "      <td>0.20</td>\n",
       "      <td>A</td>\n",
       "    </tr>\n",
       "    <tr>\n",
       "      <th>4</th>\n",
       "      <td>1</td>\n",
       "      <td>B</td>\n",
       "      <td>42</td>\n",
       "      <td>A</td>\n",
       "      <td>33</td>\n",
       "      <td>A</td>\n",
       "      <td>13</td>\n",
       "      <td>A</td>\n",
       "      <td>11.8</td>\n",
       "      <td>B</td>\n",
       "      <td>4.6</td>\n",
       "      <td>A</td>\n",
       "      <td>51.6</td>\n",
       "      <td>A</td>\n",
       "      <td>8.0</td>\n",
       "      <td>A</td>\n",
       "      <td>0.56</td>\n",
       "      <td>A</td>\n",
       "      <td>0.15</td>\n",
       "      <td>A</td>\n",
       "      <td>0.41</td>\n",
       "      <td>A</td>\n",
       "    </tr>\n",
       "  </tbody>\n",
       "</table>\n",
       "</div>"
      ],
      "text/plain": [
       "   TM GR  RFV GR.1  H1RFV GR.2  H2RFV GR.3  CONICITY GR.4  H1LFV GR.5   PLY  \\\n",
       "0   1  B   75    A     45    A     22    A       6.7    A    4.5    A  50.4   \n",
       "1   1  A   46    A     14    A     23    A       4.5    A    4.3    A  56.0   \n",
       "2   1  A   35    A     19    A      6    A       6.4    A   13.7    A  52.8   \n",
       "3   1  A   34    A     12    A      2    A       8.0    A    4.8    A  49.5   \n",
       "4   1  B   42    A     33    A     13    A      11.8    B    4.6    A  51.6   \n",
       "\n",
       "  GR.6   LFV GR.7   RRO GR.8  CAPSPLICE GR.9  H1RRO GR.10  \n",
       "0    A   8.4    A  1.12    B       0.33    A   0.68     A  \n",
       "1    A  13.0    A  0.77    A       0.17    A   0.17     A  \n",
       "2    A  16.7    A  0.60    A       0.26    A   0.19     A  \n",
       "3    A  11.5    A  0.50    A       0.33    A   0.20     A  \n",
       "4    A   8.0    A  0.56    A       0.15    A   0.41     A  "
      ]
     },
     "execution_count": 2,
     "metadata": {},
     "output_type": "execute_result"
    }
   ],
   "source": [
    "warnings.filterwarnings('ignore')\n",
    "df = pd.read_csv(\"data.csv\", sep = \";\")\n",
    "pd.set_option('display.max_columns', None)\n",
    "df.head()"
   ]
  },
  {
   "cell_type": "code",
   "execution_count": 3,
   "metadata": {},
   "outputs": [],
   "source": [
    "df = df.loc[(df['GR'])!=\"D\"]"
   ]
  },
  {
   "cell_type": "code",
   "execution_count": 35,
   "metadata": {},
   "outputs": [],
   "source": [
    "df = df[['GR', 'RFV','H1RFV','H2RFV','CONICITY',\n",
    "       'H1LFV', 'PLY','LFV','RRO', 'CAPSPLICE', 'H1RRO']]\n",
    "\n",
    "X = df.drop([\n",
    "'GR'\n",
    "], axis=1)"
   ]
  },
  {
   "cell_type": "code",
   "execution_count": 36,
   "metadata": {},
   "outputs": [
    {
     "name": "stdout",
     "output_type": "stream",
     "text": [
      "Numero de observaçoes do treino: 74\n",
      "Numero de observaçoes da teste: 33\n"
     ]
    }
   ],
   "source": [
    "X_all = X\n",
    "y_all = df['GR']\n",
    "\n",
    "X_train, X_test, y_train, y_test = train_test_split(X_all, y_all, test_size = 0.30 , stratify=y_all, random_state = 7265)\n",
    "\n",
    "print('Numero de observaçoes do treino:', len(X_train))\n",
    "print('Numero de observaçoes da teste:',len(X_test))"
   ]
  },
  {
   "cell_type": "code",
   "execution_count": 37,
   "metadata": {},
   "outputs": [],
   "source": [
    "train = X_train.copy()\n",
    "train['Y'] = y_train\n",
    "\n",
    "test = X_test.copy()\n",
    "test['Y'] = y_test"
   ]
  },
  {
   "cell_type": "code",
   "execution_count": 38,
   "metadata": {},
   "outputs": [],
   "source": [
    "train['Y'] = train['Y'] .apply(lambda x: 0 if x == 'A' else 1)\n",
    "test['Y'] = test['Y'] .apply(lambda x: 0 if x == 'A' else 1)"
   ]
  },
  {
   "cell_type": "code",
   "execution_count": 39,
   "metadata": {},
   "outputs": [
    {
     "data": {
      "text/html": [
       "<div>\n",
       "<style scoped>\n",
       "    .dataframe tbody tr th:only-of-type {\n",
       "        vertical-align: middle;\n",
       "    }\n",
       "\n",
       "    .dataframe tbody tr th {\n",
       "        vertical-align: top;\n",
       "    }\n",
       "\n",
       "    .dataframe thead th {\n",
       "        text-align: right;\n",
       "    }\n",
       "</style>\n",
       "<table border=\"1\" class=\"dataframe\">\n",
       "  <thead>\n",
       "    <tr style=\"text-align: right;\">\n",
       "      <th></th>\n",
       "      <th>RFV</th>\n",
       "      <th>H1RFV</th>\n",
       "      <th>H2RFV</th>\n",
       "      <th>CONICITY</th>\n",
       "      <th>H1LFV</th>\n",
       "      <th>PLY</th>\n",
       "      <th>LFV</th>\n",
       "      <th>RRO</th>\n",
       "      <th>CAPSPLICE</th>\n",
       "      <th>H1RRO</th>\n",
       "      <th>Y</th>\n",
       "    </tr>\n",
       "  </thead>\n",
       "  <tbody>\n",
       "    <tr>\n",
       "      <th>1</th>\n",
       "      <td>46</td>\n",
       "      <td>14</td>\n",
       "      <td>23</td>\n",
       "      <td>4.5</td>\n",
       "      <td>4.3</td>\n",
       "      <td>56.0</td>\n",
       "      <td>13.0</td>\n",
       "      <td>0.77</td>\n",
       "      <td>0.17</td>\n",
       "      <td>0.17</td>\n",
       "      <td>0</td>\n",
       "    </tr>\n",
       "    <tr>\n",
       "      <th>6</th>\n",
       "      <td>55</td>\n",
       "      <td>27</td>\n",
       "      <td>35</td>\n",
       "      <td>12.1</td>\n",
       "      <td>9.0</td>\n",
       "      <td>51.3</td>\n",
       "      <td>14.7</td>\n",
       "      <td>0.79</td>\n",
       "      <td>0.20</td>\n",
       "      <td>0.40</td>\n",
       "      <td>1</td>\n",
       "    </tr>\n",
       "    <tr>\n",
       "      <th>72</th>\n",
       "      <td>83</td>\n",
       "      <td>67</td>\n",
       "      <td>6</td>\n",
       "      <td>9.3</td>\n",
       "      <td>8.0</td>\n",
       "      <td>51.0</td>\n",
       "      <td>11.9</td>\n",
       "      <td>1.24</td>\n",
       "      <td>0.21</td>\n",
       "      <td>0.91</td>\n",
       "      <td>1</td>\n",
       "    </tr>\n",
       "    <tr>\n",
       "      <th>88</th>\n",
       "      <td>32</td>\n",
       "      <td>9</td>\n",
       "      <td>19</td>\n",
       "      <td>11.0</td>\n",
       "      <td>11.8</td>\n",
       "      <td>50.4</td>\n",
       "      <td>15.5</td>\n",
       "      <td>0.47</td>\n",
       "      <td>0.17</td>\n",
       "      <td>0.01</td>\n",
       "      <td>1</td>\n",
       "    </tr>\n",
       "    <tr>\n",
       "      <th>20</th>\n",
       "      <td>55</td>\n",
       "      <td>38</td>\n",
       "      <td>7</td>\n",
       "      <td>9.7</td>\n",
       "      <td>9.9</td>\n",
       "      <td>49.8</td>\n",
       "      <td>15.1</td>\n",
       "      <td>0.80</td>\n",
       "      <td>0.26</td>\n",
       "      <td>0.40</td>\n",
       "      <td>0</td>\n",
       "    </tr>\n",
       "  </tbody>\n",
       "</table>\n",
       "</div>"
      ],
      "text/plain": [
       "    RFV  H1RFV  H2RFV  CONICITY  H1LFV   PLY   LFV   RRO  CAPSPLICE  H1RRO  Y\n",
       "1    46     14     23       4.5    4.3  56.0  13.0  0.77       0.17   0.17  0\n",
       "6    55     27     35      12.1    9.0  51.3  14.7  0.79       0.20   0.40  1\n",
       "72   83     67      6       9.3    8.0  51.0  11.9  1.24       0.21   0.91  1\n",
       "88   32      9     19      11.0   11.8  50.4  15.5  0.47       0.17   0.01  1\n",
       "20   55     38      7       9.7    9.9  49.8  15.1  0.80       0.26   0.40  0"
      ]
     },
     "execution_count": 39,
     "metadata": {},
     "output_type": "execute_result"
    }
   ],
   "source": [
    "train.head()"
   ]
  },
  {
   "cell_type": "code",
   "execution_count": 40,
   "metadata": {},
   "outputs": [],
   "source": [
    "train.to_csv(\"train.csv\", sep = \";\", index=False)\n",
    "test.to_csv(\"test.csv\", sep = \";\", index=False)"
   ]
  },
  {
   "cell_type": "code",
   "execution_count": 41,
   "metadata": {},
   "outputs": [],
   "source": [
    "y_train = train[['Y']]\n",
    "y_test = test[['Y']]\n",
    "\n",
    "X_train = train[['RFV','H2RFV','CONICITY',\n",
    "        'PLY','LFV','RRO', 'CAPSPLICE']]\n",
    "\n",
    "X_test = test[['RFV','H2RFV','CONICITY',\n",
    "       'PLY','LFV','RRO', 'CAPSPLICE']]"
   ]
  },
  {
   "cell_type": "code",
   "execution_count": 42,
   "metadata": {},
   "outputs": [
    {
     "data": {
      "text/html": [
       "<div>\n",
       "<style scoped>\n",
       "    .dataframe tbody tr th:only-of-type {\n",
       "        vertical-align: middle;\n",
       "    }\n",
       "\n",
       "    .dataframe tbody tr th {\n",
       "        vertical-align: top;\n",
       "    }\n",
       "\n",
       "    .dataframe thead th {\n",
       "        text-align: right;\n",
       "    }\n",
       "</style>\n",
       "<table border=\"1\" class=\"dataframe\">\n",
       "  <thead>\n",
       "    <tr style=\"text-align: right;\">\n",
       "      <th></th>\n",
       "      <th>RFV</th>\n",
       "      <th>H2RFV</th>\n",
       "      <th>CONICITY</th>\n",
       "      <th>PLY</th>\n",
       "      <th>LFV</th>\n",
       "      <th>RRO</th>\n",
       "      <th>CAPSPLICE</th>\n",
       "    </tr>\n",
       "  </thead>\n",
       "  <tbody>\n",
       "    <tr>\n",
       "      <th>count</th>\n",
       "      <td>74.000000</td>\n",
       "      <td>74.000000</td>\n",
       "      <td>74.000000</td>\n",
       "      <td>74.000000</td>\n",
       "      <td>74.000000</td>\n",
       "      <td>74.000000</td>\n",
       "      <td>74.000000</td>\n",
       "    </tr>\n",
       "    <tr>\n",
       "      <th>mean</th>\n",
       "      <td>57.202703</td>\n",
       "      <td>17.554054</td>\n",
       "      <td>9.009459</td>\n",
       "      <td>50.668919</td>\n",
       "      <td>12.843243</td>\n",
       "      <td>0.840135</td>\n",
       "      <td>0.300270</td>\n",
       "    </tr>\n",
       "    <tr>\n",
       "      <th>std</th>\n",
       "      <td>17.179137</td>\n",
       "      <td>8.689691</td>\n",
       "      <td>1.972355</td>\n",
       "      <td>2.675660</td>\n",
       "      <td>3.338529</td>\n",
       "      <td>0.252231</td>\n",
       "      <td>0.126556</td>\n",
       "    </tr>\n",
       "    <tr>\n",
       "      <th>min</th>\n",
       "      <td>32.000000</td>\n",
       "      <td>2.000000</td>\n",
       "      <td>4.500000</td>\n",
       "      <td>40.400000</td>\n",
       "      <td>7.000000</td>\n",
       "      <td>0.420000</td>\n",
       "      <td>0.150000</td>\n",
       "    </tr>\n",
       "    <tr>\n",
       "      <th>25%</th>\n",
       "      <td>44.000000</td>\n",
       "      <td>10.250000</td>\n",
       "      <td>7.800000</td>\n",
       "      <td>49.400000</td>\n",
       "      <td>10.500000</td>\n",
       "      <td>0.650000</td>\n",
       "      <td>0.220000</td>\n",
       "    </tr>\n",
       "    <tr>\n",
       "      <th>50%</th>\n",
       "      <td>55.000000</td>\n",
       "      <td>17.500000</td>\n",
       "      <td>9.300000</td>\n",
       "      <td>50.600000</td>\n",
       "      <td>12.600000</td>\n",
       "      <td>0.810000</td>\n",
       "      <td>0.260000</td>\n",
       "    </tr>\n",
       "    <tr>\n",
       "      <th>75%</th>\n",
       "      <td>65.750000</td>\n",
       "      <td>23.000000</td>\n",
       "      <td>10.475000</td>\n",
       "      <td>52.275000</td>\n",
       "      <td>14.800000</td>\n",
       "      <td>0.995000</td>\n",
       "      <td>0.330000</td>\n",
       "    </tr>\n",
       "    <tr>\n",
       "      <th>max</th>\n",
       "      <td>117.000000</td>\n",
       "      <td>46.000000</td>\n",
       "      <td>13.000000</td>\n",
       "      <td>56.800000</td>\n",
       "      <td>21.900000</td>\n",
       "      <td>1.490000</td>\n",
       "      <td>0.750000</td>\n",
       "    </tr>\n",
       "  </tbody>\n",
       "</table>\n",
       "</div>"
      ],
      "text/plain": [
       "              RFV      H2RFV   CONICITY        PLY        LFV        RRO  \\\n",
       "count   74.000000  74.000000  74.000000  74.000000  74.000000  74.000000   \n",
       "mean    57.202703  17.554054   9.009459  50.668919  12.843243   0.840135   \n",
       "std     17.179137   8.689691   1.972355   2.675660   3.338529   0.252231   \n",
       "min     32.000000   2.000000   4.500000  40.400000   7.000000   0.420000   \n",
       "25%     44.000000  10.250000   7.800000  49.400000  10.500000   0.650000   \n",
       "50%     55.000000  17.500000   9.300000  50.600000  12.600000   0.810000   \n",
       "75%     65.750000  23.000000  10.475000  52.275000  14.800000   0.995000   \n",
       "max    117.000000  46.000000  13.000000  56.800000  21.900000   1.490000   \n",
       "\n",
       "       CAPSPLICE  \n",
       "count  74.000000  \n",
       "mean    0.300270  \n",
       "std     0.126556  \n",
       "min     0.150000  \n",
       "25%     0.220000  \n",
       "50%     0.260000  \n",
       "75%     0.330000  \n",
       "max     0.750000  "
      ]
     },
     "execution_count": 42,
     "metadata": {},
     "output_type": "execute_result"
    }
   ],
   "source": [
    "X_train.describe()"
   ]
  },
  {
   "cell_type": "code",
   "execution_count": 43,
   "metadata": {},
   "outputs": [
    {
     "data": {
      "text/html": [
       "<div>\n",
       "<style scoped>\n",
       "    .dataframe tbody tr th:only-of-type {\n",
       "        vertical-align: middle;\n",
       "    }\n",
       "\n",
       "    .dataframe tbody tr th {\n",
       "        vertical-align: top;\n",
       "    }\n",
       "\n",
       "    .dataframe thead th {\n",
       "        text-align: right;\n",
       "    }\n",
       "</style>\n",
       "<table border=\"1\" class=\"dataframe\">\n",
       "  <thead>\n",
       "    <tr style=\"text-align: right;\">\n",
       "      <th></th>\n",
       "      <th>RFV</th>\n",
       "      <th>H2RFV</th>\n",
       "      <th>CONICITY</th>\n",
       "      <th>PLY</th>\n",
       "      <th>LFV</th>\n",
       "      <th>RRO</th>\n",
       "      <th>CAPSPLICE</th>\n",
       "      <th>Y</th>\n",
       "    </tr>\n",
       "  </thead>\n",
       "  <tbody>\n",
       "    <tr>\n",
       "      <th>1</th>\n",
       "      <td>46</td>\n",
       "      <td>23</td>\n",
       "      <td>4.5</td>\n",
       "      <td>56.0</td>\n",
       "      <td>13.0</td>\n",
       "      <td>0.77</td>\n",
       "      <td>0.17</td>\n",
       "      <td>0</td>\n",
       "    </tr>\n",
       "    <tr>\n",
       "      <th>6</th>\n",
       "      <td>55</td>\n",
       "      <td>35</td>\n",
       "      <td>12.1</td>\n",
       "      <td>51.3</td>\n",
       "      <td>14.7</td>\n",
       "      <td>0.79</td>\n",
       "      <td>0.20</td>\n",
       "      <td>1</td>\n",
       "    </tr>\n",
       "  </tbody>\n",
       "</table>\n",
       "</div>"
      ],
      "text/plain": [
       "   RFV  H2RFV  CONICITY   PLY   LFV   RRO  CAPSPLICE  Y\n",
       "1   46     23       4.5  56.0  13.0  0.77       0.17  0\n",
       "6   55     35      12.1  51.3  14.7  0.79       0.20  1"
      ]
     },
     "execution_count": 43,
     "metadata": {},
     "output_type": "execute_result"
    }
   ],
   "source": [
    "data = X_train.copy()\n",
    "data['Y'] = y_train\n",
    "data.head(2)"
   ]
  },
  {
   "cell_type": "code",
   "execution_count": 19,
   "metadata": {},
   "outputs": [
    {
     "data": {
      "text/html": [
       "<div>\n",
       "<style scoped>\n",
       "    .dataframe tbody tr th:only-of-type {\n",
       "        vertical-align: middle;\n",
       "    }\n",
       "\n",
       "    .dataframe tbody tr th {\n",
       "        vertical-align: top;\n",
       "    }\n",
       "\n",
       "    .dataframe thead tr th {\n",
       "        text-align: left;\n",
       "    }\n",
       "\n",
       "    .dataframe thead tr:last-of-type th {\n",
       "        text-align: right;\n",
       "    }\n",
       "</style>\n",
       "<table border=\"1\" class=\"dataframe\">\n",
       "  <thead>\n",
       "    <tr>\n",
       "      <th></th>\n",
       "      <th colspan=\"8\" halign=\"left\">RFV</th>\n",
       "      <th colspan=\"8\" halign=\"left\">H2RFV</th>\n",
       "      <th colspan=\"8\" halign=\"left\">CONICITY</th>\n",
       "      <th colspan=\"8\" halign=\"left\">PLY</th>\n",
       "      <th colspan=\"8\" halign=\"left\">LFV</th>\n",
       "      <th colspan=\"8\" halign=\"left\">RRO</th>\n",
       "      <th colspan=\"8\" halign=\"left\">CAPSPLICE</th>\n",
       "    </tr>\n",
       "    <tr>\n",
       "      <th></th>\n",
       "      <th>count</th>\n",
       "      <th>mean</th>\n",
       "      <th>std</th>\n",
       "      <th>min</th>\n",
       "      <th>25%</th>\n",
       "      <th>50%</th>\n",
       "      <th>75%</th>\n",
       "      <th>max</th>\n",
       "      <th>count</th>\n",
       "      <th>mean</th>\n",
       "      <th>std</th>\n",
       "      <th>min</th>\n",
       "      <th>25%</th>\n",
       "      <th>50%</th>\n",
       "      <th>75%</th>\n",
       "      <th>max</th>\n",
       "      <th>count</th>\n",
       "      <th>mean</th>\n",
       "      <th>std</th>\n",
       "      <th>min</th>\n",
       "      <th>25%</th>\n",
       "      <th>50%</th>\n",
       "      <th>75%</th>\n",
       "      <th>max</th>\n",
       "      <th>count</th>\n",
       "      <th>mean</th>\n",
       "      <th>std</th>\n",
       "      <th>min</th>\n",
       "      <th>25%</th>\n",
       "      <th>50%</th>\n",
       "      <th>75%</th>\n",
       "      <th>max</th>\n",
       "      <th>count</th>\n",
       "      <th>mean</th>\n",
       "      <th>std</th>\n",
       "      <th>min</th>\n",
       "      <th>25%</th>\n",
       "      <th>50%</th>\n",
       "      <th>75%</th>\n",
       "      <th>max</th>\n",
       "      <th>count</th>\n",
       "      <th>mean</th>\n",
       "      <th>std</th>\n",
       "      <th>min</th>\n",
       "      <th>25%</th>\n",
       "      <th>50%</th>\n",
       "      <th>75%</th>\n",
       "      <th>max</th>\n",
       "      <th>count</th>\n",
       "      <th>mean</th>\n",
       "      <th>std</th>\n",
       "      <th>min</th>\n",
       "      <th>25%</th>\n",
       "      <th>50%</th>\n",
       "      <th>75%</th>\n",
       "      <th>max</th>\n",
       "    </tr>\n",
       "    <tr>\n",
       "      <th>Y</th>\n",
       "      <th></th>\n",
       "      <th></th>\n",
       "      <th></th>\n",
       "      <th></th>\n",
       "      <th></th>\n",
       "      <th></th>\n",
       "      <th></th>\n",
       "      <th></th>\n",
       "      <th></th>\n",
       "      <th></th>\n",
       "      <th></th>\n",
       "      <th></th>\n",
       "      <th></th>\n",
       "      <th></th>\n",
       "      <th></th>\n",
       "      <th></th>\n",
       "      <th></th>\n",
       "      <th></th>\n",
       "      <th></th>\n",
       "      <th></th>\n",
       "      <th></th>\n",
       "      <th></th>\n",
       "      <th></th>\n",
       "      <th></th>\n",
       "      <th></th>\n",
       "      <th></th>\n",
       "      <th></th>\n",
       "      <th></th>\n",
       "      <th></th>\n",
       "      <th></th>\n",
       "      <th></th>\n",
       "      <th></th>\n",
       "      <th></th>\n",
       "      <th></th>\n",
       "      <th></th>\n",
       "      <th></th>\n",
       "      <th></th>\n",
       "      <th></th>\n",
       "      <th></th>\n",
       "      <th></th>\n",
       "      <th></th>\n",
       "      <th></th>\n",
       "      <th></th>\n",
       "      <th></th>\n",
       "      <th></th>\n",
       "      <th></th>\n",
       "      <th></th>\n",
       "      <th></th>\n",
       "      <th></th>\n",
       "      <th></th>\n",
       "      <th></th>\n",
       "      <th></th>\n",
       "      <th></th>\n",
       "      <th></th>\n",
       "      <th></th>\n",
       "      <th></th>\n",
       "    </tr>\n",
       "  </thead>\n",
       "  <tbody>\n",
       "    <tr>\n",
       "      <th>0</th>\n",
       "      <td>32.0</td>\n",
       "      <td>47.906250</td>\n",
       "      <td>9.613027</td>\n",
       "      <td>33.0</td>\n",
       "      <td>40.00</td>\n",
       "      <td>49.0</td>\n",
       "      <td>55.25</td>\n",
       "      <td>67.0</td>\n",
       "      <td>32.0</td>\n",
       "      <td>14.125000</td>\n",
       "      <td>7.508060</td>\n",
       "      <td>2.0</td>\n",
       "      <td>7.0</td>\n",
       "      <td>15.0</td>\n",
       "      <td>21.25</td>\n",
       "      <td>25.0</td>\n",
       "      <td>32.0</td>\n",
       "      <td>7.456250</td>\n",
       "      <td>1.519112</td>\n",
       "      <td>4.5</td>\n",
       "      <td>6.55</td>\n",
       "      <td>7.35</td>\n",
       "      <td>8.425</td>\n",
       "      <td>9.9</td>\n",
       "      <td>32.0</td>\n",
       "      <td>51.178125</td>\n",
       "      <td>3.307639</td>\n",
       "      <td>40.4</td>\n",
       "      <td>49.5</td>\n",
       "      <td>51.6</td>\n",
       "      <td>52.925</td>\n",
       "      <td>56.8</td>\n",
       "      <td>32.0</td>\n",
       "      <td>12.86875</td>\n",
       "      <td>2.893980</td>\n",
       "      <td>8.6</td>\n",
       "      <td>10.875</td>\n",
       "      <td>12.25</td>\n",
       "      <td>14.95</td>\n",
       "      <td>19.0</td>\n",
       "      <td>32.0</td>\n",
       "      <td>0.701250</td>\n",
       "      <td>0.134254</td>\n",
       "      <td>0.42</td>\n",
       "      <td>0.6200</td>\n",
       "      <td>0.70</td>\n",
       "      <td>0.785</td>\n",
       "      <td>0.97</td>\n",
       "      <td>32.0</td>\n",
       "      <td>0.270625</td>\n",
       "      <td>0.067915</td>\n",
       "      <td>0.17</td>\n",
       "      <td>0.2200</td>\n",
       "      <td>0.255</td>\n",
       "      <td>0.3200</td>\n",
       "      <td>0.42</td>\n",
       "    </tr>\n",
       "    <tr>\n",
       "      <th>1</th>\n",
       "      <td>42.0</td>\n",
       "      <td>64.285714</td>\n",
       "      <td>18.350631</td>\n",
       "      <td>32.0</td>\n",
       "      <td>50.75</td>\n",
       "      <td>64.5</td>\n",
       "      <td>76.00</td>\n",
       "      <td>117.0</td>\n",
       "      <td>42.0</td>\n",
       "      <td>20.166667</td>\n",
       "      <td>8.697958</td>\n",
       "      <td>6.0</td>\n",
       "      <td>15.0</td>\n",
       "      <td>19.0</td>\n",
       "      <td>26.25</td>\n",
       "      <td>46.0</td>\n",
       "      <td>42.0</td>\n",
       "      <td>10.192857</td>\n",
       "      <td>1.365318</td>\n",
       "      <td>6.8</td>\n",
       "      <td>9.30</td>\n",
       "      <td>10.35</td>\n",
       "      <td>10.975</td>\n",
       "      <td>13.0</td>\n",
       "      <td>42.0</td>\n",
       "      <td>50.280952</td>\n",
       "      <td>2.029326</td>\n",
       "      <td>43.8</td>\n",
       "      <td>49.3</td>\n",
       "      <td>50.3</td>\n",
       "      <td>51.675</td>\n",
       "      <td>53.8</td>\n",
       "      <td>42.0</td>\n",
       "      <td>12.82381</td>\n",
       "      <td>3.675815</td>\n",
       "      <td>7.0</td>\n",
       "      <td>10.100</td>\n",
       "      <td>12.95</td>\n",
       "      <td>14.70</td>\n",
       "      <td>21.9</td>\n",
       "      <td>42.0</td>\n",
       "      <td>0.945952</td>\n",
       "      <td>0.270411</td>\n",
       "      <td>0.46</td>\n",
       "      <td>0.7525</td>\n",
       "      <td>0.95</td>\n",
       "      <td>1.105</td>\n",
       "      <td>1.49</td>\n",
       "      <td>42.0</td>\n",
       "      <td>0.322857</td>\n",
       "      <td>0.154340</td>\n",
       "      <td>0.15</td>\n",
       "      <td>0.2225</td>\n",
       "      <td>0.270</td>\n",
       "      <td>0.3475</td>\n",
       "      <td>0.75</td>\n",
       "    </tr>\n",
       "  </tbody>\n",
       "</table>\n",
       "</div>"
      ],
      "text/plain": [
       "    RFV                                                        H2RFV  \\\n",
       "  count       mean        std   min    25%   50%    75%    max count   \n",
       "Y                                                                      \n",
       "0  32.0  47.906250   9.613027  33.0  40.00  49.0  55.25   67.0  32.0   \n",
       "1  42.0  64.285714  18.350631  32.0  50.75  64.5  76.00  117.0  42.0   \n",
       "\n",
       "                                                     CONICITY             \\\n",
       "        mean       std  min   25%   50%    75%   max    count       mean   \n",
       "Y                                                                          \n",
       "0  14.125000  7.508060  2.0   7.0  15.0  21.25  25.0     32.0   7.456250   \n",
       "1  20.166667  8.697958  6.0  15.0  19.0  26.25  46.0     42.0  10.192857   \n",
       "\n",
       "                                              PLY                             \\\n",
       "        std  min   25%    50%     75%   max count       mean       std   min   \n",
       "Y                                                                              \n",
       "0  1.519112  4.5  6.55   7.35   8.425   9.9  32.0  51.178125  3.307639  40.4   \n",
       "1  1.365318  6.8  9.30  10.35  10.975  13.0  42.0  50.280952  2.029326  43.8   \n",
       "\n",
       "                              LFV                                          \\\n",
       "    25%   50%     75%   max count      mean       std  min     25%    50%   \n",
       "Y                                                                           \n",
       "0  49.5  51.6  52.925  56.8  32.0  12.86875  2.893980  8.6  10.875  12.25   \n",
       "1  49.3  50.3  51.675  53.8  42.0  12.82381  3.675815  7.0  10.100  12.95   \n",
       "\n",
       "                 RRO                                                       \\\n",
       "     75%   max count      mean       std   min     25%   50%    75%   max   \n",
       "Y                                                                           \n",
       "0  14.95  19.0  32.0  0.701250  0.134254  0.42  0.6200  0.70  0.785  0.97   \n",
       "1  14.70  21.9  42.0  0.945952  0.270411  0.46  0.7525  0.95  1.105  1.49   \n",
       "\n",
       "  CAPSPLICE                                                         \n",
       "      count      mean       std   min     25%    50%     75%   max  \n",
       "Y                                                                   \n",
       "0      32.0  0.270625  0.067915  0.17  0.2200  0.255  0.3200  0.42  \n",
       "1      42.0  0.322857  0.154340  0.15  0.2225  0.270  0.3475  0.75  "
      ]
     },
     "execution_count": 19,
     "metadata": {},
     "output_type": "execute_result"
    }
   ],
   "source": [
    "data.groupby(\"Y\").describe()"
   ]
  },
  {
   "cell_type": "code",
   "execution_count": 20,
   "metadata": {},
   "outputs": [
    {
     "data": {
      "text/plain": [
       "<AxesSubplot:ylabel='Y'>"
      ]
     },
     "execution_count": 20,
     "metadata": {},
     "output_type": "execute_result"
    },
    {
     "data": {
      "image/png": "[encoded data removed]",
      "text/plain": [
       "<Figure size 432x432 with 1 Axes>"
      ]
     },
     "metadata": {},
     "output_type": "display_data"
    }
   ],
   "source": [
    "plt.figure(figsize=(6,6))\n",
    "data['Y'].value_counts().plot.pie(autopct=\"%1.1f%%\")"
   ]
  },
  {
   "cell_type": "code",
   "execution_count": 21,
   "metadata": {},
   "outputs": [
    {
     "data": {
      "image/png": "[encoded data removed]",
      "text/plain": [
       "<Figure size 432x288 with 1 Axes>"
      ]
     },
     "metadata": {
      "needs_background": "light"
     },
     "output_type": "display_data"
    }
   ],
   "source": [
    "g = sns.kdeplot(data[\"RFV\"][(data[\"Y\"] == 0) & (data[\"RFV\"].notnull())], color=\"Blue\", shade = True)\n",
    "g = sns.kdeplot(data[\"RFV\"][(data[\"Y\"] == 1) & (data[\"RFV\"].notnull())], ax =g, color=\"Green\", shade= True)\n",
    "g.set_xlabel(\"RFV\")\n",
    "g.set_ylabel(\"Density\")\n",
    "g = g.legend([\"A\",\"BC\"])"
   ]
  },
  {
   "cell_type": "code",
   "execution_count": 22,
   "metadata": {},
   "outputs": [
    {
     "data": {
      "image/png": "[encoded data removed]",
      "text/plain": [
       "<Figure size 432x288 with 1 Axes>"
      ]
     },
     "metadata": {
      "needs_background": "light"
     },
     "output_type": "display_data"
    }
   ],
   "source": [
    "g = sns.kdeplot(data[\"H2RFV\"][(data[\"Y\"] == 0) & (data[\"H2RFV\"].notnull())], color=\"Blue\", shade = True)\n",
    "g = sns.kdeplot(data[\"H2RFV\"][(data[\"Y\"] == 1) & (data[\"H2RFV\"].notnull())], ax =g, color=\"Green\", shade= True)\n",
    "g.set_xlabel(\"H2RFV\")\n",
    "g.set_ylabel(\"Density\")\n",
    "g = g.legend([\"A\",\"BC\"])"
   ]
  },
  {
   "cell_type": "code",
   "execution_count": 23,
   "metadata": {},
   "outputs": [
    {
     "data": {
      "image/png": "[encoded data removed]",
      "text/plain": [
       "<Figure size 432x288 with 1 Axes>"
      ]
     },
     "metadata": {
      "needs_background": "light"
     },
     "output_type": "display_data"
    }
   ],
   "source": [
    "g = sns.kdeplot(data[\"CONICITY\"][(data[\"Y\"] == 0) & (data[\"CONICITY\"].notnull())], color=\"Blue\", shade = True)\n",
    "g = sns.kdeplot(data[\"CONICITY\"][(data[\"Y\"] == 1) & (data[\"CONICITY\"].notnull())], ax =g, color=\"Green\", shade= True)\n",
    "g.set_xlabel(\"CONICITY\")\n",
    "g.set_ylabel(\"Density\")\n",
    "g = g.legend([\"A\",\"BC\"])"
   ]
  },
  {
   "cell_type": "code",
   "execution_count": 24,
   "metadata": {},
   "outputs": [
    {
     "data": {
      "image/png": "[encoded data removed]",
      "text/plain": [
       "<Figure size 432x288 with 1 Axes>"
      ]
     },
     "metadata": {
      "needs_background": "light"
     },
     "output_type": "display_data"
    }
   ],
   "source": [
    "g = sns.kdeplot(data[\"PLY\"][(data[\"Y\"] == 0) & (data[\"PLY\"].notnull())], color=\"Blue\", shade = True)\n",
    "g = sns.kdeplot(data[\"PLY\"][(data[\"Y\"] == 1) & (data[\"PLY\"].notnull())], ax =g, color=\"Green\", shade= True)\n",
    "g.set_xlabel(\"PLY\")\n",
    "g.set_ylabel(\"Density\")\n",
    "g = g.legend([\"A\",\"BC\"])"
   ]
  },
  {
   "cell_type": "code",
   "execution_count": 25,
   "metadata": {},
   "outputs": [
    {
     "data": {
      "image/png": "[encoded data removed]",
      "text/plain": [
       "<Figure size 432x288 with 1 Axes>"
      ]
     },
     "metadata": {
      "needs_background": "light"
     },
     "output_type": "display_data"
    }
   ],
   "source": [
    "g = sns.kdeplot(data[\"LFV\"][(data[\"Y\"] == 1) & (data[\"LFV\"].notnull())], color=\"Blue\", shade = True)\n",
    "g = sns.kdeplot(data[\"LFV\"][(data[\"Y\"] == 0) & (data[\"LFV\"].notnull())], ax =g, color=\"Green\", shade= True)\n",
    "g.set_xlabel(\"LFV\")\n",
    "g.set_ylabel(\"Density\")\n",
    "g = g.legend([\"A\",\"BC\"])"
   ]
  },
  {
   "cell_type": "code",
   "execution_count": 26,
   "metadata": {},
   "outputs": [
    {
     "data": {
      "image/png": "[encoded data removed]",
      "text/plain": [
       "<Figure size 432x288 with 1 Axes>"
      ]
     },
     "metadata": {
      "needs_background": "light"
     },
     "output_type": "display_data"
    }
   ],
   "source": [
    "g = sns.kdeplot(data[\"RRO\"][(data[\"Y\"] == 0) & (data[\"RRO\"].notnull())], color=\"Blue\", shade = True)\n",
    "g = sns.kdeplot(data[\"RRO\"][(data[\"Y\"] == 1) & (data[\"RRO\"].notnull())], ax =g, color=\"Green\", shade= True)\n",
    "g.set_xlabel(\"RRO\")\n",
    "g.set_ylabel(\"Density\")\n",
    "g = g.legend([\"A\",\"BC\"])"
   ]
  },
  {
   "cell_type": "code",
   "execution_count": 27,
   "metadata": {},
   "outputs": [
    {
     "data": {
      "image/png": "[encoded data removed]",
      "text/plain": [
       "<Figure size 432x288 with 1 Axes>"
      ]
     },
     "metadata": {
      "needs_background": "light"
     },
     "output_type": "display_data"
    }
   ],
   "source": [
    "g = sns.kdeplot(data[\"CAPSPLICE\"][(data[\"Y\"] == 0) & (data[\"CAPSPLICE\"].notnull())], color=\"Blue\", shade = True)\n",
    "g = sns.kdeplot(data[\"CAPSPLICE\"][(data[\"Y\"] == 1) & (data[\"CAPSPLICE\"].notnull())], ax =g, color=\"Green\", shade= True)\n",
    "g.set_xlabel(\"CAPSPLICE\")\n",
    "g.set_ylabel(\"Density\")\n",
    "g = g.legend([\"A\",\"BC\"])"
   ]
  },
  {
   "cell_type": "code",
   "execution_count": 28,
   "metadata": {},
   "outputs": [
    {
     "data": {
      "image/png": "[encoded data removed]",
      "text/plain": [
       "<Figure size 360x360 with 1 Axes>"
      ]
     },
     "metadata": {
      "needs_background": "light"
     },
     "output_type": "display_data"
    },
    {
     "data": {
      "image/png": "[encoded data removed]",
      "text/plain": [
       "<Figure size 360x360 with 1 Axes>"
      ]
     },
     "metadata": {
      "needs_background": "light"
     },
     "output_type": "display_data"
    },
    {
     "data": {
      "image/png": "[encoded data removed]",
      "text/plain": [
       "<Figure size 360x360 with 1 Axes>"
      ]
     },
     "metadata": {
      "needs_background": "light"
     },
     "output_type": "display_data"
    },
    {
     "data": {
      "image/png": "[encoded data removed]",
      "text/plain": [
       "<Figure size 360x360 with 1 Axes>"
      ]
     },
     "metadata": {
      "needs_background": "light"
     },
     "output_type": "display_data"
    },
    {
     "data": {
      "image/png": "[encoded data removed]",
      "text/plain": [
       "<Figure size 360x360 with 1 Axes>"
      ]
     },
     "metadata": {
      "needs_background": "light"
     },
     "output_type": "display_data"
    },
    {
     "data": {
      "image/png": "[encoded data removed]",
      "text/plain": [
       "<Figure size 360x360 with 1 Axes>"
      ]
     },
     "metadata": {
      "needs_background": "light"
     },
     "output_type": "display_data"
    },
    {
     "data": {
      "image/png": "[encoded data removed]",
      "text/plain": [
       "<Figure size 360x360 with 1 Axes>"
      ]
     },
     "metadata": {
      "needs_background": "light"
     },
     "output_type": "display_data"
    }
   ],
   "source": [
    "warnings.filterwarnings('ignore')\n",
    "orders = [0, 1]\n",
    "g = sns.factorplot(y=\"RFV\",x=\"Y\",data=data,kind=\"box\", order = orders)\n",
    "g = sns.factorplot(y=\"H2RFV\",x=\"Y\", data=data,kind=\"box\", order = orders)\n",
    "g = sns.factorplot(y=\"CONICITY\",x=\"Y\",data=data,kind=\"box\", order = orders)\n",
    "g = sns.factorplot(y=\"PLY\",x=\"Y\", data=data,kind=\"box\", order = orders)\n",
    "g = sns.factorplot(y=\"LFV\",x=\"Y\", data=data,kind=\"box\", order = orders)\n",
    "g = sns.factorplot(y=\"RRO\",x=\"Y\", data=data,kind=\"box\", order = orders)\n",
    "g = sns.factorplot(y=\"CAPSPLICE\",x=\"Y\", data=data,kind=\"box\", order = orders)"
   ]
  },
  {
   "cell_type": "markdown",
   "metadata": {},
   "source": [
    "Correlations"
   ]
  },
  {
   "cell_type": "code",
   "execution_count": 29,
   "metadata": {},
   "outputs": [
    {
     "data": {
      "text/html": [
       "<div>\n",
       "<style scoped>\n",
       "    .dataframe tbody tr th:only-of-type {\n",
       "        vertical-align: middle;\n",
       "    }\n",
       "\n",
       "    .dataframe tbody tr th {\n",
       "        vertical-align: top;\n",
       "    }\n",
       "\n",
       "    .dataframe thead th {\n",
       "        text-align: right;\n",
       "    }\n",
       "</style>\n",
       "<table border=\"1\" class=\"dataframe\">\n",
       "  <thead>\n",
       "    <tr style=\"text-align: right;\">\n",
       "      <th></th>\n",
       "      <th>RFV</th>\n",
       "      <th>H2RFV</th>\n",
       "      <th>CONICITY</th>\n",
       "      <th>PLY</th>\n",
       "      <th>LFV</th>\n",
       "      <th>RRO</th>\n",
       "      <th>CAPSPLICE</th>\n",
       "    </tr>\n",
       "  </thead>\n",
       "  <tbody>\n",
       "    <tr>\n",
       "      <th>1</th>\n",
       "      <td>46</td>\n",
       "      <td>23</td>\n",
       "      <td>4.5</td>\n",
       "      <td>56.0</td>\n",
       "      <td>13.0</td>\n",
       "      <td>0.77</td>\n",
       "      <td>0.17</td>\n",
       "    </tr>\n",
       "    <tr>\n",
       "      <th>6</th>\n",
       "      <td>55</td>\n",
       "      <td>35</td>\n",
       "      <td>12.1</td>\n",
       "      <td>51.3</td>\n",
       "      <td>14.7</td>\n",
       "      <td>0.79</td>\n",
       "      <td>0.20</td>\n",
       "    </tr>\n",
       "    <tr>\n",
       "      <th>72</th>\n",
       "      <td>83</td>\n",
       "      <td>6</td>\n",
       "      <td>9.3</td>\n",
       "      <td>51.0</td>\n",
       "      <td>11.9</td>\n",
       "      <td>1.24</td>\n",
       "      <td>0.21</td>\n",
       "    </tr>\n",
       "    <tr>\n",
       "      <th>88</th>\n",
       "      <td>32</td>\n",
       "      <td>19</td>\n",
       "      <td>11.0</td>\n",
       "      <td>50.4</td>\n",
       "      <td>15.5</td>\n",
       "      <td>0.47</td>\n",
       "      <td>0.17</td>\n",
       "    </tr>\n",
       "    <tr>\n",
       "      <th>20</th>\n",
       "      <td>55</td>\n",
       "      <td>7</td>\n",
       "      <td>9.7</td>\n",
       "      <td>49.8</td>\n",
       "      <td>15.1</td>\n",
       "      <td>0.80</td>\n",
       "      <td>0.26</td>\n",
       "    </tr>\n",
       "    <tr>\n",
       "      <th>...</th>\n",
       "      <td>...</td>\n",
       "      <td>...</td>\n",
       "      <td>...</td>\n",
       "      <td>...</td>\n",
       "      <td>...</td>\n",
       "      <td>...</td>\n",
       "      <td>...</td>\n",
       "    </tr>\n",
       "    <tr>\n",
       "      <th>12</th>\n",
       "      <td>40</td>\n",
       "      <td>8</td>\n",
       "      <td>6.8</td>\n",
       "      <td>54.3</td>\n",
       "      <td>14.8</td>\n",
       "      <td>0.51</td>\n",
       "      <td>0.25</td>\n",
       "    </tr>\n",
       "    <tr>\n",
       "      <th>64</th>\n",
       "      <td>101</td>\n",
       "      <td>46</td>\n",
       "      <td>10.9</td>\n",
       "      <td>52.2</td>\n",
       "      <td>17.3</td>\n",
       "      <td>1.48</td>\n",
       "      <td>0.27</td>\n",
       "    </tr>\n",
       "    <tr>\n",
       "      <th>46</th>\n",
       "      <td>44</td>\n",
       "      <td>14</td>\n",
       "      <td>8.6</td>\n",
       "      <td>54.1</td>\n",
       "      <td>12.4</td>\n",
       "      <td>0.62</td>\n",
       "      <td>0.24</td>\n",
       "    </tr>\n",
       "    <tr>\n",
       "      <th>32</th>\n",
       "      <td>40</td>\n",
       "      <td>8</td>\n",
       "      <td>10.9</td>\n",
       "      <td>50.6</td>\n",
       "      <td>14.0</td>\n",
       "      <td>0.68</td>\n",
       "      <td>0.23</td>\n",
       "    </tr>\n",
       "    <tr>\n",
       "      <th>98</th>\n",
       "      <td>35</td>\n",
       "      <td>6</td>\n",
       "      <td>4.5</td>\n",
       "      <td>50.9</td>\n",
       "      <td>12.4</td>\n",
       "      <td>0.42</td>\n",
       "      <td>0.22</td>\n",
       "    </tr>\n",
       "  </tbody>\n",
       "</table>\n",
       "<p>74 rows × 7 columns</p>\n",
       "</div>"
      ],
      "text/plain": [
       "    RFV  H2RFV  CONICITY   PLY   LFV   RRO  CAPSPLICE\n",
       "1    46     23       4.5  56.0  13.0  0.77       0.17\n",
       "6    55     35      12.1  51.3  14.7  0.79       0.20\n",
       "72   83      6       9.3  51.0  11.9  1.24       0.21\n",
       "88   32     19      11.0  50.4  15.5  0.47       0.17\n",
       "20   55      7       9.7  49.8  15.1  0.80       0.26\n",
       "..  ...    ...       ...   ...   ...   ...        ...\n",
       "12   40      8       6.8  54.3  14.8  0.51       0.25\n",
       "64  101     46      10.9  52.2  17.3  1.48       0.27\n",
       "46   44     14       8.6  54.1  12.4  0.62       0.24\n",
       "32   40      8      10.9  50.6  14.0  0.68       0.23\n",
       "98   35      6       4.5  50.9  12.4  0.42       0.22\n",
       "\n",
       "[74 rows x 7 columns]"
      ]
     },
     "execution_count": 29,
     "metadata": {},
     "output_type": "execute_result"
    }
   ],
   "source": [
    "X_train"
   ]
  },
  {
   "cell_type": "code",
   "execution_count": 21,
   "metadata": {},
   "outputs": [
    {
     "data": {
      "image/png": "[encoded data removed]",
      "text/plain": [
       "<Figure size 432x288 with 2 Axes>"
      ]
     },
     "metadata": {
      "needs_background": "light"
     },
     "output_type": "display_data"
    }
   ],
   "source": [
    "corrmat = np.triu(X_train.corr(method='pearson'))\n",
    "\n",
    "data_cor = X_train.copy()\n",
    "\n",
    "g = sns.heatmap(data_cor.corr(method='pearson'),cmap=\"coolwarm\",annot=True, mask = corrmat, fmt=\".2f\")"
   ]
  },
  {
   "cell_type": "code",
   "execution_count": 22,
   "metadata": {},
   "outputs": [
    {
     "data": {
      "text/html": [
       "<div>\n",
       "<style scoped>\n",
       "    .dataframe tbody tr th:only-of-type {\n",
       "        vertical-align: middle;\n",
       "    }\n",
       "\n",
       "    .dataframe tbody tr th {\n",
       "        vertical-align: top;\n",
       "    }\n",
       "\n",
       "    .dataframe thead th {\n",
       "        text-align: right;\n",
       "    }\n",
       "</style>\n",
       "<table border=\"1\" class=\"dataframe\">\n",
       "  <thead>\n",
       "    <tr style=\"text-align: right;\">\n",
       "      <th></th>\n",
       "      <th>RFV</th>\n",
       "      <th>H2RFV</th>\n",
       "      <th>CONICITY</th>\n",
       "      <th>PLY</th>\n",
       "      <th>LFV</th>\n",
       "      <th>RRO</th>\n",
       "      <th>CAPSPLICE</th>\n",
       "    </tr>\n",
       "  </thead>\n",
       "  <tbody>\n",
       "    <tr>\n",
       "      <th>RFV</th>\n",
       "      <td>1.000000</td>\n",
       "      <td>0.436974</td>\n",
       "      <td>0.273539</td>\n",
       "      <td>-0.026422</td>\n",
       "      <td>0.036681</td>\n",
       "      <td>0.844144</td>\n",
       "      <td>0.451586</td>\n",
       "    </tr>\n",
       "    <tr>\n",
       "      <th>H2RFV</th>\n",
       "      <td>0.436974</td>\n",
       "      <td>1.000000</td>\n",
       "      <td>0.187352</td>\n",
       "      <td>0.020179</td>\n",
       "      <td>-0.030466</td>\n",
       "      <td>0.305579</td>\n",
       "      <td>0.053039</td>\n",
       "    </tr>\n",
       "    <tr>\n",
       "      <th>CONICITY</th>\n",
       "      <td>0.273539</td>\n",
       "      <td>0.187352</td>\n",
       "      <td>1.000000</td>\n",
       "      <td>-0.100166</td>\n",
       "      <td>-0.065154</td>\n",
       "      <td>0.224127</td>\n",
       "      <td>0.064838</td>\n",
       "    </tr>\n",
       "    <tr>\n",
       "      <th>PLY</th>\n",
       "      <td>-0.026422</td>\n",
       "      <td>0.020179</td>\n",
       "      <td>-0.100166</td>\n",
       "      <td>1.000000</td>\n",
       "      <td>0.065895</td>\n",
       "      <td>-0.110598</td>\n",
       "      <td>-0.108576</td>\n",
       "    </tr>\n",
       "    <tr>\n",
       "      <th>LFV</th>\n",
       "      <td>0.036681</td>\n",
       "      <td>-0.030466</td>\n",
       "      <td>-0.065154</td>\n",
       "      <td>0.065895</td>\n",
       "      <td>1.000000</td>\n",
       "      <td>0.131971</td>\n",
       "      <td>-0.127157</td>\n",
       "    </tr>\n",
       "    <tr>\n",
       "      <th>RRO</th>\n",
       "      <td>0.844144</td>\n",
       "      <td>0.305579</td>\n",
       "      <td>0.224127</td>\n",
       "      <td>-0.110598</td>\n",
       "      <td>0.131971</td>\n",
       "      <td>1.000000</td>\n",
       "      <td>0.534016</td>\n",
       "    </tr>\n",
       "    <tr>\n",
       "      <th>CAPSPLICE</th>\n",
       "      <td>0.451586</td>\n",
       "      <td>0.053039</td>\n",
       "      <td>0.064838</td>\n",
       "      <td>-0.108576</td>\n",
       "      <td>-0.127157</td>\n",
       "      <td>0.534016</td>\n",
       "      <td>1.000000</td>\n",
       "    </tr>\n",
       "  </tbody>\n",
       "</table>\n",
       "</div>"
      ],
      "text/plain": [
       "                RFV     H2RFV  CONICITY       PLY       LFV       RRO  \\\n",
       "RFV        1.000000  0.436974  0.273539 -0.026422  0.036681  0.844144   \n",
       "H2RFV      0.436974  1.000000  0.187352  0.020179 -0.030466  0.305579   \n",
       "CONICITY   0.273539  0.187352  1.000000 -0.100166 -0.065154  0.224127   \n",
       "PLY       -0.026422  0.020179 -0.100166  1.000000  0.065895 -0.110598   \n",
       "LFV        0.036681 -0.030466 -0.065154  0.065895  1.000000  0.131971   \n",
       "RRO        0.844144  0.305579  0.224127 -0.110598  0.131971  1.000000   \n",
       "CAPSPLICE  0.451586  0.053039  0.064838 -0.108576 -0.127157  0.534016   \n",
       "\n",
       "           CAPSPLICE  \n",
       "RFV         0.451586  \n",
       "H2RFV       0.053039  \n",
       "CONICITY    0.064838  \n",
       "PLY        -0.108576  \n",
       "LFV        -0.127157  \n",
       "RRO         0.534016  \n",
       "CAPSPLICE   1.000000  "
      ]
     },
     "execution_count": 22,
     "metadata": {},
     "output_type": "execute_result"
    }
   ],
   "source": [
    "data_cor.corr(method='pearson')"
   ]
  },
  {
   "cell_type": "code",
   "execution_count": 23,
   "metadata": {},
   "outputs": [
    {
     "data": {
      "image/png": "[encoded data removed]",
      "text/plain": [
       "<Figure size 720x720 with 2 Axes>"
      ]
     },
     "metadata": {
      "needs_background": "light"
     },
     "output_type": "display_data"
    }
   ],
   "source": [
    "top_num_features = data_cor.columns.to_list()\n",
    "corrmat = data[top_num_features].corr()\n",
    "\n",
    "plt.figure(figsize=(10,10))\n",
    "sns.heatmap(corrmat);"
   ]
  },
  {
   "cell_type": "markdown",
   "metadata": {},
   "source": [
    "### Mutual information"
   ]
  },
  {
   "cell_type": "code",
   "execution_count": 24,
   "metadata": {},
   "outputs": [],
   "source": [
    "from sklearn.feature_selection import SelectKBest, SelectPercentile, mutual_info_classif"
   ]
  },
  {
   "cell_type": "code",
   "execution_count": 25,
   "metadata": {},
   "outputs": [
    {
     "data": {
      "text/plain": [
       "['RFV', 'H2RFV', 'CONICITY', 'PLY', 'LFV', 'RRO', 'CAPSPLICE']"
      ]
     },
     "execution_count": 25,
     "metadata": {},
     "output_type": "execute_result"
    }
   ],
   "source": [
    "selector = SelectKBest(mutual_info_classif, k=7)\n",
    "X_reduced = selector.fit_transform(X_train, y_train)\n",
    "X_reduced.shape\n",
    "cols = selector.get_support(indices=True)\n",
    "selected_columns = X_train.iloc[:,cols].columns.tolist()\n",
    "selected_columns"
   ]
  },
  {
   "cell_type": "code",
   "execution_count": 26,
   "metadata": {},
   "outputs": [
    {
     "name": "stdout",
     "output_type": "stream",
     "text": [
      "CONICITY 0.25136458331699285\n",
      "RFV 0.206417755554261\n",
      "RRO 0.17028071519608767\n",
      "H2RFV 0.10961494064142419\n",
      "LFV 0.0012659850702467779\n",
      "PLY 0.0\n",
      "CAPSPLICE 0.0\n",
      "Index(['CONICITY', 'RFV', 'RRO', 'H2RFV', 'LFV', 'PLY', 'CAPSPLICE'], dtype='object')\n"
     ]
    }
   ],
   "source": [
    "threshold = 10  # the number of most relevant features\n",
    "high_score_features = []\n",
    "feature_scores = mutual_info_classif(X_train, y_train, random_state=0)\n",
    "for score, f_name in sorted(zip(feature_scores, X_train.columns), reverse=True)[:threshold]:\n",
    "        print(f_name, score)\n",
    "        high_score_features.append(f_name)\n",
    "df_wine_norm_mic = X_train[high_score_features]\n",
    "print(df_wine_norm_mic.columns)"
   ]
  },
  {
   "cell_type": "code",
   "execution_count": 27,
   "metadata": {},
   "outputs": [],
   "source": [
    "def Scatterplot(data, var1, var2, cat):\n",
    "\n",
    "    fig = px.scatter(data, x = var1, y = var2, color =cat, width = 800)\n",
    "    fig.update_traces(marker=dict(size = 12,line = dict(width = 1)),selector=dict(mode = 'markers'))\n",
    "    fig.update_layout(title = 'Scatterplot: ' + var1 + \" vs \" + var2)\n",
    "    fig.update_xaxes(title = var1)\n",
    "    fig.update_yaxes(title = var2)\n",
    "    fig.show()"
   ]
  },
  {
   "cell_type": "code",
   "execution_count": 29,
   "metadata": {},
   "outputs": [
    {
     "data": {
      "application/vnd.plotly.v1+json": {
       "config": {
        "plotlyServerURL": "https://plot.ly"
       },
       "data": [
        {
         "hovertemplate": "RFV=%{x}<br>RRO=%{y}<br>Y=%{marker.color}<extra></extra>",
         "legendgroup": "",
         "marker": {
          "color": [
           0,
           0,
           0,
           0,
           1,
           1,
           0,
           0,
           0,
           0,
           0,
           1,
           1,
           0,
           1,
           1,
           1,
           0,
           1,
           1,
           1,
           0,
           0,
           0,
           0,
           1,
           1,
           1,
           1,
           0,
           1,
           1,
           1,
           1,
           1,
           0,
           0,
           1,
           1,
           0,
           0,
           0,
           0,
           1,
           1,
           1,
           1,
           1,
           1,
           0,
           0,
           1,
           1,
           1,
           1,
           1,
           1,
           1,
           0,
           0,
           1,
           1,
           1,
           1,
           1,
           1,
           1,
           0,
           0,
           0,
           1,
           0,
           1,
           1,
           0,
           0,
           0,
           1,
           0,
           0,
           0
          ],
          "coloraxis": "coloraxis",
          "line": {
           "width": 1
          },
          "size": 12,
          "symbol": "circle"
         },
         "mode": "markers",
         "name": "",
         "orientation": "v",
         "showlegend": false,
         "type": "scatter",
         "x": [
          46,
          35,
          34,
          39,
          55,
          62,
          51,
          51,
          36,
          37,
          40,
          53,
          60,
          60,
          64,
          83,
          58,
          55,
          86,
          46,
          68,
          65,
          46,
          49,
          62,
          69,
          41,
          40,
          78,
          50,
          73,
          80,
          74,
          63,
          69,
          55,
          44,
          80,
          90,
          54,
          56,
          56,
          58,
          66,
          70,
          44,
          72,
          35,
          101,
          55,
          49,
          86,
          45,
          58,
          64,
          83,
          60,
          77,
          36,
          47,
          39,
          87,
          61,
          78,
          46,
          65,
          32,
          58,
          34,
          67,
          83,
          35,
          68,
          81,
          35,
          40,
          34,
          55,
          55,
          52,
          31
         ],
         "xaxis": "x",
         "y": [
          0.77,
          0.6,
          0.5,
          0.51,
          0.79,
          0.82,
          0.84,
          0.7,
          0.67,
          0.74,
          0.51,
          0.69,
          0.91,
          0.62,
          0.99,
          1.05,
          1.13,
          0.8,
          1.11,
          1.05,
          1.07,
          0.79,
          0.78,
          0.59,
          0.67,
          1.01,
          0.46,
          0.68,
          1.2,
          0.62,
          1,
          1,
          1.06,
          1.19,
          0.89,
          0.75,
          0.62,
          1.08,
          1.35,
          0.65,
          0.82,
          0.48,
          0.67,
          0.87,
          0.87,
          0.62,
          0.96,
          0.56,
          1.48,
          0.89,
          0.65,
          1.14,
          0.74,
          1.05,
          0.73,
          1.24,
          0.68,
          1.2,
          0.49,
          0.67,
          0.72,
          1.47,
          0.93,
          0.98,
          0.63,
          1.09,
          0.47,
          0.9,
          0.5,
          0.97,
          1.11,
          0.88,
          0.8,
          1.37,
          0.42,
          0.55,
          0.68,
          0.86,
          0.81,
          0.7,
          0.51
         ],
         "yaxis": "y"
        }
       ],
       "layout": {
        "coloraxis": {
         "colorbar": {
          "title": {
           "text": "Y"
          }
         },
         "colorscale": [
          [
           0,
           "#0d0887"
          ],
          [
           0.1111111111111111,
           "#46039f"
          ],
          [
           0.2222222222222222,
           "#7201a8"
          ],
          [
           0.3333333333333333,
           "#9c179e"
          ],
          [
           0.4444444444444444,
           "#bd3786"
          ],
          [
           0.5555555555555556,
           "#d8576b"
          ],
          [
           0.6666666666666666,
           "#ed7953"
          ],
          [
           0.7777777777777778,
           "#fb9f3a"
          ],
          [
           0.8888888888888888,
           "#fdca26"
          ],
          [
           1,
           "#f0f921"
          ]
         ]
        },
        "legend": {
         "tracegroupgap": 0
        },
        "margin": {
         "t": 60
        },
        "template": {
         "data": {
          "bar": [
           {
            "error_x": {
             "color": "#2a3f5f"
            },
            "error_y": {
             "color": "#2a3f5f"
            },
            "marker": {
             "line": {
              "color": "#E5ECF6",
              "width": 0.5
             },
             "pattern": {
              "fillmode": "overlay",
              "size": 10,
              "solidity": 0.2
             }
            },
            "type": "bar"
           }
          ],
          "barpolar": [
           {
            "marker": {
             "line": {
              "color": "#E5ECF6",
              "width": 0.5
             },
             "pattern": {
              "fillmode": "overlay",
              "size": 10,
              "solidity": 0.2
             }
            },
            "type": "barpolar"
           }
          ],
          "carpet": [
           {
            "aaxis": {
             "endlinecolor": "#2a3f5f",
             "gridcolor": "white",
             "linecolor": "white",
             "minorgridcolor": "white",
             "startlinecolor": "#2a3f5f"
            },
            "baxis": {
             "endlinecolor": "#2a3f5f",
             "gridcolor": "white",
             "linecolor": "white",
             "minorgridcolor": "white",
             "startlinecolor": "#2a3f5f"
            },
            "type": "carpet"
           }
          ],
          "choropleth": [
           {
            "colorbar": {
             "outlinewidth": 0,
             "ticks": ""
            },
            "type": "choropleth"
           }
          ],
          "contour": [
           {
            "colorbar": {
             "outlinewidth": 0,
             "ticks": ""
            },
            "colorscale": [
             [
              0,
              "#0d0887"
             ],
             [
              0.1111111111111111,
              "#46039f"
             ],
             [
              0.2222222222222222,
              "#7201a8"
             ],
             [
              0.3333333333333333,
              "#9c179e"
             ],
             [
              0.4444444444444444,
              "#bd3786"
             ],
             [
              0.5555555555555556,
              "#d8576b"
             ],
             [
              0.6666666666666666,
              "#ed7953"
             ],
             [
              0.7777777777777778,
              "#fb9f3a"
             ],
             [
              0.8888888888888888,
              "#fdca26"
             ],
             [
              1,
              "#f0f921"
             ]
            ],
            "type": "contour"
           }
          ],
          "contourcarpet": [
           {
            "colorbar": {
             "outlinewidth": 0,
             "ticks": ""
            },
            "type": "contourcarpet"
           }
          ],
          "heatmap": [
           {
            "colorbar": {
             "outlinewidth": 0,
             "ticks": ""
            },
            "colorscale": [
             [
              0,
              "#0d0887"
             ],
             [
              0.1111111111111111,
              "#46039f"
             ],
             [
              0.2222222222222222,
              "#7201a8"
             ],
             [
              0.3333333333333333,
              "#9c179e"
             ],
             [
              0.4444444444444444,
              "#bd3786"
             ],
             [
              0.5555555555555556,
              "#d8576b"
             ],
             [
              0.6666666666666666,
              "#ed7953"
             ],
             [
              0.7777777777777778,
              "#fb9f3a"
             ],
             [
              0.8888888888888888,
              "#fdca26"
             ],
             [
              1,
              "#f0f921"
             ]
            ],
            "type": "heatmap"
           }
          ],
          "heatmapgl": [
           {
            "colorbar": {
             "outlinewidth": 0,
             "ticks": ""
            },
            "colorscale": [
             [
              0,
              "#0d0887"
             ],
             [
              0.1111111111111111,
              "#46039f"
             ],
             [
              0.2222222222222222,
              "#7201a8"
             ],
             [
              0.3333333333333333,
              "#9c179e"
             ],
             [
              0.4444444444444444,
              "#bd3786"
             ],
             [
              0.5555555555555556,
              "#d8576b"
             ],
             [
              0.6666666666666666,
              "#ed7953"
             ],
             [
              0.7777777777777778,
              "#fb9f3a"
             ],
             [
              0.8888888888888888,
              "#fdca26"
             ],
             [
              1,
              "#f0f921"
             ]
            ],
            "type": "heatmapgl"
           }
          ],
          "histogram": [
           {
            "marker": {
             "pattern": {
              "fillmode": "overlay",
              "size": 10,
              "solidity": 0.2
             }
            },
            "type": "histogram"
           }
          ],
          "histogram2d": [
           {
            "colorbar": {
             "outlinewidth": 0,
             "ticks": ""
            },
            "colorscale": [
             [
              0,
              "#0d0887"
             ],
             [
              0.1111111111111111,
              "#46039f"
             ],
             [
              0.2222222222222222,
              "#7201a8"
             ],
             [
              0.3333333333333333,
              "#9c179e"
             ],
             [
              0.4444444444444444,
              "#bd3786"
             ],
             [
              0.5555555555555556,
              "#d8576b"
             ],
             [
              0.6666666666666666,
              "#ed7953"
             ],
             [
              0.7777777777777778,
              "#fb9f3a"
             ],
             [
              0.8888888888888888,
              "#fdca26"
             ],
             [
              1,
              "#f0f921"
             ]
            ],
            "type": "histogram2d"
           }
          ],
          "histogram2dcontour": [
           {
            "colorbar": {
             "outlinewidth": 0,
             "ticks": ""
            },
            "colorscale": [
             [
              0,
              "#0d0887"
             ],
             [
              0.1111111111111111,
              "#46039f"
             ],
             [
              0.2222222222222222,
              "#7201a8"
             ],
             [
              0.3333333333333333,
              "#9c179e"
             ],
             [
              0.4444444444444444,
              "#bd3786"
             ],
             [
              0.5555555555555556,
              "#d8576b"
             ],
             [
              0.6666666666666666,
              "#ed7953"
             ],
             [
              0.7777777777777778,
              "#fb9f3a"
             ],
             [
              0.8888888888888888,
              "#fdca26"
             ],
             [
              1,
              "#f0f921"
             ]
            ],
            "type": "histogram2dcontour"
           }
          ],
          "mesh3d": [
           {
            "colorbar": {
             "outlinewidth": 0,
             "ticks": ""
            },
            "type": "mesh3d"
           }
          ],
          "parcoords": [
           {
            "line": {
             "colorbar": {
              "outlinewidth": 0,
              "ticks": ""
             }
            },
            "type": "parcoords"
           }
          ],
          "pie": [
           {
            "automargin": true,
            "type": "pie"
           }
          ],
          "scatter": [
           {
            "fillpattern": {
             "fillmode": "overlay",
             "size": 10,
             "solidity": 0.2
            },
            "type": "scatter"
           }
          ],
          "scatter3d": [
           {
            "line": {
             "colorbar": {
              "outlinewidth": 0,
              "ticks": ""
             }
            },
            "marker": {
             "colorbar": {
              "outlinewidth": 0,
              "ticks": ""
             }
            },
            "type": "scatter3d"
           }
          ],
          "scattercarpet": [
           {
            "marker": {
             "colorbar": {
              "outlinewidth": 0,
              "ticks": ""
             }
            },
            "type": "scattercarpet"
           }
          ],
          "scattergeo": [
           {
            "marker": {
             "colorbar": {
              "outlinewidth": 0,
              "ticks": ""
             }
            },
            "type": "scattergeo"
           }
          ],
          "scattergl": [
           {
            "marker": {
             "colorbar": {
              "outlinewidth": 0,
              "ticks": ""
             }
            },
            "type": "scattergl"
           }
          ],
          "scattermapbox": [
           {
            "marker": {
             "colorbar": {
              "outlinewidth": 0,
              "ticks": ""
             }
            },
            "type": "scattermapbox"
           }
          ],
          "scatterpolar": [
           {
            "marker": {
             "colorbar": {
              "outlinewidth": 0,
              "ticks": ""
             }
            },
            "type": "scatterpolar"
           }
          ],
          "scatterpolargl": [
           {
            "marker": {
             "colorbar": {
              "outlinewidth": 0,
              "ticks": ""
             }
            },
            "type": "scatterpolargl"
           }
          ],
          "scatterternary": [
           {
            "marker": {
             "colorbar": {
              "outlinewidth": 0,
              "ticks": ""
             }
            },
            "type": "scatterternary"
           }
          ],
          "surface": [
           {
            "colorbar": {
             "outlinewidth": 0,
             "ticks": ""
            },
            "colorscale": [
             [
              0,
              "#0d0887"
             ],
             [
              0.1111111111111111,
              "#46039f"
             ],
             [
              0.2222222222222222,
              "#7201a8"
             ],
             [
              0.3333333333333333,
              "#9c179e"
             ],
             [
              0.4444444444444444,
              "#bd3786"
             ],
             [
              0.5555555555555556,
              "#d8576b"
             ],
             [
              0.6666666666666666,
              "#ed7953"
             ],
             [
              0.7777777777777778,
              "#fb9f3a"
             ],
             [
              0.8888888888888888,
              "#fdca26"
             ],
             [
              1,
              "#f0f921"
             ]
            ],
            "type": "surface"
           }
          ],
          "table": [
           {
            "cells": {
             "fill": {
              "color": "#EBF0F8"
             },
             "line": {
              "color": "white"
             }
            },
            "header": {
             "fill": {
              "color": "#C8D4E3"
             },
             "line": {
              "color": "white"
             }
            },
            "type": "table"
           }
          ]
         },
         "layout": {
          "annotationdefaults": {
           "arrowcolor": "#2a3f5f",
           "arrowhead": 0,
           "arrowwidth": 1
          },
          "autotypenumbers": "strict",
          "coloraxis": {
           "colorbar": {
            "outlinewidth": 0,
            "ticks": ""
           }
          },
          "colorscale": {
           "diverging": [
            [
             0,
             "#8e0152"
            ],
            [
             0.1,
             "#c51b7d"
            ],
            [
             0.2,
             "#de77ae"
            ],
            [
             0.3,
             "#f1b6da"
            ],
            [
             0.4,
             "#fde0ef"
            ],
            [
             0.5,
             "#f7f7f7"
            ],
            [
             0.6,
             "#e6f5d0"
            ],
            [
             0.7,
             "#b8e186"
            ],
            [
             0.8,
             "#7fbc41"
            ],
            [
             0.9,
             "#4d9221"
            ],
            [
             1,
             "#276419"
            ]
           ],
           "sequential": [
            [
             0,
             "#0d0887"
            ],
            [
             0.1111111111111111,
             "#46039f"
            ],
            [
             0.2222222222222222,
             "#7201a8"
            ],
            [
             0.3333333333333333,
             "#9c179e"
            ],
            [
             0.4444444444444444,
             "#bd3786"
            ],
            [
             0.5555555555555556,
             "#d8576b"
            ],
            [
             0.6666666666666666,
             "#ed7953"
            ],
            [
             0.7777777777777778,
             "#fb9f3a"
            ],
            [
             0.8888888888888888,
             "#fdca26"
            ],
            [
             1,
             "#f0f921"
            ]
           ],
           "sequentialminus": [
            [
             0,
             "#0d0887"
            ],
            [
             0.1111111111111111,
             "#46039f"
            ],
            [
             0.2222222222222222,
             "#7201a8"
            ],
            [
             0.3333333333333333,
             "#9c179e"
            ],
            [
             0.4444444444444444,
             "#bd3786"
            ],
            [
             0.5555555555555556,
             "#d8576b"
            ],
            [
             0.6666666666666666,
             "#ed7953"
            ],
            [
             0.7777777777777778,
             "#fb9f3a"
            ],
            [
             0.8888888888888888,
             "#fdca26"
            ],
            [
             1,
             "#f0f921"
            ]
           ]
          },
          "colorway": [
           "#636efa",
           "#EF553B",
           "#00cc96",
           "#ab63fa",
           "#FFA15A",
           "#19d3f3",
           "#FF6692",
           "#B6E880",
           "#FF97FF",
           "#FECB52"
          ],
          "font": {
           "color": "#2a3f5f"
          },
          "geo": {
           "bgcolor": "white",
           "lakecolor": "white",
           "landcolor": "#E5ECF6",
           "showlakes": true,
           "showland": true,
           "subunitcolor": "white"
          },
          "hoverlabel": {
           "align": "left"
          },
          "hovermode": "closest",
          "mapbox": {
           "style": "light"
          },
          "paper_bgcolor": "white",
          "plot_bgcolor": "#E5ECF6",
          "polar": {
           "angularaxis": {
            "gridcolor": "white",
            "linecolor": "white",
            "ticks": ""
           },
           "bgcolor": "#E5ECF6",
           "radialaxis": {
            "gridcolor": "white",
            "linecolor": "white",
            "ticks": ""
           }
          },
          "scene": {
           "xaxis": {
            "backgroundcolor": "#E5ECF6",
            "gridcolor": "white",
            "gridwidth": 2,
            "linecolor": "white",
            "showbackground": true,
            "ticks": "",
            "zerolinecolor": "white"
           },
           "yaxis": {
            "backgroundcolor": "#E5ECF6",
            "gridcolor": "white",
            "gridwidth": 2,
            "linecolor": "white",
            "showbackground": true,
            "ticks": "",
            "zerolinecolor": "white"
           },
           "zaxis": {
            "backgroundcolor": "#E5ECF6",
            "gridcolor": "white",
            "gridwidth": 2,
            "linecolor": "white",
            "showbackground": true,
            "ticks": "",
            "zerolinecolor": "white"
           }
          },
          "shapedefaults": {
           "line": {
            "color": "#2a3f5f"
           }
          },
          "ternary": {
           "aaxis": {
            "gridcolor": "white",
            "linecolor": "white",
            "ticks": ""
           },
           "baxis": {
            "gridcolor": "white",
            "linecolor": "white",
            "ticks": ""
           },
           "bgcolor": "#E5ECF6",
           "caxis": {
            "gridcolor": "white",
            "linecolor": "white",
            "ticks": ""
           }
          },
          "title": {
           "x": 0.05
          },
          "xaxis": {
           "automargin": true,
           "gridcolor": "white",
           "linecolor": "white",
           "ticks": "",
           "title": {
            "standoff": 15
           },
           "zerolinecolor": "white",
           "zerolinewidth": 2
          },
          "yaxis": {
           "automargin": true,
           "gridcolor": "white",
           "linecolor": "white",
           "ticks": "",
           "title": {
            "standoff": 15
           },
           "zerolinecolor": "white",
           "zerolinewidth": 2
          }
         }
        },
        "title": {
         "text": "Scatterplot: RFV vs RRO"
        },
        "width": 800,
        "xaxis": {
         "anchor": "y",
         "domain": [
          0,
          1
         ],
         "title": {
          "text": "RFV"
         }
        },
        "yaxis": {
         "anchor": "x",
         "domain": [
          0,
          1
         ],
         "title": {
          "text": "RRO"
         }
        }
       }
      }
     },
     "metadata": {},
     "output_type": "display_data"
    }
   ],
   "source": [
    "Scatterplot(data, \"RFV\", \"RRO\",  \"Y\")"
   ]
  },
  {
   "cell_type": "code",
   "execution_count": 30,
   "metadata": {},
   "outputs": [
    {
     "data": {
      "image/png": "[encoded data removed]",
      "text/plain": [
       "<Figure size 1302.38x1260 with 56 Axes>"
      ]
     },
     "metadata": {
      "needs_background": "light"
     },
     "output_type": "display_data"
    }
   ],
   "source": [
    "g = sns.pairplot(data, hue=\"Y\", palette=\"Set2\", diag_kind=\"kde\", height=2.5)"
   ]
  },
  {
   "cell_type": "code",
   "execution_count": 8,
   "metadata": {},
   "outputs": [
    {
     "data": {
      "application/vnd.plotly.v1+json": {
       "config": {
        "plotlyServerURL": "https://plot.ly"
       },
       "data": [
        {
         "hovertemplate": "H2RFV=%{x}<br>CONICITY=%{y}<br>RRO=%{z}<br>Y=%{marker.color}<extra></extra>",
         "legendgroup": "",
         "marker": {
          "color": [
           0,
           0,
           0,
           0,
           1,
           1,
           0,
           0,
           0,
           0,
           0,
           1,
           1,
           0,
           1,
           1,
           1,
           0,
           1,
           1,
           1,
           0,
           0,
           0,
           0,
           1,
           1,
           1,
           1,
           0,
           1,
           1,
           1,
           1,
           1,
           0,
           0,
           1,
           1,
           0,
           0,
           0,
           0,
           1,
           1,
           1,
           1,
           1,
           1,
           0,
           0,
           1,
           1,
           1,
           1,
           1,
           1,
           1,
           0,
           0,
           1,
           1,
           1,
           1,
           1,
           1,
           1,
           0,
           0,
           0,
           1,
           0,
           1,
           1,
           0,
           0,
           0,
           1,
           0,
           0,
           0
          ],
          "coloraxis": "coloraxis",
          "symbol": "circle"
         },
         "mode": "markers",
         "name": "",
         "scene": "scene",
         "showlegend": false,
         "type": "scatter3d",
         "x": [
          23,
          6,
          2,
          22,
          35,
          15,
          19,
          24,
          20,
          7,
          8,
          16,
          30,
          23,
          29,
          19,
          23,
          7,
          22,
          27,
          17,
          19,
          7,
          22,
          3,
          20,
          16,
          8,
          21,
          18,
          28,
          42,
          23,
          27,
          27,
          17,
          14,
          32,
          22,
          16,
          25,
          16,
          14,
          29,
          31,
          24,
          4,
          13,
          46,
          21,
          23,
          18,
          15,
          21,
          39,
          6,
          30,
          16,
          24,
          21,
          10,
          12,
          16,
          32,
          23,
          22,
          19,
          13,
          13,
          10,
          34,
          5,
          30,
          17,
          6,
          19,
          11,
          34,
          10,
          25,
          7
         ],
         "y": [
          4.5,
          6.4,
          8,
          9.4,
          12.1,
          10.6,
          7.2,
          8.5,
          7.7,
          8.2,
          6.8,
          10.8,
          6.9,
          7.5,
          6.8,
          8.5,
          7.8,
          9.7,
          9.3,
          7.2,
          9.6,
          6.3,
          9.8,
          8.2,
          9.9,
          10.7,
          11.2,
          10.9,
          6.8,
          7.1,
          7.8,
          12.4,
          6.5,
          10.3,
          9.4,
          6.7,
          8.6,
          9.8,
          8.1,
          7.7,
          7,
          7.9,
          7,
          11.4,
          8.8,
          12.2,
          9.9,
          10.2,
          10.9,
          8.4,
          8.3,
          10.4,
          12.9,
          11.2,
          9.2,
          9.3,
          13.2,
          13,
          4.7,
          9.9,
          10.8,
          10.3,
          11.6,
          9.3,
          11.2,
          10.9,
          11,
          8.1,
          7.5,
          6.4,
          10.9,
          6.1,
          8.5,
          9.6,
          4.5,
          7.7,
          5.7,
          7.3,
          9.5,
          6.9,
          7.1
         ],
         "z": [
          0.77,
          0.6,
          0.5,
          0.51,
          0.79,
          0.82,
          0.84,
          0.7,
          0.67,
          0.74,
          0.51,
          0.69,
          0.91,
          0.62,
          0.99,
          1.05,
          1.13,
          0.8,
          1.11,
          1.05,
          1.07,
          0.79,
          0.78,
          0.59,
          0.67,
          1.01,
          0.46,
          0.68,
          1.2,
          0.62,
          1,
          1,
          1.06,
          1.19,
          0.89,
          0.75,
          0.62,
          1.08,
          1.35,
          0.65,
          0.82,
          0.48,
          0.67,
          0.87,
          0.87,
          0.62,
          0.96,
          0.56,
          1.48,
          0.89,
          0.65,
          1.14,
          0.74,
          1.05,
          0.73,
          1.24,
          0.68,
          1.2,
          0.49,
          0.67,
          0.72,
          1.47,
          0.93,
          0.98,
          0.63,
          1.09,
          0.47,
          0.9,
          0.5,
          0.97,
          1.11,
          0.88,
          0.8,
          1.37,
          0.42,
          0.55,
          0.68,
          0.86,
          0.81,
          0.7,
          0.51
         ]
        }
       ],
       "layout": {
        "coloraxis": {
         "colorbar": {
          "title": {
           "text": "Y"
          }
         },
         "colorscale": [
          [
           0,
           "#0d0887"
          ],
          [
           0.1111111111111111,
           "#46039f"
          ],
          [
           0.2222222222222222,
           "#7201a8"
          ],
          [
           0.3333333333333333,
           "#9c179e"
          ],
          [
           0.4444444444444444,
           "#bd3786"
          ],
          [
           0.5555555555555556,
           "#d8576b"
          ],
          [
           0.6666666666666666,
           "#ed7953"
          ],
          [
           0.7777777777777778,
           "#fb9f3a"
          ],
          [
           0.8888888888888888,
           "#fdca26"
          ],
          [
           1,
           "#f0f921"
          ]
         ]
        },
        "legend": {
         "tracegroupgap": 0
        },
        "margin": {
         "t": 60
        },
        "scene": {
         "domain": {
          "x": [
           0,
           1
          ],
          "y": [
           0,
           1
          ]
         },
         "xaxis": {
          "title": {
           "text": "H2RFV"
          }
         },
         "yaxis": {
          "title": {
           "text": "CONICITY"
          }
         },
         "zaxis": {
          "title": {
           "text": "RRO"
          }
         }
        },
        "template": {
         "data": {
          "bar": [
           {
            "error_x": {
             "color": "#2a3f5f"
            },
            "error_y": {
             "color": "#2a3f5f"
            },
            "marker": {
             "line": {
              "color": "#E5ECF6",
              "width": 0.5
             },
             "pattern": {
              "fillmode": "overlay",
              "size": 10,
              "solidity": 0.2
             }
            },
            "type": "bar"
           }
          ],
          "barpolar": [
           {
            "marker": {
             "line": {
              "color": "#E5ECF6",
              "width": 0.5
             },
             "pattern": {
              "fillmode": "overlay",
              "size": 10,
              "solidity": 0.2
             }
            },
            "type": "barpolar"
           }
          ],
          "carpet": [
           {
            "aaxis": {
             "endlinecolor": "#2a3f5f",
             "gridcolor": "white",
             "linecolor": "white",
             "minorgridcolor": "white",
             "startlinecolor": "#2a3f5f"
            },
            "baxis": {
             "endlinecolor": "#2a3f5f",
             "gridcolor": "white",
             "linecolor": "white",
             "minorgridcolor": "white",
             "startlinecolor": "#2a3f5f"
            },
            "type": "carpet"
           }
          ],
          "choropleth": [
           {
            "colorbar": {
             "outlinewidth": 0,
             "ticks": ""
            },
            "type": "choropleth"
           }
          ],
          "contour": [
           {
            "colorbar": {
             "outlinewidth": 0,
             "ticks": ""
            },
            "colorscale": [
             [
              0,
              "#0d0887"
             ],
             [
              0.1111111111111111,
              "#46039f"
             ],
             [
              0.2222222222222222,
              "#7201a8"
             ],
             [
              0.3333333333333333,
              "#9c179e"
             ],
             [
              0.4444444444444444,
              "#bd3786"
             ],
             [
              0.5555555555555556,
              "#d8576b"
             ],
             [
              0.6666666666666666,
              "#ed7953"
             ],
             [
              0.7777777777777778,
              "#fb9f3a"
             ],
             [
              0.8888888888888888,
              "#fdca26"
             ],
             [
              1,
              "#f0f921"
             ]
            ],
            "type": "contour"
           }
          ],
          "contourcarpet": [
           {
            "colorbar": {
             "outlinewidth": 0,
             "ticks": ""
            },
            "type": "contourcarpet"
           }
          ],
          "heatmap": [
           {
            "colorbar": {
             "outlinewidth": 0,
             "ticks": ""
            },
            "colorscale": [
             [
              0,
              "#0d0887"
             ],
             [
              0.1111111111111111,
              "#46039f"
             ],
             [
              0.2222222222222222,
              "#7201a8"
             ],
             [
              0.3333333333333333,
              "#9c179e"
             ],
             [
              0.4444444444444444,
              "#bd3786"
             ],
             [
              0.5555555555555556,
              "#d8576b"
             ],
             [
              0.6666666666666666,
              "#ed7953"
             ],
             [
              0.7777777777777778,
              "#fb9f3a"
             ],
             [
              0.8888888888888888,
              "#fdca26"
             ],
             [
              1,
              "#f0f921"
             ]
            ],
            "type": "heatmap"
           }
          ],
          "heatmapgl": [
           {
            "colorbar": {
             "outlinewidth": 0,
             "ticks": ""
            },
            "colorscale": [
             [
              0,
              "#0d0887"
             ],
             [
              0.1111111111111111,
              "#46039f"
             ],
             [
              0.2222222222222222,
              "#7201a8"
             ],
             [
              0.3333333333333333,
              "#9c179e"
             ],
             [
              0.4444444444444444,
              "#bd3786"
             ],
             [
              0.5555555555555556,
              "#d8576b"
             ],
             [
              0.6666666666666666,
              "#ed7953"
             ],
             [
              0.7777777777777778,
              "#fb9f3a"
             ],
             [
              0.8888888888888888,
              "#fdca26"
             ],
             [
              1,
              "#f0f921"
             ]
            ],
            "type": "heatmapgl"
           }
          ],
          "histogram": [
           {
            "marker": {
             "pattern": {
              "fillmode": "overlay",
              "size": 10,
              "solidity": 0.2
             }
            },
            "type": "histogram"
           }
          ],
          "histogram2d": [
           {
            "colorbar": {
             "outlinewidth": 0,
             "ticks": ""
            },
            "colorscale": [
             [
              0,
              "#0d0887"
             ],
             [
              0.1111111111111111,
              "#46039f"
             ],
             [
              0.2222222222222222,
              "#7201a8"
             ],
             [
              0.3333333333333333,
              "#9c179e"
             ],
             [
              0.4444444444444444,
              "#bd3786"
             ],
             [
              0.5555555555555556,
              "#d8576b"
             ],
             [
              0.6666666666666666,
              "#ed7953"
             ],
             [
              0.7777777777777778,
              "#fb9f3a"
             ],
             [
              0.8888888888888888,
              "#fdca26"
             ],
             [
              1,
              "#f0f921"
             ]
            ],
            "type": "histogram2d"
           }
          ],
          "histogram2dcontour": [
           {
            "colorbar": {
             "outlinewidth": 0,
             "ticks": ""
            },
            "colorscale": [
             [
              0,
              "#0d0887"
             ],
             [
              0.1111111111111111,
              "#46039f"
             ],
             [
              0.2222222222222222,
              "#7201a8"
             ],
             [
              0.3333333333333333,
              "#9c179e"
             ],
             [
              0.4444444444444444,
              "#bd3786"
             ],
             [
              0.5555555555555556,
              "#d8576b"
             ],
             [
              0.6666666666666666,
              "#ed7953"
             ],
             [
              0.7777777777777778,
              "#fb9f3a"
             ],
             [
              0.8888888888888888,
              "#fdca26"
             ],
             [
              1,
              "#f0f921"
             ]
            ],
            "type": "histogram2dcontour"
           }
          ],
          "mesh3d": [
           {
            "colorbar": {
             "outlinewidth": 0,
             "ticks": ""
            },
            "type": "mesh3d"
           }
          ],
          "parcoords": [
           {
            "line": {
             "colorbar": {
              "outlinewidth": 0,
              "ticks": ""
             }
            },
            "type": "parcoords"
           }
          ],
          "pie": [
           {
            "automargin": true,
            "type": "pie"
           }
          ],
          "scatter": [
           {
            "fillpattern": {
             "fillmode": "overlay",
             "size": 10,
             "solidity": 0.2
            },
            "type": "scatter"
           }
          ],
          "scatter3d": [
           {
            "line": {
             "colorbar": {
              "outlinewidth": 0,
              "ticks": ""
             }
            },
            "marker": {
             "colorbar": {
              "outlinewidth": 0,
              "ticks": ""
             }
            },
            "type": "scatter3d"
           }
          ],
          "scattercarpet": [
           {
            "marker": {
             "colorbar": {
              "outlinewidth": 0,
              "ticks": ""
             }
            },
            "type": "scattercarpet"
           }
          ],
          "scattergeo": [
           {
            "marker": {
             "colorbar": {
              "outlinewidth": 0,
              "ticks": ""
             }
            },
            "type": "scattergeo"
           }
          ],
          "scattergl": [
           {
            "marker": {
             "colorbar": {
              "outlinewidth": 0,
              "ticks": ""
             }
            },
            "type": "scattergl"
           }
          ],
          "scattermapbox": [
           {
            "marker": {
             "colorbar": {
              "outlinewidth": 0,
              "ticks": ""
             }
            },
            "type": "scattermapbox"
           }
          ],
          "scatterpolar": [
           {
            "marker": {
             "colorbar": {
              "outlinewidth": 0,
              "ticks": ""
             }
            },
            "type": "scatterpolar"
           }
          ],
          "scatterpolargl": [
           {
            "marker": {
             "colorbar": {
              "outlinewidth": 0,
              "ticks": ""
             }
            },
            "type": "scatterpolargl"
           }
          ],
          "scatterternary": [
           {
            "marker": {
             "colorbar": {
              "outlinewidth": 0,
              "ticks": ""
             }
            },
            "type": "scatterternary"
           }
          ],
          "surface": [
           {
            "colorbar": {
             "outlinewidth": 0,
             "ticks": ""
            },
            "colorscale": [
             [
              0,
              "#0d0887"
             ],
             [
              0.1111111111111111,
              "#46039f"
             ],
             [
              0.2222222222222222,
              "#7201a8"
             ],
             [
              0.3333333333333333,
              "#9c179e"
             ],
             [
              0.4444444444444444,
              "#bd3786"
             ],
             [
              0.5555555555555556,
              "#d8576b"
             ],
             [
              0.6666666666666666,
              "#ed7953"
             ],
             [
              0.7777777777777778,
              "#fb9f3a"
             ],
             [
              0.8888888888888888,
              "#fdca26"
             ],
             [
              1,
              "#f0f921"
             ]
            ],
            "type": "surface"
           }
          ],
          "table": [
           {
            "cells": {
             "fill": {
              "color": "#EBF0F8"
             },
             "line": {
              "color": "white"
             }
            },
            "header": {
             "fill": {
              "color": "#C8D4E3"
             },
             "line": {
              "color": "white"
             }
            },
            "type": "table"
           }
          ]
         },
         "layout": {
          "annotationdefaults": {
           "arrowcolor": "#2a3f5f",
           "arrowhead": 0,
           "arrowwidth": 1
          },
          "autotypenumbers": "strict",
          "coloraxis": {
           "colorbar": {
            "outlinewidth": 0,
            "ticks": ""
           }
          },
          "colorscale": {
           "diverging": [
            [
             0,
             "#8e0152"
            ],
            [
             0.1,
             "#c51b7d"
            ],
            [
             0.2,
             "#de77ae"
            ],
            [
             0.3,
             "#f1b6da"
            ],
            [
             0.4,
             "#fde0ef"
            ],
            [
             0.5,
             "#f7f7f7"
            ],
            [
             0.6,
             "#e6f5d0"
            ],
            [
             0.7,
             "#b8e186"
            ],
            [
             0.8,
             "#7fbc41"
            ],
            [
             0.9,
             "#4d9221"
            ],
            [
             1,
             "#276419"
            ]
           ],
           "sequential": [
            [
             0,
             "#0d0887"
            ],
            [
             0.1111111111111111,
             "#46039f"
            ],
            [
             0.2222222222222222,
             "#7201a8"
            ],
            [
             0.3333333333333333,
             "#9c179e"
            ],
            [
             0.4444444444444444,
             "#bd3786"
            ],
            [
             0.5555555555555556,
             "#d8576b"
            ],
            [
             0.6666666666666666,
             "#ed7953"
            ],
            [
             0.7777777777777778,
             "#fb9f3a"
            ],
            [
             0.8888888888888888,
             "#fdca26"
            ],
            [
             1,
             "#f0f921"
            ]
           ],
           "sequentialminus": [
            [
             0,
             "#0d0887"
            ],
            [
             0.1111111111111111,
             "#46039f"
            ],
            [
             0.2222222222222222,
             "#7201a8"
            ],
            [
             0.3333333333333333,
             "#9c179e"
            ],
            [
             0.4444444444444444,
             "#bd3786"
            ],
            [
             0.5555555555555556,
             "#d8576b"
            ],
            [
             0.6666666666666666,
             "#ed7953"
            ],
            [
             0.7777777777777778,
             "#fb9f3a"
            ],
            [
             0.8888888888888888,
             "#fdca26"
            ],
            [
             1,
             "#f0f921"
            ]
           ]
          },
          "colorway": [
           "#636efa",
           "#EF553B",
           "#00cc96",
           "#ab63fa",
           "#FFA15A",
           "#19d3f3",
           "#FF6692",
           "#B6E880",
           "#FF97FF",
           "#FECB52"
          ],
          "font": {
           "color": "#2a3f5f"
          },
          "geo": {
           "bgcolor": "white",
           "lakecolor": "white",
           "landcolor": "#E5ECF6",
           "showlakes": true,
           "showland": true,
           "subunitcolor": "white"
          },
          "hoverlabel": {
           "align": "left"
          },
          "hovermode": "closest",
          "mapbox": {
           "style": "light"
          },
          "paper_bgcolor": "white",
          "plot_bgcolor": "#E5ECF6",
          "polar": {
           "angularaxis": {
            "gridcolor": "white",
            "linecolor": "white",
            "ticks": ""
           },
           "bgcolor": "#E5ECF6",
           "radialaxis": {
            "gridcolor": "white",
            "linecolor": "white",
            "ticks": ""
           }
          },
          "scene": {
           "xaxis": {
            "backgroundcolor": "#E5ECF6",
            "gridcolor": "white",
            "gridwidth": 2,
            "linecolor": "white",
            "showbackground": true,
            "ticks": "",
            "zerolinecolor": "white"
           },
           "yaxis": {
            "backgroundcolor": "#E5ECF6",
            "gridcolor": "white",
            "gridwidth": 2,
            "linecolor": "white",
            "showbackground": true,
            "ticks": "",
            "zerolinecolor": "white"
           },
           "zaxis": {
            "backgroundcolor": "#E5ECF6",
            "gridcolor": "white",
            "gridwidth": 2,
            "linecolor": "white",
            "showbackground": true,
            "ticks": "",
            "zerolinecolor": "white"
           }
          },
          "shapedefaults": {
           "line": {
            "color": "#2a3f5f"
           }
          },
          "ternary": {
           "aaxis": {
            "gridcolor": "white",
            "linecolor": "white",
            "ticks": ""
           },
           "baxis": {
            "gridcolor": "white",
            "linecolor": "white",
            "ticks": ""
           },
           "bgcolor": "#E5ECF6",
           "caxis": {
            "gridcolor": "white",
            "linecolor": "white",
            "ticks": ""
           }
          },
          "title": {
           "x": 0.05
          },
          "xaxis": {
           "automargin": true,
           "gridcolor": "white",
           "linecolor": "white",
           "ticks": "",
           "title": {
            "standoff": 15
           },
           "zerolinecolor": "white",
           "zerolinewidth": 2
          },
          "yaxis": {
           "automargin": true,
           "gridcolor": "white",
           "linecolor": "white",
           "ticks": "",
           "title": {
            "standoff": 15
           },
           "zerolinecolor": "white",
           "zerolinewidth": 2
          }
         }
        }
       }
      }
     },
     "metadata": {},
     "output_type": "display_data"
    }
   ],
   "source": [
    "fig = px.scatter_3d(data, x=\"H2RFV\", y=\"CONICITY\",z=\"RRO\",\n",
    "                    color= \"Y\")\n",
    "\n",
    "fig.show()"
   ]
  },
  {
   "cell_type": "code",
   "execution_count": 9,
   "metadata": {},
   "outputs": [
    {
     "data": {
      "application/vnd.plotly.v1+json": {
       "config": {
        "plotlyServerURL": "https://plot.ly"
       },
       "data": [
        {
         "hovertemplate": "H2RFV=%{x}<br>CONICITY=%{y}<br>RFV=%{z}<br>Y=%{marker.color}<extra></extra>",
         "legendgroup": "",
         "marker": {
          "color": [
           0,
           0,
           0,
           0,
           1,
           1,
           0,
           0,
           0,
           0,
           0,
           1,
           1,
           0,
           1,
           1,
           1,
           0,
           1,
           1,
           1,
           0,
           0,
           0,
           0,
           1,
           1,
           1,
           1,
           0,
           1,
           1,
           1,
           1,
           1,
           0,
           0,
           1,
           1,
           0,
           0,
           0,
           0,
           1,
           1,
           1,
           1,
           1,
           1,
           0,
           0,
           1,
           1,
           1,
           1,
           1,
           1,
           1,
           0,
           0,
           1,
           1,
           1,
           1,
           1,
           1,
           1,
           0,
           0,
           0,
           1,
           0,
           1,
           1,
           0,
           0,
           0,
           1,
           0,
           0,
           0
          ],
          "coloraxis": "coloraxis",
          "symbol": "circle"
         },
         "mode": "markers",
         "name": "",
         "scene": "scene",
         "showlegend": false,
         "type": "scatter3d",
         "x": [
          23,
          6,
          2,
          22,
          35,
          15,
          19,
          24,
          20,
          7,
          8,
          16,
          30,
          23,
          29,
          19,
          23,
          7,
          22,
          27,
          17,
          19,
          7,
          22,
          3,
          20,
          16,
          8,
          21,
          18,
          28,
          42,
          23,
          27,
          27,
          17,
          14,
          32,
          22,
          16,
          25,
          16,
          14,
          29,
          31,
          24,
          4,
          13,
          46,
          21,
          23,
          18,
          15,
          21,
          39,
          6,
          30,
          16,
          24,
          21,
          10,
          12,
          16,
          32,
          23,
          22,
          19,
          13,
          13,
          10,
          34,
          5,
          30,
          17,
          6,
          19,
          11,
          34,
          10,
          25,
          7
         ],
         "y": [
          4.5,
          6.4,
          8,
          9.4,
          12.1,
          10.6,
          7.2,
          8.5,
          7.7,
          8.2,
          6.8,
          10.8,
          6.9,
          7.5,
          6.8,
          8.5,
          7.8,
          9.7,
          9.3,
          7.2,
          9.6,
          6.3,
          9.8,
          8.2,
          9.9,
          10.7,
          11.2,
          10.9,
          6.8,
          7.1,
          7.8,
          12.4,
          6.5,
          10.3,
          9.4,
          6.7,
          8.6,
          9.8,
          8.1,
          7.7,
          7,
          7.9,
          7,
          11.4,
          8.8,
          12.2,
          9.9,
          10.2,
          10.9,
          8.4,
          8.3,
          10.4,
          12.9,
          11.2,
          9.2,
          9.3,
          13.2,
          13,
          4.7,
          9.9,
          10.8,
          10.3,
          11.6,
          9.3,
          11.2,
          10.9,
          11,
          8.1,
          7.5,
          6.4,
          10.9,
          6.1,
          8.5,
          9.6,
          4.5,
          7.7,
          5.7,
          7.3,
          9.5,
          6.9,
          7.1
         ],
         "z": [
          46,
          35,
          34,
          39,
          55,
          62,
          51,
          51,
          36,
          37,
          40,
          53,
          60,
          60,
          64,
          83,
          58,
          55,
          86,
          46,
          68,
          65,
          46,
          49,
          62,
          69,
          41,
          40,
          78,
          50,
          73,
          80,
          74,
          63,
          69,
          55,
          44,
          80,
          90,
          54,
          56,
          56,
          58,
          66,
          70,
          44,
          72,
          35,
          101,
          55,
          49,
          86,
          45,
          58,
          64,
          83,
          60,
          77,
          36,
          47,
          39,
          87,
          61,
          78,
          46,
          65,
          32,
          58,
          34,
          67,
          83,
          35,
          68,
          81,
          35,
          40,
          34,
          55,
          55,
          52,
          31
         ]
        }
       ],
       "layout": {
        "coloraxis": {
         "colorbar": {
          "title": {
           "text": "Y"
          }
         },
         "colorscale": [
          [
           0,
           "#0d0887"
          ],
          [
           0.1111111111111111,
           "#46039f"
          ],
          [
           0.2222222222222222,
           "#7201a8"
          ],
          [
           0.3333333333333333,
           "#9c179e"
          ],
          [
           0.4444444444444444,
           "#bd3786"
          ],
          [
           0.5555555555555556,
           "#d8576b"
          ],
          [
           0.6666666666666666,
           "#ed7953"
          ],
          [
           0.7777777777777778,
           "#fb9f3a"
          ],
          [
           0.8888888888888888,
           "#fdca26"
          ],
          [
           1,
           "#f0f921"
          ]
         ]
        },
        "legend": {
         "tracegroupgap": 0
        },
        "margin": {
         "t": 60
        },
        "scene": {
         "domain": {
          "x": [
           0,
           1
          ],
          "y": [
           0,
           1
          ]
         },
         "xaxis": {
          "title": {
           "text": "H2RFV"
          }
         },
         "yaxis": {
          "title": {
           "text": "CONICITY"
          }
         },
         "zaxis": {
          "title": {
           "text": "RFV"
          }
         }
        },
        "template": {
         "data": {
          "bar": [
           {
            "error_x": {
             "color": "#2a3f5f"
            },
            "error_y": {
             "color": "#2a3f5f"
            },
            "marker": {
             "line": {
              "color": "#E5ECF6",
              "width": 0.5
             },
             "pattern": {
              "fillmode": "overlay",
              "size": 10,
              "solidity": 0.2
             }
            },
            "type": "bar"
           }
          ],
          "barpolar": [
           {
            "marker": {
             "line": {
              "color": "#E5ECF6",
              "width": 0.5
             },
             "pattern": {
              "fillmode": "overlay",
              "size": 10,
              "solidity": 0.2
             }
            },
            "type": "barpolar"
           }
          ],
          "carpet": [
           {
            "aaxis": {
             "endlinecolor": "#2a3f5f",
             "gridcolor": "white",
             "linecolor": "white",
             "minorgridcolor": "white",
             "startlinecolor": "#2a3f5f"
            },
            "baxis": {
             "endlinecolor": "#2a3f5f",
             "gridcolor": "white",
             "linecolor": "white",
             "minorgridcolor": "white",
             "startlinecolor": "#2a3f5f"
            },
            "type": "carpet"
           }
          ],
          "choropleth": [
           {
            "colorbar": {
             "outlinewidth": 0,
             "ticks": ""
            },
            "type": "choropleth"
           }
          ],
          "contour": [
           {
            "colorbar": {
             "outlinewidth": 0,
             "ticks": ""
            },
            "colorscale": [
             [
              0,
              "#0d0887"
             ],
             [
              0.1111111111111111,
              "#46039f"
             ],
             [
              0.2222222222222222,
              "#7201a8"
             ],
             [
              0.3333333333333333,
              "#9c179e"
             ],
             [
              0.4444444444444444,
              "#bd3786"
             ],
             [
              0.5555555555555556,
              "#d8576b"
             ],
             [
              0.6666666666666666,
              "#ed7953"
             ],
             [
              0.7777777777777778,
              "#fb9f3a"
             ],
             [
              0.8888888888888888,
              "#fdca26"
             ],
             [
              1,
              "#f0f921"
             ]
            ],
            "type": "contour"
           }
          ],
          "contourcarpet": [
           {
            "colorbar": {
             "outlinewidth": 0,
             "ticks": ""
            },
            "type": "contourcarpet"
           }
          ],
          "heatmap": [
           {
            "colorbar": {
             "outlinewidth": 0,
             "ticks": ""
            },
            "colorscale": [
             [
              0,
              "#0d0887"
             ],
             [
              0.1111111111111111,
              "#46039f"
             ],
             [
              0.2222222222222222,
              "#7201a8"
             ],
             [
              0.3333333333333333,
              "#9c179e"
             ],
             [
              0.4444444444444444,
              "#bd3786"
             ],
             [
              0.5555555555555556,
              "#d8576b"
             ],
             [
              0.6666666666666666,
              "#ed7953"
             ],
             [
              0.7777777777777778,
              "#fb9f3a"
             ],
             [
              0.8888888888888888,
              "#fdca26"
             ],
             [
              1,
              "#f0f921"
             ]
            ],
            "type": "heatmap"
           }
          ],
          "heatmapgl": [
           {
            "colorbar": {
             "outlinewidth": 0,
             "ticks": ""
            },
            "colorscale": [
             [
              0,
              "#0d0887"
             ],
             [
              0.1111111111111111,
              "#46039f"
             ],
             [
              0.2222222222222222,
              "#7201a8"
             ],
             [
              0.3333333333333333,
              "#9c179e"
             ],
             [
              0.4444444444444444,
              "#bd3786"
             ],
             [
              0.5555555555555556,
              "#d8576b"
             ],
             [
              0.6666666666666666,
              "#ed7953"
             ],
             [
              0.7777777777777778,
              "#fb9f3a"
             ],
             [
              0.8888888888888888,
              "#fdca26"
             ],
             [
              1,
              "#f0f921"
             ]
            ],
            "type": "heatmapgl"
           }
          ],
          "histogram": [
           {
            "marker": {
             "pattern": {
              "fillmode": "overlay",
              "size": 10,
              "solidity": 0.2
             }
            },
            "type": "histogram"
           }
          ],
          "histogram2d": [
           {
            "colorbar": {
             "outlinewidth": 0,
             "ticks": ""
            },
            "colorscale": [
             [
              0,
              "#0d0887"
             ],
             [
              0.1111111111111111,
              "#46039f"
             ],
             [
              0.2222222222222222,
              "#7201a8"
             ],
             [
              0.3333333333333333,
              "#9c179e"
             ],
             [
              0.4444444444444444,
              "#bd3786"
             ],
             [
              0.5555555555555556,
              "#d8576b"
             ],
             [
              0.6666666666666666,
              "#ed7953"
             ],
             [
              0.7777777777777778,
              "#fb9f3a"
             ],
             [
              0.8888888888888888,
              "#fdca26"
             ],
             [
              1,
              "#f0f921"
             ]
            ],
            "type": "histogram2d"
           }
          ],
          "histogram2dcontour": [
           {
            "colorbar": {
             "outlinewidth": 0,
             "ticks": ""
            },
            "colorscale": [
             [
              0,
              "#0d0887"
             ],
             [
              0.1111111111111111,
              "#46039f"
             ],
             [
              0.2222222222222222,
              "#7201a8"
             ],
             [
              0.3333333333333333,
              "#9c179e"
             ],
             [
              0.4444444444444444,
              "#bd3786"
             ],
             [
              0.5555555555555556,
              "#d8576b"
             ],
             [
              0.6666666666666666,
              "#ed7953"
             ],
             [
              0.7777777777777778,
              "#fb9f3a"
             ],
             [
              0.8888888888888888,
              "#fdca26"
             ],
             [
              1,
              "#f0f921"
             ]
            ],
            "type": "histogram2dcontour"
           }
          ],
          "mesh3d": [
           {
            "colorbar": {
             "outlinewidth": 0,
             "ticks": ""
            },
            "type": "mesh3d"
           }
          ],
          "parcoords": [
           {
            "line": {
             "colorbar": {
              "outlinewidth": 0,
              "ticks": ""
             }
            },
            "type": "parcoords"
           }
          ],
          "pie": [
           {
            "automargin": true,
            "type": "pie"
           }
          ],
          "scatter": [
           {
            "fillpattern": {
             "fillmode": "overlay",
             "size": 10,
             "solidity": 0.2
            },
            "type": "scatter"
           }
          ],
          "scatter3d": [
           {
            "line": {
             "colorbar": {
              "outlinewidth": 0,
              "ticks": ""
             }
            },
            "marker": {
             "colorbar": {
              "outlinewidth": 0,
              "ticks": ""
             }
            },
            "type": "scatter3d"
           }
          ],
          "scattercarpet": [
           {
            "marker": {
             "colorbar": {
              "outlinewidth": 0,
              "ticks": ""
             }
            },
            "type": "scattercarpet"
           }
          ],
          "scattergeo": [
           {
            "marker": {
             "colorbar": {
              "outlinewidth": 0,
              "ticks": ""
             }
            },
            "type": "scattergeo"
           }
          ],
          "scattergl": [
           {
            "marker": {
             "colorbar": {
              "outlinewidth": 0,
              "ticks": ""
             }
            },
            "type": "scattergl"
           }
          ],
          "scattermapbox": [
           {
            "marker": {
             "colorbar": {
              "outlinewidth": 0,
              "ticks": ""
             }
            },
            "type": "scattermapbox"
           }
          ],
          "scatterpolar": [
           {
            "marker": {
             "colorbar": {
              "outlinewidth": 0,
              "ticks": ""
             }
            },
            "type": "scatterpolar"
           }
          ],
          "scatterpolargl": [
           {
            "marker": {
             "colorbar": {
              "outlinewidth": 0,
              "ticks": ""
             }
            },
            "type": "scatterpolargl"
           }
          ],
          "scatterternary": [
           {
            "marker": {
             "colorbar": {
              "outlinewidth": 0,
              "ticks": ""
             }
            },
            "type": "scatterternary"
           }
          ],
          "surface": [
           {
            "colorbar": {
             "outlinewidth": 0,
             "ticks": ""
            },
            "colorscale": [
             [
              0,
              "#0d0887"
             ],
             [
              0.1111111111111111,
              "#46039f"
             ],
             [
              0.2222222222222222,
              "#7201a8"
             ],
             [
              0.3333333333333333,
              "#9c179e"
             ],
             [
              0.4444444444444444,
              "#bd3786"
             ],
             [
              0.5555555555555556,
              "#d8576b"
             ],
             [
              0.6666666666666666,
              "#ed7953"
             ],
             [
              0.7777777777777778,
              "#fb9f3a"
             ],
             [
              0.8888888888888888,
              "#fdca26"
             ],
             [
              1,
              "#f0f921"
             ]
            ],
            "type": "surface"
           }
          ],
          "table": [
           {
            "cells": {
             "fill": {
              "color": "#EBF0F8"
             },
             "line": {
              "color": "white"
             }
            },
            "header": {
             "fill": {
              "color": "#C8D4E3"
             },
             "line": {
              "color": "white"
             }
            },
            "type": "table"
           }
          ]
         },
         "layout": {
          "annotationdefaults": {
           "arrowcolor": "#2a3f5f",
           "arrowhead": 0,
           "arrowwidth": 1
          },
          "autotypenumbers": "strict",
          "coloraxis": {
           "colorbar": {
            "outlinewidth": 0,
            "ticks": ""
           }
          },
          "colorscale": {
           "diverging": [
            [
             0,
             "#8e0152"
            ],
            [
             0.1,
             "#c51b7d"
            ],
            [
             0.2,
             "#de77ae"
            ],
            [
             0.3,
             "#f1b6da"
            ],
            [
             0.4,
             "#fde0ef"
            ],
            [
             0.5,
             "#f7f7f7"
            ],
            [
             0.6,
             "#e6f5d0"
            ],
            [
             0.7,
             "#b8e186"
            ],
            [
             0.8,
             "#7fbc41"
            ],
            [
             0.9,
             "#4d9221"
            ],
            [
             1,
             "#276419"
            ]
           ],
           "sequential": [
            [
             0,
             "#0d0887"
            ],
            [
             0.1111111111111111,
             "#46039f"
            ],
            [
             0.2222222222222222,
             "#7201a8"
            ],
            [
             0.3333333333333333,
             "#9c179e"
            ],
            [
             0.4444444444444444,
             "#bd3786"
            ],
            [
             0.5555555555555556,
             "#d8576b"
            ],
            [
             0.6666666666666666,
             "#ed7953"
            ],
            [
             0.7777777777777778,
             "#fb9f3a"
            ],
            [
             0.8888888888888888,
             "#fdca26"
            ],
            [
             1,
             "#f0f921"
            ]
           ],
           "sequentialminus": [
            [
             0,
             "#0d0887"
            ],
            [
             0.1111111111111111,
             "#46039f"
            ],
            [
             0.2222222222222222,
             "#7201a8"
            ],
            [
             0.3333333333333333,
             "#9c179e"
            ],
            [
             0.4444444444444444,
             "#bd3786"
            ],
            [
             0.5555555555555556,
             "#d8576b"
            ],
            [
             0.6666666666666666,
             "#ed7953"
            ],
            [
             0.7777777777777778,
             "#fb9f3a"
            ],
            [
             0.8888888888888888,
             "#fdca26"
            ],
            [
             1,
             "#f0f921"
            ]
           ]
          },
          "colorway": [
           "#636efa",
           "#EF553B",
           "#00cc96",
           "#ab63fa",
           "#FFA15A",
           "#19d3f3",
           "#FF6692",
           "#B6E880",
           "#FF97FF",
           "#FECB52"
          ],
          "font": {
           "color": "#2a3f5f"
          },
          "geo": {
           "bgcolor": "white",
           "lakecolor": "white",
           "landcolor": "#E5ECF6",
           "showlakes": true,
           "showland": true,
           "subunitcolor": "white"
          },
          "hoverlabel": {
           "align": "left"
          },
          "hovermode": "closest",
          "mapbox": {
           "style": "light"
          },
          "paper_bgcolor": "white",
          "plot_bgcolor": "#E5ECF6",
          "polar": {
           "angularaxis": {
            "gridcolor": "white",
            "linecolor": "white",
            "ticks": ""
           },
           "bgcolor": "#E5ECF6",
           "radialaxis": {
            "gridcolor": "white",
            "linecolor": "white",
            "ticks": ""
           }
          },
          "scene": {
           "xaxis": {
            "backgroundcolor": "#E5ECF6",
            "gridcolor": "white",
            "gridwidth": 2,
            "linecolor": "white",
            "showbackground": true,
            "ticks": "",
            "zerolinecolor": "white"
           },
           "yaxis": {
            "backgroundcolor": "#E5ECF6",
            "gridcolor": "white",
            "gridwidth": 2,
            "linecolor": "white",
            "showbackground": true,
            "ticks": "",
            "zerolinecolor": "white"
           },
           "zaxis": {
            "backgroundcolor": "#E5ECF6",
            "gridcolor": "white",
            "gridwidth": 2,
            "linecolor": "white",
            "showbackground": true,
            "ticks": "",
            "zerolinecolor": "white"
           }
          },
          "shapedefaults": {
           "line": {
            "color": "#2a3f5f"
           }
          },
          "ternary": {
           "aaxis": {
            "gridcolor": "white",
            "linecolor": "white",
            "ticks": ""
           },
           "baxis": {
            "gridcolor": "white",
            "linecolor": "white",
            "ticks": ""
           },
           "bgcolor": "#E5ECF6",
           "caxis": {
            "gridcolor": "white",
            "linecolor": "white",
            "ticks": ""
           }
          },
          "title": {
           "x": 0.05
          },
          "xaxis": {
           "automargin": true,
           "gridcolor": "white",
           "linecolor": "white",
           "ticks": "",
           "title": {
            "standoff": 15
           },
           "zerolinecolor": "white",
           "zerolinewidth": 2
          },
          "yaxis": {
           "automargin": true,
           "gridcolor": "white",
           "linecolor": "white",
           "ticks": "",
           "title": {
            "standoff": 15
           },
           "zerolinecolor": "white",
           "zerolinewidth": 2
          }
         }
        }
       }
      }
     },
     "metadata": {},
     "output_type": "display_data"
    }
   ],
   "source": [
    "fig = px.scatter_3d(data, x=\"H2RFV\", y=\"CONICITY\",z=\"RFV\",\n",
    "                    color= \"Y\")\n",
    "\n",
    "fig.show()"
   ]
  },
  {
   "cell_type": "code",
   "execution_count": null,
   "metadata": {},
   "outputs": [],
   "source": []
  }
 ],
 "metadata": {
  "interpreter": {
   "hash": "77b285dce526106f0619df26edb004dd0a55300a7a7a7660bd0bf561a0915729"
  },
  "kernelspec": {
   "display_name": "Python 3.9.12 ('artigo')",
   "language": "python",
   "name": "python3"
  },
  "language_info": {
   "codemirror_mode": {
    "name": "ipython",
    "version": 3
   },
   "file_extension": ".py",
   "mimetype": "text/x-python",
   "name": "python",
   "nbconvert_exporter": "python",
   "pygments_lexer": "ipython3",
   "version": "3.9.12"
  }
 },
 "nbformat": 4,
 "nbformat_minor": 2
}
