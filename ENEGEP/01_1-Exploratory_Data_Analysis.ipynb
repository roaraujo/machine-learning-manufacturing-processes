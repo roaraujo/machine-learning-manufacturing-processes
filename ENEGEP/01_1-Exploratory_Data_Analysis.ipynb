{
 "cells": [
  {
   "cell_type": "markdown",
   "metadata": {},
   "source": [
    "## EDA"
   ]
  },
  {
   "cell_type": "code",
   "execution_count": null,
   "metadata": {},
   "outputs": [],
   "source": [
    "import warnings\n",
    "import numpy as np \n",
    "import pandas as pd\n",
    "import seaborn as sns\n",
    "import plotly.express as px\n",
    "import matplotlib.pyplot as plt\n",
    "from collections import Counter\n",
    "from sklearn.feature_selection import f_classif\n",
    "from sklearn.model_selection import train_test_split"
   ]
  },
  {
   "cell_type": "code",
   "execution_count": null,
   "metadata": {},
   "outputs": [],
   "source": [
    "warnings.filterwarnings('ignore')\n",
    "df = pd.read_csv(\"data.csv\", sep = \";\")\n",
    "pd.set_option('display.max_columns', None)\n",
    "df.head()"
   ]
  },
  {
   "cell_type": "code",
   "execution_count": null,
   "metadata": {},
   "outputs": [],
   "source": [
    "df = df.loc[(df['GR'])!=\"D\"]"
   ]
  },
  {
   "cell_type": "code",
   "execution_count": null,
   "metadata": {},
   "outputs": [],
   "source": [
    "df = df[['GR', 'RFV','H1RFV','H2RFV','CONICITY',\n",
    "       'H1LFV', 'PLY','LFV','RRO', 'CAPSPLICE', 'H1RRO']]\n",
    "\n",
    "X = df.drop([\n",
    "'GR'\n",
    "], axis=1)"
   ]
  },
  {
   "cell_type": "code",
   "execution_count": null,
   "metadata": {},
   "outputs": [],
   "source": [
    "X_all = X\n",
    "y_all = df['GR']\n",
    "\n",
    "X_train, X_test, y_train, y_test = train_test_split(X_all, y_all, test_size = 0.30 , stratify=y_all, random_state = 7265)\n",
    "\n",
    "print('Numero de observaçoes do treino:', len(X_train))\n",
    "print('Numero de observaçoes da teste:',len(X_test))"
   ]
  },
  {
   "cell_type": "code",
   "execution_count": null,
   "metadata": {},
   "outputs": [],
   "source": [
    "train = X_train.copy()\n",
    "train['Y'] = y_train\n",
    "\n",
    "test = X_test.copy()\n",
    "test['Y'] = y_test"
   ]
  },
  {
   "cell_type": "code",
   "execution_count": null,
   "metadata": {},
   "outputs": [],
   "source": [
    "train['Y'] = train['Y'] .apply(lambda x: 0 if x == 'A' else 1)\n",
    "test['Y'] = test['Y'] .apply(lambda x: 0 if x == 'A' else 1)"
   ]
  },
  {
   "cell_type": "code",
   "execution_count": null,
   "metadata": {},
   "outputs": [],
   "source": [
    "train.head()"
   ]
  },
  {
   "cell_type": "code",
   "execution_count": null,
   "metadata": {},
   "outputs": [],
   "source": [
    "train.to_csv(\"train.csv\", sep = \";\", index=False)\n",
    "test.to_csv(\"test.csv\", sep = \";\", index=False)"
   ]
  },
  {
   "cell_type": "code",
   "execution_count": null,
   "metadata": {},
   "outputs": [],
   "source": [
    "y_train = train[['Y']]\n",
    "y_test = test[['Y']]\n",
    "\n",
    "X_train = train[['RFV','H2RFV','CONICITY',\n",
    "        'PLY','LFV','RRO', 'CAPSPLICE']]\n",
    "\n",
    "X_test = test[['RFV','H2RFV','CONICITY',\n",
    "       'PLY','LFV','RRO', 'CAPSPLICE']]"
   ]
  },
  {
   "cell_type": "code",
   "execution_count": null,
   "metadata": {},
   "outputs": [],
   "source": [
    "X_train.describe()"
   ]
  },
  {
   "cell_type": "code",
   "execution_count": null,
   "metadata": {},
   "outputs": [],
   "source": [
    "data = X_train.copy()\n",
    "data['Y'] = y_train\n",
    "data.head(2)"
   ]
  },
  {
   "cell_type": "code",
   "execution_count": null,
   "metadata": {},
   "outputs": [],
   "source": [
    "data.groupby(\"Y\").describe()"
   ]
  },
  {
   "cell_type": "code",
   "execution_count": null,
   "metadata": {},
   "outputs": [],
   "source": [
    "plt.figure(figsize=(6,6))\n",
    "data['Y'].value_counts().plot.pie(autopct=\"%1.1f%%\")"
   ]
  },
  {
   "cell_type": "code",
   "execution_count": null,
   "metadata": {},
   "outputs": [],
   "source": [
    "g = sns.kdeplot(data[\"RFV\"][(data[\"Y\"] == 0) & (data[\"RFV\"].notnull())], color=\"Blue\", shade = True)\n",
    "g = sns.kdeplot(data[\"RFV\"][(data[\"Y\"] == 1) & (data[\"RFV\"].notnull())], ax =g, color=\"Green\", shade= True)\n",
    "g.set_xlabel(\"RFV\")\n",
    "g.set_ylabel(\"Density\")\n",
    "g = g.legend([\"A\",\"BC\"])"
   ]
  },
  {
   "cell_type": "code",
   "execution_count": null,
   "metadata": {},
   "outputs": [],
   "source": [
    "g = sns.kdeplot(data[\"H2RFV\"][(data[\"Y\"] == 0) & (data[\"H2RFV\"].notnull())], color=\"Blue\", shade = True)\n",
    "g = sns.kdeplot(data[\"H2RFV\"][(data[\"Y\"] == 1) & (data[\"H2RFV\"].notnull())], ax =g, color=\"Green\", shade= True)\n",
    "g.set_xlabel(\"H2RFV\")\n",
    "g.set_ylabel(\"Density\")\n",
    "g = g.legend([\"A\",\"BC\"])"
   ]
  },
  {
   "cell_type": "code",
   "execution_count": null,
   "metadata": {},
   "outputs": [],
   "source": [
    "g = sns.kdeplot(data[\"CONICITY\"][(data[\"Y\"] == 0) & (data[\"CONICITY\"].notnull())], color=\"Blue\", shade = True)\n",
    "g = sns.kdeplot(data[\"CONICITY\"][(data[\"Y\"] == 1) & (data[\"CONICITY\"].notnull())], ax =g, color=\"Green\", shade= True)\n",
    "g.set_xlabel(\"CONICITY\")\n",
    "g.set_ylabel(\"Density\")\n",
    "g = g.legend([\"A\",\"BC\"])"
   ]
  },
  {
   "cell_type": "code",
   "execution_count": null,
   "metadata": {},
   "outputs": [],
   "source": [
    "g = sns.kdeplot(data[\"PLY\"][(data[\"Y\"] == 0) & (data[\"PLY\"].notnull())], color=\"Blue\", shade = True)\n",
    "g = sns.kdeplot(data[\"PLY\"][(data[\"Y\"] == 1) & (data[\"PLY\"].notnull())], ax =g, color=\"Green\", shade= True)\n",
    "g.set_xlabel(\"PLY\")\n",
    "g.set_ylabel(\"Density\")\n",
    "g = g.legend([\"A\",\"BC\"])"
   ]
  },
  {
   "cell_type": "code",
   "execution_count": null,
   "metadata": {},
   "outputs": [],
   "source": [
    "g = sns.kdeplot(data[\"LFV\"][(data[\"Y\"] == 1) & (data[\"LFV\"].notnull())], color=\"Blue\", shade = True)\n",
    "g = sns.kdeplot(data[\"LFV\"][(data[\"Y\"] == 0) & (data[\"LFV\"].notnull())], ax =g, color=\"Green\", shade= True)\n",
    "g.set_xlabel(\"LFV\")\n",
    "g.set_ylabel(\"Density\")\n",
    "g = g.legend([\"A\",\"BC\"])"
   ]
  },
  {
   "cell_type": "code",
   "execution_count": null,
   "metadata": {},
   "outputs": [],
   "source": [
    "g = sns.kdeplot(data[\"RRO\"][(data[\"Y\"] == 0) & (data[\"RRO\"].notnull())], color=\"Blue\", shade = True)\n",
    "g = sns.kdeplot(data[\"RRO\"][(data[\"Y\"] == 1) & (data[\"RRO\"].notnull())], ax =g, color=\"Green\", shade= True)\n",
    "g.set_xlabel(\"RRO\")\n",
    "g.set_ylabel(\"Density\")\n",
    "g = g.legend([\"A\",\"BC\"])"
   ]
  },
  {
   "cell_type": "code",
   "execution_count": null,
   "metadata": {},
   "outputs": [],
   "source": [
    "g = sns.kdeplot(data[\"CAPSPLICE\"][(data[\"Y\"] == 0) & (data[\"CAPSPLICE\"].notnull())], color=\"Blue\", shade = True)\n",
    "g = sns.kdeplot(data[\"CAPSPLICE\"][(data[\"Y\"] == 1) & (data[\"CAPSPLICE\"].notnull())], ax =g, color=\"Green\", shade= True)\n",
    "g.set_xlabel(\"CAPSPLICE\")\n",
    "g.set_ylabel(\"Density\")\n",
    "g = g.legend([\"A\",\"BC\"])"
   ]
  },
  {
   "cell_type": "code",
   "execution_count": null,
   "metadata": {},
   "outputs": [],
   "source": [
    "warnings.filterwarnings('ignore')\n",
    "orders = [0, 1]\n",
    "g = sns.factorplot(y=\"RFV\",x=\"Y\",data=data,kind=\"box\", order = orders)\n",
    "g = sns.factorplot(y=\"H2RFV\",x=\"Y\", data=data,kind=\"box\", order = orders)\n",
    "g = sns.factorplot(y=\"CONICITY\",x=\"Y\",data=data,kind=\"box\", order = orders)\n",
    "g = sns.factorplot(y=\"PLY\",x=\"Y\", data=data,kind=\"box\", order = orders)\n",
    "g = sns.factorplot(y=\"LFV\",x=\"Y\", data=data,kind=\"box\", order = orders)\n",
    "g = sns.factorplot(y=\"RRO\",x=\"Y\", data=data,kind=\"box\", order = orders)\n",
    "g = sns.factorplot(y=\"CAPSPLICE\",x=\"Y\", data=data,kind=\"box\", order = orders)"
   ]
  },
  {
   "cell_type": "markdown",
   "metadata": {},
   "source": [
    "Correlations"
   ]
  },
  {
   "cell_type": "code",
   "execution_count": null,
   "metadata": {},
   "outputs": [],
   "source": [
    "X_train"
   ]
  },
  {
   "cell_type": "code",
   "execution_count": null,
   "metadata": {},
   "outputs": [],
   "source": [
    "corrmat = np.triu(X_train.corr(method='pearson'))\n",
    "\n",
    "data_cor = X_train.copy()\n",
    "\n",
    "g = sns.heatmap(data_cor.corr(method='pearson'),cmap=\"coolwarm\",annot=True, mask = corrmat, fmt=\".2f\")"
   ]
  },
  {
   "cell_type": "code",
   "execution_count": null,
   "metadata": {},
   "outputs": [],
   "source": [
    "data_cor.corr(method='pearson')"
   ]
  },
  {
   "cell_type": "code",
   "execution_count": null,
   "metadata": {},
   "outputs": [],
   "source": [
    "top_num_features = data_cor.columns.to_list()\n",
    "corrmat = data[top_num_features].corr()\n",
    "\n",
    "plt.figure(figsize=(10,10))\n",
    "sns.heatmap(corrmat);"
   ]
  },
  {
   "cell_type": "markdown",
   "metadata": {},
   "source": [
    "### Mutual information"
   ]
  },
  {
   "cell_type": "code",
   "execution_count": null,
   "metadata": {},
   "outputs": [],
   "source": [
    "from sklearn.feature_selection import SelectKBest, SelectPercentile, mutual_info_classif"
   ]
  },
  {
   "cell_type": "code",
   "execution_count": null,
   "metadata": {},
   "outputs": [],
   "source": [
    "selector = SelectKBest(mutual_info_classif, k=7)\n",
    "X_reduced = selector.fit_transform(X_train, y_train)\n",
    "X_reduced.shape\n",
    "cols = selector.get_support(indices=True)\n",
    "selected_columns = X_train.iloc[:,cols].columns.tolist()\n",
    "selected_columns"
   ]
  },
  {
   "cell_type": "code",
   "execution_count": null,
   "metadata": {},
   "outputs": [],
   "source": [
    "threshold = 10  # the number of most relevant features\n",
    "high_score_features = []\n",
    "feature_scores = mutual_info_classif(X_train, y_train, random_state=0)\n",
    "for score, f_name in sorted(zip(feature_scores, X_train.columns), reverse=True)[:threshold]:\n",
    "        print(f_name, score)\n",
    "        high_score_features.append(f_name)\n",
    "df_wine_norm_mic = X_train[high_score_features]\n",
    "print(df_wine_norm_mic.columns)"
   ]
  },
  {
   "cell_type": "code",
   "execution_count": null,
   "metadata": {},
   "outputs": [],
   "source": [
    "def Scatterplot(data, var1, var2, cat):\n",
    "\n",
    "    fig = px.scatter(data, x = var1, y = var2, color =cat, width = 800)\n",
    "    fig.update_traces(marker=dict(size = 12,line = dict(width = 1)),selector=dict(mode = 'markers'))\n",
    "    fig.update_layout(title = 'Scatterplot: ' + var1 + \" vs \" + var2)\n",
    "    fig.update_xaxes(title = var1)\n",
    "    fig.update_yaxes(title = var2)\n",
    "    fig.show()"
   ]
  },
  {
   "cell_type": "code",
   "execution_count": null,
   "metadata": {},
   "outputs": [],
   "source": [
    "Scatterplot(data, \"RFV\", \"RRO\",  \"Y\")"
   ]
  },
  {
   "cell_type": "code",
   "execution_count": null,
   "metadata": {},
   "outputs": [],
   "source": [
    "g = sns.pairplot(data, hue=\"Y\", palette=\"Set2\", diag_kind=\"kde\", height=2.5)"
   ]
  },
  {
   "cell_type": "code",
   "execution_count": null,
   "metadata": {},
   "outputs": [],
   "source": [
    "fig = px.scatter_3d(data, x=\"H2RFV\", y=\"CONICITY\",z=\"RRO\",\n",
    "                    color= \"Y\")\n",
    "\n",
    "fig.show()"
   ]
  },
  {
   "cell_type": "code",
   "execution_count": null,
   "metadata": {},
   "outputs": [],
   "source": [
    "fig = px.scatter_3d(data, x=\"H2RFV\", y=\"CONICITY\",z=\"RFV\",\n",
    "                    color= \"Y\")\n",
    "\n",
    "fig.show()"
   ]
  },
  {
   "cell_type": "code",
   "execution_count": null,
   "metadata": {},
   "outputs": [],
   "source": []
  }
 ],
 "metadata": {
  "interpreter": {
   "hash": "77b285dce526106f0619df26edb004dd0a55300a7a7a7660bd0bf561a0915729"
  },
  "kernelspec": {
   "display_name": "Python 3.9.12 ('artigo')",
   "language": "python",
   "name": "python3"
  },
  "language_info": {
   "codemirror_mode": {
    "name": "ipython",
    "version": 3
   },
   "file_extension": ".py",
   "mimetype": "text/x-python",
   "name": "python",
   "nbconvert_exporter": "python",
   "pygments_lexer": "ipython3",
   "version": "3.9.12"
  }
 },
 "nbformat": 4,
 "nbformat_minor": 2
}
