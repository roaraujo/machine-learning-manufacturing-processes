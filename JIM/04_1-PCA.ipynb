{
 "cells": [
  {
   "cell_type": "markdown",
   "metadata": {},
   "source": [
    "### Libraries"
   ]
  },
  {
   "cell_type": "code",
   "execution_count": null,
   "metadata": {},
   "outputs": [],
   "source": [
    "import pandas as pd\n",
    "import numpy as np\n",
    "import seaborn as sns\n",
    "import matplotlib.pyplot as plt\n",
    "import matplotlib.cm as cm\n",
    "from sklearn.metrics.pairwise import euclidean_distances\n",
    "from sklearn.preprocessing import StandardScaler, MinMaxScaler\n",
    "from sklearn import datasets\n",
    "import plotly.express as px\n",
    "\n",
    "### Modelos ####\n",
    "from sklearn.decomposition import PCA\n",
    "import warnings"
   ]
  },
  {
   "cell_type": "markdown",
   "metadata": {},
   "source": [
    "### Read "
   ]
  },
  {
   "cell_type": "code",
   "execution_count": null,
   "metadata": {},
   "outputs": [],
   "source": [
    "warnings.filterwarnings('ignore')\n",
    "pd.set_option('display.max_columns', None)\n",
    "\n",
    "X_train = pd.read_csv(\"X_train.csv\", sep = \";\")\n",
    "X_test = pd.read_csv(\"X_test.csv\", sep = \";\")\n",
    "\n",
    "y_train = pd.read_csv(\"y_train.csv\", sep = \";\")\n",
    "y_test = pd.read_csv(\"y_test.csv\", sep = \";\")\n",
    "\n",
    "X_train.head()"
   ]
  },
  {
   "cell_type": "code",
   "execution_count": null,
   "metadata": {},
   "outputs": [],
   "source": [
    "X_train.columns"
   ]
  },
  {
   "cell_type": "code",
   "execution_count": null,
   "metadata": {},
   "outputs": [],
   "source": [
    "y_train.GR.unique()"
   ]
  },
  {
   "cell_type": "code",
   "execution_count": null,
   "metadata": {},
   "outputs": [],
   "source": [
    "y_train.GR.value_counts()"
   ]
  },
  {
   "cell_type": "code",
   "execution_count": null,
   "metadata": {},
   "outputs": [],
   "source": [
    "# X_train = X_train[['RFV', 'H2RFV', 'CONICITY', 'RRO']]"
   ]
  },
  {
   "cell_type": "code",
   "execution_count": null,
   "metadata": {},
   "outputs": [],
   "source": [
    "scaler = MinMaxScaler()#StandardScaler()\n",
    "X_scaled = pd.DataFrame(scaler.fit_transform(X_train))"
   ]
  },
  {
   "cell_type": "code",
   "execution_count": null,
   "metadata": {},
   "outputs": [],
   "source": [
    "from sklearn.feature_selection import SelectKBest, SelectPercentile, mutual_info_classif\n"
   ]
  },
  {
   "cell_type": "code",
   "execution_count": null,
   "metadata": {},
   "outputs": [],
   "source": [
    "selector = SelectKBest(mutual_info_classif, k=7)\n",
    "X_reduced = selector.fit_transform(X_train, y_train)\n",
    "X_reduced.shape\n"
   ]
  },
  {
   "cell_type": "code",
   "execution_count": null,
   "metadata": {},
   "outputs": [],
   "source": [
    "cols = selector.get_support(indices=True)\n",
    "selected_columns = X_train.iloc[:,cols].columns.tolist()\n",
    "selected_columns\n"
   ]
  },
  {
   "cell_type": "code",
   "execution_count": null,
   "metadata": {},
   "outputs": [],
   "source": [
    "from sklearn.feature_selection import mutual_info_classif\n",
    "threshold = 10  # the number of most relevant features\n",
    "high_score_features = []\n",
    "feature_scores = mutual_info_classif(X_train, y_train, random_state=0)\n",
    "for score, f_name in sorted(zip(feature_scores, X_train.columns), reverse=True)[:threshold]:\n",
    "        print(f_name, score)\n",
    "        high_score_features.append(f_name)\n",
    "df_wine_norm_mic = X_train[high_score_features]\n",
    "print(df_wine_norm_mic.columns)"
   ]
  },
  {
   "cell_type": "code",
   "execution_count": null,
   "metadata": {},
   "outputs": [],
   "source": []
  },
  {
   "cell_type": "markdown",
   "metadata": {},
   "source": [
    "## PCA"
   ]
  },
  {
   "cell_type": "code",
   "execution_count": null,
   "metadata": {},
   "outputs": [],
   "source": [
    "pca = PCA(n_components=4, copy=True, whiten=False, svd_solver='auto', tol=0.0, \n",
    "          iterated_power='auto', random_state=42)\n",
    "\n",
    "pca.fit(X_scaled)"
   ]
  },
  {
   "cell_type": "code",
   "execution_count": null,
   "metadata": {},
   "outputs": [],
   "source": [
    "pca.explained_variance_ratio_"
   ]
  },
  {
   "cell_type": "code",
   "execution_count": null,
   "metadata": {},
   "outputs": [],
   "source": [
    "range_x = np.arange(4)\n",
    "\n",
    "plt.bar(range_x,pca.explained_variance_ratio_)\n",
    "plt.xticks(range_x, ('1st', '2nd', '3rd', '4th'))\n",
    "plt.xlabel('Principal Component')\n",
    "plt.ylabel('Explained Variance Ratio')\n",
    "plt.title('Explained Variance')\n",
    "plt.show()\n",
    "\n",
    "plt.bar(range_x,np.cumsum(pca.explained_variance_ratio_))\n",
    "plt.xticks(range_x, ('1st', '2nd', '3rd', '4th'))\n",
    "plt.xlabel('Principal Component')\n",
    "plt.ylabel('Cumulative Explained Variance Ratio')\n",
    "plt.title('Cumulative Explained Variance')\n",
    "plt.show()\n",
    "\n",
    "d = {'Component': np.r_[1:len(pca.explained_variance_ratio_)+1], \n",
    "     'Explained Variance': pca.explained_variance_ratio_, \n",
    "     'Cumulative Explained Variance': np.cumsum(pca.explained_variance_ratio_)}\n",
    "df = pd.DataFrame(data=d)\n",
    "\n",
    "print(df)"
   ]
  },
  {
   "cell_type": "code",
   "execution_count": null,
   "metadata": {},
   "outputs": [],
   "source": [
    "plt.figure(figsize = (10, 8))\n",
    "plt.plot(range(1,5), pca.explained_variance_ratio_.cumsum(), marker = 'o', linestyle = '--')\n",
    "plt.title(\"Explained Variance by Components\")\n",
    "plt.ylabel(\"Cumulative Explained Variance\")"
   ]
  },
  {
   "cell_type": "code",
   "execution_count": null,
   "metadata": {},
   "outputs": [],
   "source": [
    "pca = PCA(n_components=2, random_state=42)"
   ]
  },
  {
   "cell_type": "code",
   "execution_count": null,
   "metadata": {},
   "outputs": [],
   "source": [
    "pca.fit(X_scaled)\n",
    "# pca.fit(X_train)"
   ]
  },
  {
   "cell_type": "code",
   "execution_count": null,
   "metadata": {},
   "outputs": [],
   "source": [
    "pca.explained_variance_ratio_"
   ]
  },
  {
   "cell_type": "code",
   "execution_count": null,
   "metadata": {},
   "outputs": [],
   "source": [
    "score_pca = pca.fit_transform(X_scaled)\n",
    "# score_pca = pca.fit_transform(X_train)"
   ]
  },
  {
   "cell_type": "code",
   "execution_count": null,
   "metadata": {},
   "outputs": [],
   "source": [
    "column_names = [\"PC_1\", \"PC_2\"]\n",
    "score_pca = pd.DataFrame(score_pca, columns=column_names)\n",
    "score_pca"
   ]
  },
  {
   "cell_type": "code",
   "execution_count": null,
   "metadata": {},
   "outputs": [],
   "source": [
    "d = pd.concat([score_pca,X_train, y_train.GR], axis=1)\n",
    "d.head()"
   ]
  },
  {
   "cell_type": "code",
   "execution_count": null,
   "metadata": {},
   "outputs": [],
   "source": [
    "sns.set(color_codes=True)\n",
    "sns.scatterplot(x=d['PC_1'], \n",
    "                y=d['PC_2'], \n",
    "                data=d, \n",
    "                hue=y_train.GR, hue_order = [\"A\", \"B\", \"C\"],  sizes=(100))\n",
    "plt.show()"
   ]
  },
  {
   "cell_type": "code",
   "execution_count": null,
   "metadata": {},
   "outputs": [],
   "source": [
    "fig = plt.figure()\n",
    "ax = plt.axes(projection='3d')\n",
    "\n",
    "df = sns.load_dataset('penguins')\n",
    "x=df['bill_length_mm']\n",
    "y=df['bill_depth_mm']\n",
    "z=df['body_mass_g']\n",
    "\n",
    "ax.scatter(x, y, z)\n",
    "plt.show()"
   ]
  },
  {
   "cell_type": "code",
   "execution_count": null,
   "metadata": {},
   "outputs": [],
   "source": [
    "def Scatterplot(data, var1, var2, cat):\n",
    "    \n",
    "    fig = px.scatter(data, x = var1, y = var2, color =cat, width = 800)\n",
    "    fig.update_traces(marker=dict(size = 12,line = dict(width = 1)),selector=dict(mode = 'markers'))\n",
    "    fig.update_layout(title = 'Scatterplot: ' + var1 + \" vs \" + var2)\n",
    "    fig.update_xaxes(title = var1)\n",
    "    fig.update_yaxes(title = var2)\n",
    "    fig.show()"
   ]
  },
  {
   "cell_type": "code",
   "execution_count": null,
   "metadata": {},
   "outputs": [],
   "source": [
    "Scatterplot(d, \"PC_1\", \"PC_2\",  \"GR\")"
   ]
  },
  {
   "cell_type": "code",
   "execution_count": null,
   "metadata": {},
   "outputs": [],
   "source": []
  }
 ],
 "metadata": {
  "interpreter": {
   "hash": "77b285dce526106f0619df26edb004dd0a55300a7a7a7660bd0bf561a0915729"
  },
  "kernelspec": {
   "display_name": "Python 3.9.12 ('artigo')",
   "language": "python",
   "name": "python3"
  },
  "language_info": {
   "codemirror_mode": {
    "name": "ipython",
    "version": 3
   },
   "file_extension": ".py",
   "mimetype": "text/x-python",
   "name": "python",
   "nbconvert_exporter": "python",
   "pygments_lexer": "ipython3",
   "version": "3.9.12 (main, Apr  4 2022, 05:22:27) [MSC v.1916 64 bit (AMD64)]"
  }
 },
 "nbformat": 4,
 "nbformat_minor": 2
}
