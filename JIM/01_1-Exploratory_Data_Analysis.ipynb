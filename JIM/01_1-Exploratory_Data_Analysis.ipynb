{
 "cells": [
  {
   "cell_type": "markdown",
   "metadata": {},
   "source": [
    "## EDA"
   ]
  },
  {
   "cell_type": "code",
   "execution_count": null,
   "metadata": {},
   "outputs": [],
   "source": [
    "import warnings\n",
    "import numpy as np \n",
    "import pandas as pd\n",
    "import seaborn as sns\n",
    "import plotly.express as px\n",
    "import matplotlib.pyplot as plt\n",
    "from collections import Counter\n",
    "from sklearn.feature_selection import f_classif\n",
    "from sklearn.model_selection import train_test_split"
   ]
  },
  {
   "cell_type": "code",
   "execution_count": null,
   "metadata": {},
   "outputs": [],
   "source": [
    "warnings.filterwarnings('ignore')\n",
    "df = pd.read_csv(\"data.csv\", sep = \";\")\n",
    "pd.set_option('display.max_columns', None)\n",
    "df.head()"
   ]
  },
  {
   "cell_type": "code",
   "execution_count": null,
   "metadata": {},
   "outputs": [],
   "source": [
    "df.groupby(\"GR\").count()"
   ]
  },
  {
   "cell_type": "code",
   "execution_count": null,
   "metadata": {},
   "outputs": [],
   "source": [
    "df = df.loc[(df['GR'])!=\"D\"]"
   ]
  },
  {
   "cell_type": "code",
   "execution_count": null,
   "metadata": {},
   "outputs": [],
   "source": [
    "df = df[['GR', 'RFV','H1RFV','H2RFV','CONICITY',\n",
    "       'H1LFV', 'PLY','LFV','RRO', 'CAPSPLICE', 'H1RRO']]\n",
    "\n",
    "X = df.drop([\n",
    "'GR'\n",
    "], axis=1)"
   ]
  },
  {
   "cell_type": "code",
   "execution_count": null,
   "metadata": {},
   "outputs": [],
   "source": [
    "X_all = X\n",
    "y_all = df['GR']\n",
    "\n",
    "X_train, X_test, y_train, y_test = train_test_split(X_all, y_all, test_size = 0.25 , stratify=y_all, random_state = 7265)\n",
    "\n",
    "print('Numero de observaçoes do treino:', len(X_train))\n",
    "print('Numero de observaçoes da teste:',len(X_test))"
   ]
  },
  {
   "cell_type": "code",
   "execution_count": null,
   "metadata": {},
   "outputs": [],
   "source": [
    "train = X_train.copy()\n",
    "train['GR'] = y_train\n",
    "\n",
    "test = X_test.copy()\n",
    "test['GR'] = y_test"
   ]
  },
  {
   "cell_type": "code",
   "execution_count": null,
   "metadata": {},
   "outputs": [],
   "source": [
    "X_train.to_csv(\"X_train.csv\", sep = \";\", index=False)\n",
    "X_test.to_csv(\"X_test.csv\", sep = \";\", index=False)\n",
    "y_test.to_csv(\"y_test.csv\", sep = \";\", index=False)\n",
    "y_train.to_csv(\"y_train.csv\", sep = \";\", index=False)"
   ]
  },
  {
   "cell_type": "code",
   "execution_count": null,
   "metadata": {},
   "outputs": [],
   "source": [
    "print(Counter(y_train).keys())\n",
    "print(Counter(y_train).values())\n",
    "\n",
    "print(Counter(y_test).keys())\n",
    "print(Counter(y_test).values())"
   ]
  },
  {
   "cell_type": "code",
   "execution_count": null,
   "metadata": {},
   "outputs": [],
   "source": [
    "X_train.describe()"
   ]
  },
  {
   "cell_type": "code",
   "execution_count": null,
   "metadata": {},
   "outputs": [],
   "source": [
    "data = X_train.copy()\n",
    "data['GR'] = y_train\n",
    "data.head(2)"
   ]
  },
  {
   "cell_type": "code",
   "execution_count": null,
   "metadata": {},
   "outputs": [],
   "source": [
    "data.groupby(\"GR\").describe()"
   ]
  },
  {
   "cell_type": "code",
   "execution_count": null,
   "metadata": {},
   "outputs": [],
   "source": [
    "plt.figure(figsize=(6,6))\n",
    "data['GR'].value_counts().plot.pie(autopct=\"%1.1f%%\")"
   ]
  },
  {
   "cell_type": "code",
   "execution_count": null,
   "metadata": {},
   "outputs": [],
   "source": [
    "g = sns.kdeplot(data[\"RFV\"][(data[\"GR\"] == \"A\") & (data[\"RFV\"].notnull())], color=\"Blue\", shade = True)\n",
    "g = sns.kdeplot(data[\"RFV\"][(data[\"GR\"] == \"B\") & (data[\"RFV\"].notnull())], ax =g, color=\"Green\", shade= True)\n",
    "g = sns.kdeplot(data[\"RFV\"][(data[\"GR\"] == \"C\") & (data[\"RFV\"].notnull())], ax =g, color=\"Purple\", shade= True)\n",
    "g.set_xlabel(\"RFV\")\n",
    "g.set_ylabel(\"Density\")\n",
    "g = g.legend([\"A\",\"B\", \"C\"])"
   ]
  },
  {
   "cell_type": "code",
   "execution_count": null,
   "metadata": {},
   "outputs": [],
   "source": [
    "g = sns.kdeplot(data[\"H1RFV\"][(data[\"GR\"] == \"A\") & (data[\"H1RFV\"].notnull())], color=\"Blue\", shade = True)\n",
    "g = sns.kdeplot(data[\"H1RFV\"][(data[\"GR\"] == \"B\") & (data[\"H1RFV\"].notnull())], ax =g, color=\"Green\", shade= True)\n",
    "g = sns.kdeplot(data[\"H1RFV\"][(data[\"GR\"] == \"C\") & (data[\"H1RFV\"].notnull())], ax =g, color=\"Purple\", shade= True)\n",
    "g.set_xlabel(\"H1RFV\")\n",
    "g.set_ylabel(\"Density\")\n",
    "g = g.legend([\"A\",\"B\", \"C\"])"
   ]
  },
  {
   "cell_type": "code",
   "execution_count": null,
   "metadata": {},
   "outputs": [],
   "source": [
    "g = sns.kdeplot(data[\"H2RFV\"][(data[\"GR\"] == \"A\") & (data[\"H2RFV\"].notnull())], color=\"Blue\", shade = True)\n",
    "g = sns.kdeplot(data[\"H2RFV\"][(data[\"GR\"] == \"B\") & (data[\"H2RFV\"].notnull())], ax =g, color=\"Green\", shade= True)\n",
    "g = sns.kdeplot(data[\"H2RFV\"][(data[\"GR\"] == \"C\") & (data[\"H2RFV\"].notnull())], ax =g, color=\"Purple\", shade= True)\n",
    "g.set_xlabel(\"H2RFV\")\n",
    "g.set_ylabel(\"Density\")\n",
    "g = g.legend([\"A\",\"B\", \"C\"])"
   ]
  },
  {
   "cell_type": "code",
   "execution_count": null,
   "metadata": {},
   "outputs": [],
   "source": [
    "g = sns.kdeplot(data[\"CONICITY\"][(data[\"GR\"] == \"A\") & (data[\"CONICITY\"].notnull())], color=\"Blue\", shade = True)\n",
    "g = sns.kdeplot(data[\"CONICITY\"][(data[\"GR\"] == \"B\") & (data[\"CONICITY\"].notnull())], ax =g, color=\"Green\", shade= True)\n",
    "g = sns.kdeplot(data[\"CONICITY\"][(data[\"GR\"] == \"C\") & (data[\"CONICITY\"].notnull())], ax =g, color=\"Purple\", shade= True)\n",
    "g.set_xlabel(\"CONICITY\")\n",
    "g.set_ylabel(\"Density\")\n",
    "g = g.legend([\"A\",\"B\", \"C\"])"
   ]
  },
  {
   "cell_type": "code",
   "execution_count": null,
   "metadata": {},
   "outputs": [],
   "source": [
    "g = sns.kdeplot(data[\"H1LFV\"][(data[\"GR\"] == \"A\") & (data[\"H1LFV\"].notnull())], color=\"Blue\", shade = True)\n",
    "g = sns.kdeplot(data[\"H1LFV\"][(data[\"GR\"] == \"B\") & (data[\"H1LFV\"].notnull())], ax =g, color=\"Green\", shade= True)\n",
    "g = sns.kdeplot(data[\"H1LFV\"][(data[\"GR\"] == \"C\") & (data[\"H1LFV\"].notnull())], ax =g, color=\"Purple\", shade= True)\n",
    "g.set_xlabel(\"H1LFV\")\n",
    "g.set_ylabel(\"Density\")\n",
    "g = g.legend([\"A\",\"B\", \"C\"])"
   ]
  },
  {
   "cell_type": "code",
   "execution_count": null,
   "metadata": {},
   "outputs": [],
   "source": [
    "g = sns.kdeplot(data[\"PLY\"][(data[\"GR\"] == \"A\") & (data[\"PLY\"].notnull())], color=\"Blue\", shade = True)\n",
    "g = sns.kdeplot(data[\"PLY\"][(data[\"GR\"] == \"B\") & (data[\"PLY\"].notnull())], ax =g, color=\"Green\", shade= True)\n",
    "g = sns.kdeplot(data[\"PLY\"][(data[\"GR\"] == \"C\") & (data[\"PLY\"].notnull())], ax =g, color=\"Purple\", shade= True)\n",
    "g.set_xlabel(\"PLY\")\n",
    "g.set_ylabel(\"Density\")\n",
    "g = g.legend([\"A\",\"B\", \"C\"])"
   ]
  },
  {
   "cell_type": "code",
   "execution_count": null,
   "metadata": {},
   "outputs": [],
   "source": [
    "g = sns.kdeplot(data[\"LFV\"][(data[\"GR\"] == \"A\") & (data[\"LFV\"].notnull())], color=\"Blue\", shade = True)\n",
    "g = sns.kdeplot(data[\"LFV\"][(data[\"GR\"] == \"B\") & (data[\"LFV\"].notnull())], ax =g, color=\"Green\", shade= True)\n",
    "g = sns.kdeplot(data[\"LFV\"][(data[\"GR\"] == \"C\") & (data[\"LFV\"].notnull())], ax =g, color=\"Purple\", shade= True)\n",
    "g.set_xlabel(\"LFV\")\n",
    "g.set_ylabel(\"Density\")\n",
    "g = g.legend([\"A\",\"B\", \"C\"])"
   ]
  },
  {
   "cell_type": "code",
   "execution_count": null,
   "metadata": {},
   "outputs": [],
   "source": [
    "g = sns.kdeplot(data[\"RRO\"][(data[\"GR\"] == \"A\") & (data[\"RRO\"].notnull())], color=\"Blue\", shade = True)\n",
    "g = sns.kdeplot(data[\"RRO\"][(data[\"GR\"] == \"B\") & (data[\"RRO\"].notnull())], ax =g, color=\"Green\", shade= True)\n",
    "g = sns.kdeplot(data[\"RRO\"][(data[\"GR\"] == \"C\") & (data[\"RRO\"].notnull())], ax =g, color=\"Purple\", shade= True)\n",
    "g.set_xlabel(\"RRO\")\n",
    "g.set_ylabel(\"Density\")\n",
    "g = g.legend([\"A\",\"B\", \"C\"])"
   ]
  },
  {
   "cell_type": "code",
   "execution_count": null,
   "metadata": {},
   "outputs": [],
   "source": [
    "g = sns.kdeplot(data[\"CAPSPLICE\"][(data[\"GR\"] == \"A\") & (data[\"CAPSPLICE\"].notnull())], color=\"Blue\", shade = True)\n",
    "g = sns.kdeplot(data[\"CAPSPLICE\"][(data[\"GR\"] == \"B\") & (data[\"CAPSPLICE\"].notnull())], ax =g, color=\"Green\", shade= True)\n",
    "g = sns.kdeplot(data[\"CAPSPLICE\"][(data[\"GR\"] == \"C\") & (data[\"CAPSPLICE\"].notnull())], ax =g, color=\"Purple\", shade= True)\n",
    "g.set_xlabel(\"CAPSPLICE\")\n",
    "g.set_ylabel(\"Density\")\n",
    "g = g.legend([\"A\",\"B\", \"C\"])"
   ]
  },
  {
   "cell_type": "code",
   "execution_count": null,
   "metadata": {},
   "outputs": [],
   "source": [
    "g = sns.kdeplot(data[\"H1RRO\"][(data[\"GR\"] == \"A\") & (data[\"H1RRO\"].notnull())], color=\"Blue\", shade = True)\n",
    "g = sns.kdeplot(data[\"H1RRO\"][(data[\"GR\"] == \"B\") & (data[\"H1RRO\"].notnull())], ax =g, color=\"Green\", shade= True)\n",
    "g = sns.kdeplot(data[\"H1RRO\"][(data[\"GR\"] == \"C\") & (data[\"H1RRO\"].notnull())], ax =g, color=\"Purple\", shade= True)\n",
    "g.set_xlabel(\"H1RRO\")\n",
    "g.set_ylabel(\"Density\")\n",
    "g = g.legend([\"A\",\"B\", \"C\"])"
   ]
  },
  {
   "cell_type": "code",
   "execution_count": null,
   "metadata": {},
   "outputs": [],
   "source": [
    "warnings.filterwarnings('ignore')\n",
    "orders = [\"A\", \"B\", \"C\"]\n",
    "g = sns.factorplot(y=\"RFV\",x=\"GR\",data=data,kind=\"box\", order = orders)\n",
    "g = sns.factorplot(y=\"H1RFV\",x=\"GR\", data=data,kind=\"box\", order = orders)\n",
    "g = sns.factorplot(y=\"H2RFV\",x=\"GR\", data=data,kind=\"box\", order = orders)\n",
    "g = sns.factorplot(y=\"CONICITY\",x=\"GR\",data=data,kind=\"box\", order = orders)\n",
    "g = sns.factorplot(y=\"H1LFV\",x=\"GR\", data=data,kind=\"box\", order = orders)\n",
    "g = sns.factorplot(y=\"PLY\",x=\"GR\", data=data,kind=\"box\", order = orders)\n",
    "g = sns.factorplot(y=\"LFV\",x=\"GR\", data=data,kind=\"box\", order = orders)\n",
    "g = sns.factorplot(y=\"RRO\",x=\"GR\", data=data,kind=\"box\", order = orders)\n",
    "g = sns.factorplot(y=\"CAPSPLICE\",x=\"GR\", data=data,kind=\"box\", order = orders)\n",
    "g = sns.factorplot(y=\"H1RRO\",x=\"GR\", data=data,kind=\"box\", order = orders)"
   ]
  },
  {
   "cell_type": "markdown",
   "metadata": {},
   "source": [
    "Correlations"
   ]
  },
  {
   "cell_type": "code",
   "execution_count": null,
   "metadata": {},
   "outputs": [],
   "source": [
    "corrmat = np.triu(data.corr(method='pearson'))\n",
    "\n",
    "data_cor = data[['RFV','H1RFV','H2RFV','CONICITY',\n",
    "       'H1LFV', 'PLY','LFV','RRO', 'CAPSPLICE', 'H1RRO']]\n",
    "\n",
    "g = sns.heatmap(data_cor.corr(method='pearson'),cmap=\"coolwarm\",annot=True, mask = corrmat, fmt=\".2f\")"
   ]
  },
  {
   "cell_type": "code",
   "execution_count": null,
   "metadata": {},
   "outputs": [],
   "source": [
    "data_cor.corr(method='pearson')"
   ]
  },
  {
   "cell_type": "code",
   "execution_count": null,
   "metadata": {},
   "outputs": [],
   "source": [
    "top_num_features = data_cor.columns.to_list()\n",
    "corrmat = data[top_num_features].corr()\n",
    "\n",
    "plt.figure(figsize=(10,10))\n",
    "sns.heatmap(corrmat);"
   ]
  },
  {
   "cell_type": "markdown",
   "metadata": {},
   "source": [
    "### Mutual information"
   ]
  },
  {
   "cell_type": "code",
   "execution_count": null,
   "metadata": {},
   "outputs": [],
   "source": [
    "from sklearn.feature_selection import SelectKBest, SelectPercentile, mutual_info_classif"
   ]
  },
  {
   "cell_type": "code",
   "execution_count": null,
   "metadata": {},
   "outputs": [],
   "source": [
    "selector = SelectKBest(mutual_info_classif, k=7)\n",
    "X_reduced = selector.fit_transform(X_train, y_train)\n",
    "X_reduced.shape\n",
    "cols = selector.get_support(indices=True)\n",
    "selected_columns = X_train.iloc[:,cols].columns.tolist()\n",
    "selected_columns"
   ]
  },
  {
   "cell_type": "code",
   "execution_count": null,
   "metadata": {},
   "outputs": [],
   "source": [
    "threshold = 10  # the number of most relevant features\n",
    "high_score_features = []\n",
    "feature_scores = mutual_info_classif(X_train, y_train, random_state=0)\n",
    "for score, f_name in sorted(zip(feature_scores, X_train.columns), reverse=True)[:threshold]:\n",
    "        print(f_name, score)\n",
    "        high_score_features.append(f_name)\n",
    "df_wine_norm_mic = X_train[high_score_features]\n",
    "print(df_wine_norm_mic.columns)"
   ]
  },
  {
   "cell_type": "markdown",
   "metadata": {},
   "source": [
    "ANOVA F-Statistic"
   ]
  },
  {
   "cell_type": "code",
   "execution_count": null,
   "metadata": {},
   "outputs": [],
   "source": [
    "F_statistic, p_values = f_classif(data_cor, y_train)\n",
    "ANOVA_F_table = pd.DataFrame(data = {'Numerical_Feature': data_cor.columns.values, 'F-Score': F_statistic, 'p values': p_values.round(decimals=10)})\n",
    "ANOVA_F_table.sort_values(by = ['F-Score'], ascending = False, ignore_index = True, inplace = True)\n",
    "ANOVA_F_table"
   ]
  },
  {
   "cell_type": "code",
   "execution_count": null,
   "metadata": {},
   "outputs": [],
   "source": [
    "def Scatterplot(data, var1, var2, cat):\n",
    "\n",
    "    fig = px.scatter(data, x = var1, y = var2, color =cat, width = 800)\n",
    "    fig.update_traces(marker=dict(size = 12,line = dict(width = 1)),selector=dict(mode = 'markers'))\n",
    "    fig.update_layout(title = 'Scatterplot: ' + var1 + \" vs \" + var2)\n",
    "    fig.update_xaxes(title = var1)\n",
    "    fig.update_yaxes(title = var2)\n",
    "    fig.show()"
   ]
  },
  {
   "cell_type": "code",
   "execution_count": null,
   "metadata": {},
   "outputs": [],
   "source": [
    "Scatterplot(data, \"RFV\", \"PLY\",  \"GR\")"
   ]
  },
  {
   "cell_type": "code",
   "execution_count": null,
   "metadata": {},
   "outputs": [],
   "source": [
    "Scatterplot(data, \"H1RFV\", \"CONICITY\",  \"GR\")"
   ]
  },
  {
   "cell_type": "code",
   "execution_count": null,
   "metadata": {},
   "outputs": [],
   "source": [
    "Scatterplot(data, \"H1RFV\", \"H2RFV\",  \"GR\")"
   ]
  },
  {
   "cell_type": "code",
   "execution_count": null,
   "metadata": {},
   "outputs": [],
   "source": [
    "g = sns.pairplot(data, hue=\"GR\", palette=\"Set2\", diag_kind=\"kde\", height=2.5)"
   ]
  },
  {
   "cell_type": "code",
   "execution_count": null,
   "metadata": {},
   "outputs": [],
   "source": [
    "fig = px.scatter_3d(data, x=\"H1RFV\", y=\"CONICITY\",z=\"RFV\",\n",
    "                    color= \"GR\")\n",
    "\n",
    "fig.show()"
   ]
  },
  {
   "cell_type": "code",
   "execution_count": null,
   "metadata": {},
   "outputs": [],
   "source": []
  }
 ],
 "metadata": {
  "interpreter": {
   "hash": "77b285dce526106f0619df26edb004dd0a55300a7a7a7660bd0bf561a0915729"
  },
  "kernelspec": {
   "display_name": "Python 3.9.12 ('artigo')",
   "language": "python",
   "name": "python3"
  },
  "language_info": {
   "codemirror_mode": {
    "name": "ipython",
    "version": 3
   },
   "file_extension": ".py",
   "mimetype": "text/x-python",
   "name": "python",
   "nbconvert_exporter": "python",
   "pygments_lexer": "ipython3",
   "version": "3.9.12"
  }
 },
 "nbformat": 4,
 "nbformat_minor": 2
}
