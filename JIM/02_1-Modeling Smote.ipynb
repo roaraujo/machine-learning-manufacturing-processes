{
 "cells": [
  {
   "cell_type": "markdown",
   "metadata": {},
   "source": [
    "### Libraries"
   ]
  },
  {
   "cell_type": "code",
   "execution_count": null,
   "metadata": {},
   "outputs": [],
   "source": [
    "import time\n",
    "import joblib\n",
    "import warnings\n",
    "import numpy as np\n",
    "import pandas as pd\n",
    "import seaborn as sns\n",
    "import matplotlib.pyplot as plt\n",
    "from collections import Counter\n",
    "from scipy.stats import ks_2samp\n",
    "from IPython.display import Image\n",
    "\n",
    "import shap\n",
    "from sklearn.preprocessing import LabelEncoder, LabelBinarizer\n",
    "from sklearn.model_selection import RepeatedStratifiedKFold, LeaveOneOut, StratifiedShuffleSplit\n",
    "from sklearn.preprocessing import StandardScaler, MinMaxScaler\n",
    "from sklearn.tree import export_graphviz\n",
    "from yellowbrick.model_selection import FeatureImportances\n",
    "\n",
    "from imblearn.over_sampling import SMOTE, ADASYN\n",
    "\n",
    "\n",
    "import joblib\n",
    "import pickle\n",
    "import xgboost as xgb\n",
    "from plot_learning import *\n",
    "from sklearn.svm import SVC\n",
    "from sklearn_rvm import EMRVC\n",
    "from lightgbm import LGBMClassifier\n",
    "from sklearn.linear_model import LogisticRegression\n",
    "from sklearn.neighbors import KNeighborsClassifier\n",
    "from sklearn.ensemble import RandomForestClassifier, AdaBoostClassifier, GradientBoostingClassifier, ExtraTreesClassifier, VotingClassifier\n",
    "from sklearn.neural_network import MLPClassifier\n",
    "from sklearn.gaussian_process import GaussianProcessClassifier\n",
    "from sklearn.gaussian_process.kernels import RBF\n",
    "from sklearn.model_selection import GridSearchCV, learning_curve, RandomizedSearchCV\n",
    "from sklearn.metrics  import average_precision_score, make_scorer, roc_curve,f1_score, precision_score, recall_score, fbeta_score, auc, roc_auc_score, accuracy_score, confusion_matrix, classification_report,precision_recall_curve\n",
    "from skopt import BayesSearchCV\n",
    "from skopt.space import Real, Categorical, Integer\n",
    "\n",
    "\n",
    "warnings.filterwarnings('ignore')"
   ]
  },
  {
   "cell_type": "code",
   "execution_count": null,
   "metadata": {},
   "outputs": [],
   "source": [
    "import sklearn\n",
    "sklearn.__version__"
   ]
  },
  {
   "cell_type": "markdown",
   "metadata": {},
   "source": [
    "### Read "
   ]
  },
  {
   "cell_type": "code",
   "execution_count": null,
   "metadata": {},
   "outputs": [],
   "source": [
    "warnings.filterwarnings('ignore')\n",
    "pd.set_option('display.max_columns', None)\n",
    "\n",
    "X_train = pd.read_csv(\"X_train.csv\", sep = \";\")\n",
    "X_test = pd.read_csv(\"X_test.csv\", sep = \";\")\n",
    "\n",
    "y_train = pd.read_csv(\"y_train.csv\", sep = \";\")\n",
    "y_test = pd.read_csv(\"y_test.csv\", sep = \";\")\n",
    "\n",
    "X_train.head()"
   ]
  },
  {
   "cell_type": "code",
   "execution_count": null,
   "metadata": {},
   "outputs": [],
   "source": [
    "X_train.columns"
   ]
  },
  {
   "cell_type": "code",
   "execution_count": null,
   "metadata": {},
   "outputs": [],
   "source": [
    "y_train.GR.unique()"
   ]
  },
  {
   "cell_type": "code",
   "execution_count": null,
   "metadata": {},
   "outputs": [],
   "source": [
    "y_train.GR.value_counts()"
   ]
  },
  {
   "cell_type": "code",
   "execution_count": null,
   "metadata": {},
   "outputs": [],
   "source": [
    "## removendo variáveis \n",
    "X_train = X_train.drop([\n",
    "'H1RFV', 'H1LFV', 'H1RRO'\n",
    "], axis=1)\n",
    "\n",
    "X_test = X_test.drop([\n",
    "'H1RFV', 'H1LFV', 'H1RRO'\n",
    "], axis=1)"
   ]
  },
  {
   "cell_type": "markdown",
   "metadata": {},
   "source": [
    "## Dataprep"
   ]
  },
  {
   "cell_type": "code",
   "execution_count": null,
   "metadata": {},
   "outputs": [],
   "source": [
    "def prepare_targets(y_train, y_test):\n",
    "    le = LabelEncoder()\n",
    "    le.fit(y_train)\n",
    "    y_train_enc = le.transform(y_train)\n",
    "    y_test_enc = le.transform(y_test)\n",
    "    \n",
    "    return y_train_enc, y_test_enc"
   ]
  },
  {
   "cell_type": "code",
   "execution_count": null,
   "metadata": {},
   "outputs": [],
   "source": [
    "y_train_enc, y_test_enc = prepare_targets(y_train, y_test)"
   ]
  },
  {
   "cell_type": "code",
   "execution_count": null,
   "metadata": {},
   "outputs": [],
   "source": [
    "print(Counter(y_train_enc).keys())\n",
    "print(Counter(y_train_enc).values())"
   ]
  },
  {
   "cell_type": "code",
   "execution_count": null,
   "metadata": {},
   "outputs": [],
   "source": [
    "print(Counter(y_test_enc).keys())\n",
    "print(Counter(y_test_enc).values())"
   ]
  },
  {
   "cell_type": "code",
   "execution_count": null,
   "metadata": {},
   "outputs": [],
   "source": [
    "minmax = MinMaxScaler()#StandardScaler() \n",
    "\n",
    "\n",
    "X_train = minmax.fit_transform(X_train)\n",
    "\n",
    "# X_resampled = minmax.fit_transform(X_resampled)\n",
    "\n",
    "# X_resampled = minmax.transform(X_resampled)\n",
    "X_test = minmax.transform(X_test)"
   ]
  },
  {
   "cell_type": "code",
   "execution_count": null,
   "metadata": {},
   "outputs": [],
   "source": [
    "smote = SMOTE(k_neighbors=4, random_state=2310)\n",
    "X_resampled, y_resampled = smote.fit_resample(X_train, y_train_enc)"
   ]
  },
  {
   "cell_type": "code",
   "execution_count": null,
   "metadata": {},
   "outputs": [],
   "source": [
    "print(Counter(y_resampled).keys())\n",
    "print(Counter(y_resampled).values())"
   ]
  },
  {
   "cell_type": "code",
   "execution_count": null,
   "metadata": {},
   "outputs": [],
   "source": [
    "pickle.dump(minmax, open( \"./models/minmax.pickle\", \"wb\" ))\n",
    "pickle.dump(smote, open( \"./models/smote.pickle\", \"wb\" ))"
   ]
  },
  {
   "cell_type": "markdown",
   "metadata": {},
   "source": [
    "## Model"
   ]
  },
  {
   "cell_type": "code",
   "execution_count": null,
   "metadata": {},
   "outputs": [],
   "source": [
    "def fit_and_print(model, X_test):\n",
    "    y_pred = model.predict(X_test)\n",
    "    cm = confusion_matrix(y_test_enc, y_pred)\n",
    "    index =[\"A\", \"B\", \"C\"]\n",
    "    columns =[\"A\", \"B\", \"C\"]\n",
    "    cm_df = pd.DataFrame(cm,columns,index)                      \n",
    "    plt.figure(figsize=(8,6))  \n",
    "    sns.heatmap(cm_df, annot=True)\n",
    "    print(\"Classification Report: \\n\", classification_report(y_test_enc, y_pred))  \n",
    "\n",
    "    lb = LabelBinarizer()\n",
    "    lb.fit(y_test_enc)\n",
    "    y_test = lb.transform(y_test_enc)\n",
    "    y_pred = lb.transform(y_pred)\n",
    "\n",
    "\n",
    "    roc_auc = roc_auc_score(y_test, y_pred, multi_class = 'ovr', average=None)\n",
    "    gini = 2*roc_auc -1\n",
    "    print(\"Gini: \",gini)\n",
    "    print(\"ROC AUC:: \",roc_auc)"
   ]
  },
  {
   "cell_type": "code",
   "execution_count": null,
   "metadata": {},
   "outputs": [],
   "source": [
    "def plot_learning_curve_cross_validation(df, title, ylim=None, train_sizes=np.linspace(1, 64, 64)):\n",
    "    \"\"\"Generate a simple plot of the test and training learning curve\"\"\"\n",
    "    plt.figure()\n",
    "    plt.title(title)\n",
    "    if ylim is not None:\n",
    "        plt.ylim(*ylim)\n",
    "    plt.xlabel(\"Iterations\")\n",
    "    plt.ylabel(\"Score\")\n",
    "\n",
    "    train_scores_mean = df.mean_train_score\n",
    "    train_scores_std = df.std_train_score\n",
    "    test_scores_mean = df.mean_test_score\n",
    "    test_scores_std = df.std_test_score\n",
    "    plt.grid()\n",
    "\n",
    "    plt.fill_between(train_sizes, train_scores_mean - train_scores_std,\n",
    "                     train_scores_mean + train_scores_std, alpha=0.1,\n",
    "                     color=\"r\")\n",
    "    plt.fill_between(train_sizes, test_scores_mean - test_scores_std,\n",
    "                     test_scores_mean + test_scores_std, alpha=0.1, color=\"g\")\n",
    "    plt.plot(train_sizes, train_scores_mean, 'o-', color=\"r\",\n",
    "             label=\"Training score\")\n",
    "    plt.plot(train_sizes, test_scores_mean, 'o-', color=\"g\",\n",
    "             label=\"Cross-validation score\")\n",
    "\n",
    "    plt.legend(loc=\"best\")\n",
    "    return plt"
   ]
  },
  {
   "cell_type": "markdown",
   "metadata": {},
   "source": [
    "### Random Forest "
   ]
  },
  {
   "cell_type": "markdown",
   "metadata": {},
   "source": [
    "https://scikit-learn.org/stable/modules/generated/sklearn.ensemble.RandomForestClassifier.html"
   ]
  },
  {
   "cell_type": "code",
   "execution_count": null,
   "metadata": {},
   "outputs": [],
   "source": [
    "RF = RandomForestClassifier(random_state = 23)\n",
    "cv = LeaveOneOut()\n",
    "# cv = StratifiedShuffleSplit(n_splits=1, test_size=0.2, random_state=0)\n",
    "\n",
    "RF_search_space = {\"bootstrap\": Categorical([True]), # values for boostrap can be either True or False\n",
    "        \"criterion\": Categorical([\"gini\", \"entropy\"]),\n",
    "        \"max_depth\": Integer(4, 8, prior='uniform'),\n",
    "        \"max_features\": Categorical(['auto', 'sqrt','log2']), \n",
    "        \"min_samples_leaf\": Integer(2, 10, prior='uniform'),\n",
    "        \"min_samples_split\": Integer(8, 30, prior='uniform'),\n",
    "        \"n_estimators\": Integer(5, 30, prior='uniform')\n",
    "    }"
   ]
  },
  {
   "cell_type": "code",
   "execution_count": null,
   "metadata": {},
   "outputs": [],
   "source": [
    "#https://scikit-optimize.github.io/stable/modules/generated/skopt.BayesSearchCV.html\n",
    "\n",
    "RF_bayes_search = BayesSearchCV(RF, RF_search_space, n_iter=64, return_train_score = True, # specify how many iterations\n",
    "                                    scoring=\"accuracy\", n_jobs=-1, cv=cv, random_state = 100, optimizer_kwargs = {'base_estimator': 'GP'})\n",
    "\n",
    "inicio = time.time()\n",
    "RF_bayes_search.fit(X_resampled, y_resampled) # callback=on_step will print score after each iteration\n",
    "fim = time.time()\n",
    "print(\"time train\")\n",
    "print(fim - inicio)\n",
    "print(\"Acc\")\n",
    "print(RF_bayes_search.best_score_)\n",
    "RF_best = RF_bayes_search.best_estimator_\n",
    "print(RF_bayes_search.best_estimator_)\n",
    "print(RF_bayes_search.best_params_)"
   ]
  },
  {
   "cell_type": "code",
   "execution_count": null,
   "metadata": {},
   "outputs": [],
   "source": [
    "results = pd.DataFrame(RF_bayes_search.cv_results_).sort_values(by = 'rank_test_score')\n",
    "results.head(3)"
   ]
  },
  {
   "cell_type": "code",
   "execution_count": null,
   "metadata": {},
   "outputs": [],
   "source": [
    "results_cv2 = pd.DataFrame(RF_bayes_search.cv_results_)\n",
    "results_cv2  = results_cv2[['mean_test_score', 'std_test_score', 'mean_train_score', 'std_train_score']]\n",
    "plot_learning_curve_cross_validation(results_cv2, \"RF learning curve - BayesSearchCV\")\n",
    "# results_cv2.head()"
   ]
  },
  {
   "cell_type": "code",
   "execution_count": null,
   "metadata": {},
   "outputs": [],
   "source": [
    "results.shape"
   ]
  },
  {
   "cell_type": "code",
   "execution_count": null,
   "metadata": {},
   "outputs": [],
   "source": [
    "g = plot_learning_curve(RF_best,\"Random Forest learning curves\",X_resampled, y_resampled,cv=cv)"
   ]
  },
  {
   "cell_type": "code",
   "execution_count": null,
   "metadata": {},
   "outputs": [],
   "source": [
    "filename_vot = './models/RF_best_bayes_resampled.sav'\n",
    "joblib.dump(RF_best, filename_vot)"
   ]
  },
  {
   "cell_type": "markdown",
   "metadata": {},
   "source": [
    "Validation"
   ]
  },
  {
   "cell_type": "code",
   "execution_count": null,
   "metadata": {},
   "outputs": [],
   "source": [
    "fit_and_print(RF_best, X_test)"
   ]
  },
  {
   "cell_type": "markdown",
   "metadata": {},
   "source": [
    "### Support Vector Machine"
   ]
  },
  {
   "cell_type": "markdown",
   "metadata": {},
   "source": [
    "https://scikit-learn.org/stable/modules/generated/sklearn.svm.SVC.html"
   ]
  },
  {
   "cell_type": "code",
   "execution_count": null,
   "metadata": {},
   "outputs": [],
   "source": [
    "SVM = SVC(random_state = 241)\n",
    "cv = LeaveOneOut()\n",
    "\n",
    "SVM_search_space = {\n",
    "        'gamma': Real(0.01, 10, prior='uniform'), \n",
    "        'kernel': Categorical(['rbf', 'poly', 'sigmoid']), \n",
    "        'C': Real(0.1, 10, prior='uniform')\n",
    "    }\n"
   ]
  },
  {
   "cell_type": "code",
   "execution_count": null,
   "metadata": {},
   "outputs": [],
   "source": [
    "SVM_bayes_search = BayesSearchCV(SVM, SVM_search_space, n_iter=64, return_train_score = True,# specify how many iterations\n",
    "                                    scoring=\"accuracy\", n_jobs=-1, cv=cv, random_state = 101, optimizer_kwargs = {'base_estimator': 'GP'} )\n",
    "\n",
    "inicio = time.time()\n",
    "SVM_bayes_search.fit(X_resampled, y_resampled) # callback=on_step will print score after each iteration\n",
    "fim = time.time()\n",
    "print(\"time train\")\n",
    "print(fim - inicio)\n",
    "print(\"Acc\")\n",
    "print(SVM_bayes_search.best_score_)\n",
    "SVM_best = SVM_bayes_search.best_estimator_\n",
    "print(SVM_bayes_search.best_estimator_)\n",
    "print(SVM_bayes_search.best_params_)"
   ]
  },
  {
   "cell_type": "code",
   "execution_count": null,
   "metadata": {},
   "outputs": [],
   "source": [
    "# SVM_bayes_search.optimizer_results_"
   ]
  },
  {
   "cell_type": "code",
   "execution_count": null,
   "metadata": {},
   "outputs": [],
   "source": [
    "results = pd.DataFrame(SVM_bayes_search.cv_results_).sort_values(by = 'rank_test_score')\n",
    "results.head(3)"
   ]
  },
  {
   "cell_type": "code",
   "execution_count": null,
   "metadata": {},
   "outputs": [],
   "source": [
    "results_cv2 = pd.DataFrame(SVM_bayes_search.cv_results_)\n",
    "results_cv2  = results_cv2[['mean_test_score', 'std_test_score', 'mean_train_score', 'std_train_score']]\n",
    "plot_learning_curve_cross_validation(results_cv2, \"SVM learning curve - BayesSearchCV\")"
   ]
  },
  {
   "cell_type": "code",
   "execution_count": null,
   "metadata": {},
   "outputs": [],
   "source": [
    "g = plot_learning_curve(SVM_best,\"SVM learning curves\",X_resampled,y_resampled,cv=cv)"
   ]
  },
  {
   "cell_type": "code",
   "execution_count": null,
   "metadata": {},
   "outputs": [],
   "source": [
    "filename_vot = './models/SVM_best_bayes_resampled.sav'\n",
    "joblib.dump(SVM_best, filename_vot)"
   ]
  },
  {
   "cell_type": "markdown",
   "metadata": {},
   "source": [
    "Validation"
   ]
  },
  {
   "cell_type": "code",
   "execution_count": null,
   "metadata": {},
   "outputs": [],
   "source": [
    "fit_and_print(SVM_best, X_test)"
   ]
  },
  {
   "cell_type": "markdown",
   "metadata": {},
   "source": [
    "### Logistic Regression "
   ]
  },
  {
   "cell_type": "markdown",
   "metadata": {},
   "source": [
    "https://scikit-learn.org/stable/modules/generated/sklearn.linear_model.LogisticRegression.html"
   ]
  },
  {
   "cell_type": "code",
   "execution_count": null,
   "metadata": {},
   "outputs": [],
   "source": [
    "LR = LogisticRegression(random_state=25)\n",
    "cv = LeaveOneOut()\n",
    "\n",
    "LR_search_space = {\n",
    "    'solver': Categorical(['saga']),  \n",
    "    'penalty': Categorical(['l1','l2']),\n",
    "    'tol': Real(1e-5, 1e-3, 'uniform'),\n",
    "    'C': Real(1e-5, 100, 'uniform'),\n",
    "    'fit_intercept': Categorical([True, False])\n",
    "}"
   ]
  },
  {
   "cell_type": "code",
   "execution_count": null,
   "metadata": {},
   "outputs": [],
   "source": [
    "LR_bayes_search = BayesSearchCV(LR, LR_search_space, n_iter=64, return_train_score = True, # specify how many iterations\n",
    "                                    scoring=\"accuracy\", n_jobs=-1, cv=cv, random_state = 102, optimizer_kwargs = {'base_estimator': 'GP'})\n",
    "\n",
    "inicio = time.time()\n",
    "LR_bayes_search.fit(X_resampled, y_resampled) # callback=on_step will print score after each iteration\n",
    "fim = time.time()\n",
    "print(\"time train\")\n",
    "print(fim - inicio)\n",
    "print(\"Acc\")\n",
    "print(LR_bayes_search.best_score_)\n",
    "LR_best = LR_bayes_search.best_estimator_\n",
    "print(LR_bayes_search.best_estimator_)\n",
    "print(LR_bayes_search.best_params_)"
   ]
  },
  {
   "cell_type": "code",
   "execution_count": null,
   "metadata": {},
   "outputs": [],
   "source": [
    "results_cv2 = pd.DataFrame(LR_bayes_search.cv_results_)\n",
    "results_cv2  = results_cv2[['mean_test_score', 'std_test_score', 'mean_train_score', 'std_train_score']]\n",
    "plot_learning_curve_cross_validation(results_cv2, \"LR learning curve - BayesSearchCV\")"
   ]
  },
  {
   "cell_type": "code",
   "execution_count": null,
   "metadata": {},
   "outputs": [],
   "source": [
    "g = plot_learning_curve(LR_best,\"Logistic Regression learning curves\",X_resampled, y_resampled,cv=cv)"
   ]
  },
  {
   "cell_type": "code",
   "execution_count": null,
   "metadata": {},
   "outputs": [],
   "source": [
    "filename_vot = './models/LR_best_bayes_resampled.sav'\n",
    "joblib.dump(LR_best, filename_vot)"
   ]
  },
  {
   "cell_type": "markdown",
   "metadata": {},
   "source": [
    "Validation"
   ]
  },
  {
   "cell_type": "code",
   "execution_count": null,
   "metadata": {},
   "outputs": [],
   "source": [
    "fit_and_print(LR_best, X_test)"
   ]
  },
  {
   "cell_type": "markdown",
   "metadata": {},
   "source": [
    "### Multi-layer Perceptron"
   ]
  },
  {
   "cell_type": "markdown",
   "metadata": {},
   "source": [
    "https://scikit-learn.org/stable/modules/generated/sklearn.neural_network.MLPClassifier.html"
   ]
  },
  {
   "cell_type": "code",
   "execution_count": null,
   "metadata": {},
   "outputs": [],
   "source": [
    "MLP = MLPClassifier(random_state = 26)\n",
    "cv = LeaveOneOut()\n",
    "MLP_search_space = {\n",
    "    # 'hidden_layer_sizes': [(100,), (60,70,50), (70,80,60)],\n",
    "    'activation':  Categorical(['tanh', 'relu', 'logistic', 'identity']),\n",
    "    'solver':  Categorical(['sgd', 'adam']),\n",
    "    'alpha': Real(0.0001, 0.5, prior='uniform'),\n",
    "    'learning_rate': Categorical(['adaptive', 'constant', 'invscaling']),\n",
    "    'learning_rate_init': Real(0.0001, 0.6, prior='uniform')\n",
    "}"
   ]
  },
  {
   "cell_type": "code",
   "execution_count": null,
   "metadata": {},
   "outputs": [],
   "source": [
    "# MLP_model = RandomizedSearchCV(estimator= MLP, param_distributions = MLP_search_space, cv=cv, scoring=\"accuracy\")\n",
    "MLP_bayes_search = BayesSearchCV(MLP, MLP_search_space, n_iter=64, return_train_score = True, # specify how many iterations\n",
    "                                    scoring=\"accuracy\", n_jobs=-1, cv=cv, random_state = 102, optimizer_kwargs = {'base_estimator': 'GP'})\n",
    "\n",
    "warnings.filterwarnings('ignore')\n",
    "inicio = time.time()\n",
    "MLP_bayes_search.fit(X_resampled, y_resampled)\n",
    "fim = time.time()\n",
    "print(\"time train\")\n",
    "print(fim - inicio)\n",
    "print(\"Acc\")\n",
    "print(MLP_bayes_search.best_score_)\n",
    "MLP_best = MLP_bayes_search.best_estimator_\n",
    "print(MLP_bayes_search.best_estimator_)\n",
    "print(MLP_bayes_search.best_params_)"
   ]
  },
  {
   "cell_type": "code",
   "execution_count": null,
   "metadata": {},
   "outputs": [],
   "source": [
    "results_cv2 = pd.DataFrame(MLP_bayes_search.cv_results_)\n",
    "results_cv2  = results_cv2[['mean_test_score', 'std_test_score', 'mean_train_score', 'std_train_score']]\n",
    "plot_learning_curve_cross_validation(results_cv2, \"MLP learning curve - BayesSearchCV\")"
   ]
  },
  {
   "cell_type": "code",
   "execution_count": null,
   "metadata": {},
   "outputs": [],
   "source": [
    "g = plot_learning_curve(MLP_best,\"Multi-layer Perceptron learning curves\", X_resampled, y_resampled,cv=cv)"
   ]
  },
  {
   "cell_type": "code",
   "execution_count": null,
   "metadata": {},
   "outputs": [],
   "source": [
    "filename_vot = './models/MLP_best_resampled.sav'\n",
    "joblib.dump(MLP_best, filename_vot)"
   ]
  },
  {
   "cell_type": "markdown",
   "metadata": {},
   "source": [
    "Validation"
   ]
  },
  {
   "cell_type": "code",
   "execution_count": null,
   "metadata": {},
   "outputs": [],
   "source": [
    "fit_and_print(MLP_best, X_test)"
   ]
  },
  {
   "cell_type": "markdown",
   "metadata": {},
   "source": [
    "### KNN"
   ]
  },
  {
   "cell_type": "markdown",
   "metadata": {},
   "source": [
    "https://scikit-learn.org/stable/modules/generated/sklearn.neighbors.KNeighborsClassifier.html"
   ]
  },
  {
   "cell_type": "code",
   "execution_count": null,
   "metadata": {},
   "outputs": [],
   "source": [
    "KNN = KNeighborsClassifier()\n",
    "cv = LeaveOneOut()\n",
    "\n",
    "KNN_search_space = {\n",
    "    'weights': Categorical(['uniform', 'distance']),  \n",
    "    'n_neighbors': Integer(5, 8, 'uniform'), \n",
    "    'p': Integer(1, 3, 'uniform'), \n",
    "    'metric': Categorical(['minkowski']), \n",
    "    'leaf_size': Integer(30, 50, prior='uniform')}"
   ]
  },
  {
   "cell_type": "code",
   "execution_count": null,
   "metadata": {},
   "outputs": [],
   "source": [
    "KNN_bayes_search = BayesSearchCV(KNN, KNN_search_space, n_iter=64, return_train_score = True, # specify how many iterations\n",
    "                                    scoring=\"accuracy\", n_jobs=-1, cv=cv, random_state = 104, optimizer_kwargs = {'base_estimator': 'GP'})\n",
    "\n",
    "inicio = time.time()\n",
    "KNN_bayes_search.fit(X_resampled, y_resampled) # callback=on_step will print score after each iteration\n",
    "fim = time.time()\n",
    "print(\"time train\")\n",
    "print(fim - inicio)\n",
    "print(\"Acc\")\n",
    "print(KNN_bayes_search.best_score_)\n",
    "KNN_best = KNN_bayes_search.best_estimator_\n",
    "print(KNN_bayes_search.best_estimator_)\n",
    "print(KNN_bayes_search.best_params_)"
   ]
  },
  {
   "cell_type": "code",
   "execution_count": null,
   "metadata": {},
   "outputs": [],
   "source": [
    "results_cv2 = pd.DataFrame(KNN_bayes_search.cv_results_)\n",
    "results_cv2  = results_cv2[['mean_test_score', 'std_test_score', 'mean_train_score', 'std_train_score']]\n",
    "plot_learning_curve_cross_validation(results_cv2, \"KNN learning curve - BayesSearchCV\")"
   ]
  },
  {
   "cell_type": "code",
   "execution_count": null,
   "metadata": {},
   "outputs": [],
   "source": [
    "g = plot_learning_curve(KNN_best,\"K-nearest neighbors learning curves\", X_resampled, y_resampled,cv=cv)"
   ]
  },
  {
   "cell_type": "code",
   "execution_count": null,
   "metadata": {},
   "outputs": [],
   "source": [
    "filename_vot = './models/KNN_best_bayes_resampled.sav'\n",
    "joblib.dump(KNN_best, filename_vot)"
   ]
  },
  {
   "cell_type": "markdown",
   "metadata": {},
   "source": [
    "Validation"
   ]
  },
  {
   "cell_type": "code",
   "execution_count": null,
   "metadata": {},
   "outputs": [],
   "source": [
    "fit_and_print(KNN_best, X_test)"
   ]
  },
  {
   "cell_type": "markdown",
   "metadata": {},
   "source": [
    "### Gaussian Process"
   ]
  },
  {
   "cell_type": "markdown",
   "metadata": {},
   "source": [
    "https://scikit-learn.org/stable/modules/generated/sklearn.gaussian_process.GaussianProcessClassifier.html"
   ]
  },
  {
   "cell_type": "code",
   "execution_count": null,
   "metadata": {},
   "outputs": [],
   "source": [
    "GP = GaussianProcessClassifier(random_state=30)\n",
    "cv = LeaveOneOut()\n",
    "\n",
    "GP_search_space  = {\n",
    "        'optimizer' : Categorical(['fmin_l_bfgs_b']), \n",
    "        'n_restarts_optimizer': Integer(2, 6),\n",
    "        'max_iter_predict': Integer(100, 130),\n",
    "        'multi_class': Categorical(['one_vs_rest'])\n",
    "         }"
   ]
  },
  {
   "cell_type": "code",
   "execution_count": null,
   "metadata": {},
   "outputs": [],
   "source": [
    "GP_bayes_search = BayesSearchCV(GP, GP_search_space, n_iter=64, return_train_score = True, # specify how many iterations\n",
    "                                    scoring=\"accuracy\", n_jobs=-1, cv=cv, random_state = 105, optimizer_kwargs = {'base_estimator': 'GP'})\n",
    "\n",
    "inicio = time.time()\n",
    "GP_bayes_search.fit(X_resampled, y_resampled) # callback=on_step will print score after each iteration\n",
    "fim = time.time()\n",
    "print(\"time train\")\n",
    "print(fim - inicio)\n",
    "print(\"Acc\")\n",
    "print(GP_bayes_search.best_score_)\n",
    "GP_best = GP_bayes_search.best_estimator_\n",
    "print(GP_bayes_search.best_estimator_)\n",
    "print(GP_bayes_search.best_params_)"
   ]
  },
  {
   "cell_type": "code",
   "execution_count": null,
   "metadata": {},
   "outputs": [],
   "source": [
    "results_cv2 = pd.DataFrame(GP_bayes_search.cv_results_)\n",
    "results_cv2  = results_cv2[['mean_test_score', 'std_test_score', 'mean_train_score', 'std_train_score']]\n",
    "plot_learning_curve_cross_validation(results_cv2, \"GPC learning curve - BayesSearchCV\")"
   ]
  },
  {
   "cell_type": "code",
   "execution_count": null,
   "metadata": {},
   "outputs": [],
   "source": [
    "g = plot_learning_curve(GP_best,\"Gaussian Process learning curves\",X_resampled, y_resampled,cv=cv)"
   ]
  },
  {
   "cell_type": "code",
   "execution_count": null,
   "metadata": {},
   "outputs": [],
   "source": [
    "filename_vot = './models/GP_best_bayes_resampled.sav'\n",
    "joblib.dump(GP_best, filename_vot)"
   ]
  },
  {
   "cell_type": "markdown",
   "metadata": {},
   "source": [
    "Validation"
   ]
  },
  {
   "cell_type": "code",
   "execution_count": null,
   "metadata": {},
   "outputs": [],
   "source": [
    "fit_and_print(GP_best, X_test)"
   ]
  },
  {
   "cell_type": "markdown",
   "metadata": {},
   "source": [
    "### GBM"
   ]
  },
  {
   "cell_type": "markdown",
   "metadata": {},
   "source": [
    "https://scikit-learn.org/stable/modules/generated/sklearn.ensemble.GradientBoostingClassifier.html"
   ]
  },
  {
   "cell_type": "code",
   "execution_count": null,
   "metadata": {},
   "outputs": [],
   "source": [
    "GBM = GradientBoostingClassifier(random_state=31)\n",
    "cv = LeaveOneOut()\n",
    "GBM_search_space = {\n",
    "\n",
    "        'max_depth': Integer(4, 7, prior='uniform'),\n",
    "        'loss': Categorical(['deviance']),\n",
    "        'learning_rate' : Real(0.001, 0.05, prior='uniform') , \n",
    "        'n_estimators': Integer(20, 50, prior='uniform'),\n",
    "        'criterion': Categorical(['friedman_mse', 'mse']),\n",
    "        \"max_features\": Categorical(['auto', 'sqrt','log2']), \n",
    "        \"min_samples_leaf\": Integer(2, 10, prior='uniform'),\n",
    "        \"min_samples_split\": Integer(5, 20, prior='uniform')\n",
    "    }"
   ]
  },
  {
   "cell_type": "code",
   "execution_count": null,
   "metadata": {},
   "outputs": [],
   "source": [
    "GBM_bayes_search = BayesSearchCV(GBM, GBM_search_space, n_iter=64, return_train_score = True, # specify how many iterations\n",
    "                                    scoring=\"accuracy\", n_jobs=-1, cv=cv, random_state = 106, optimizer_kwargs = {'base_estimator': 'GP'})\n",
    "\n",
    "inicio = time.time()\n",
    "GBM_bayes_search.fit(X_resampled, y_resampled) # callback=on_step will print score after each iteration\n",
    "fim = time.time()\n",
    "print(\"time train\")\n",
    "print(fim - inicio)\n",
    "print(\"Acc\")\n",
    "print(GBM_bayes_search.best_score_)\n",
    "GBM_best = GBM_bayes_search.best_estimator_\n",
    "print(GBM_bayes_search.best_estimator_)\n",
    "print(GBM_bayes_search.best_params_)"
   ]
  },
  {
   "cell_type": "code",
   "execution_count": null,
   "metadata": {},
   "outputs": [],
   "source": [
    "results_cv2 = pd.DataFrame(GBM_bayes_search.cv_results_)\n",
    "results_cv2  = results_cv2[['mean_test_score', 'std_test_score', 'mean_train_score', 'std_train_score']]\n",
    "plot_learning_curve_cross_validation(results_cv2, \"GBM learning curve - BayesSearchCV\")"
   ]
  },
  {
   "cell_type": "code",
   "execution_count": null,
   "metadata": {},
   "outputs": [],
   "source": [
    "g = plot_learning_curve(GBM_best,\"GBM learning curves\",X_resampled, y_resampled,cv=cv)"
   ]
  },
  {
   "cell_type": "code",
   "execution_count": null,
   "metadata": {},
   "outputs": [],
   "source": [
    "filename_vot = './models/GBM_best_bayes_resampled.sav'\n",
    "joblib.dump(GBM_best, filename_vot)"
   ]
  },
  {
   "cell_type": "markdown",
   "metadata": {},
   "source": [
    "Validation"
   ]
  },
  {
   "cell_type": "code",
   "execution_count": null,
   "metadata": {},
   "outputs": [],
   "source": [
    "fit_and_print(GBM_best, X_test)"
   ]
  },
  {
   "cell_type": "markdown",
   "metadata": {},
   "source": [
    "### LGBM"
   ]
  },
  {
   "cell_type": "markdown",
   "metadata": {},
   "source": [
    "https://lightgbm.readthedocs.io/en/latest/pythonapi/lightgbm.LGBMClassifier.html"
   ]
  },
  {
   "cell_type": "code",
   "execution_count": null,
   "metadata": {},
   "outputs": [],
   "source": [
    "LGBM = LGBMClassifier(random_state=32)\n",
    "cv = LeaveOneOut()\n",
    "LGBM_search_space = {\n",
    "        'num_iterations': Integer(40, 60, prior='uniform'),\n",
    "        'learning_rate' : Real(0.001, 0.05, prior='uniform') , \n",
    "        'n_estimators': Integer(30, 50, prior='uniform'),\n",
    "        'boosting_type': Categorical(['gbdt']),\n",
    "        'objective': Categorical(['multiclass']),\n",
    "        'num_class': [3],\n",
    "        \"num_leaves\": Integer(5, 30, prior='uniform'),\n",
    "        \"max_depth\": Integer(5, 7, prior='uniform'), \n",
    "        \"min_child_samples\": Integer(2, 10, prior='uniform'), \n",
    "        \"reg_alpha\": Real(0.001, 0.5, prior='uniform')\n",
    "         }"
   ]
  },
  {
   "cell_type": "code",
   "execution_count": null,
   "metadata": {},
   "outputs": [],
   "source": [
    "LGBM_bayes_search = BayesSearchCV(LGBM, LGBM_search_space, n_iter=64, return_train_score = True, # specify how many iterations\n",
    "                                    scoring=\"accuracy\", n_jobs=-1, cv=cv, random_state = 107, optimizer_kwargs = {'base_estimator': 'GP'})\n",
    "\n",
    "inicio = time.time()\n",
    "LGBM_bayes_search.fit(X_resampled, y_resampled) # callback=on_step will print score after each iteration\n",
    "fim = time.time()\n",
    "print(\"time train\")\n",
    "print(fim - inicio)\n",
    "print(\"Acc\")\n",
    "print(LGBM_bayes_search.best_score_)\n",
    "LGBM_best = LGBM_bayes_search.best_estimator_\n",
    "print(LGBM_bayes_search.best_estimator_)\n",
    "print(LGBM_bayes_search.best_params_)"
   ]
  },
  {
   "cell_type": "code",
   "execution_count": null,
   "metadata": {},
   "outputs": [],
   "source": [
    "results_cv2 = pd.DataFrame(LGBM_bayes_search.cv_results_)\n",
    "results_cv2  = results_cv2[['mean_test_score', 'std_test_score', 'mean_train_score', 'std_train_score']]\n",
    "plot_learning_curve_cross_validation(results_cv2, \"LGBM learning curve - BayesSearchCV\")"
   ]
  },
  {
   "cell_type": "code",
   "execution_count": null,
   "metadata": {},
   "outputs": [],
   "source": [
    "g = plot_learning_curve(LGBM_best,\"LGBM learning curves\",X_resampled, y_resampled,cv=cv)"
   ]
  },
  {
   "cell_type": "code",
   "execution_count": null,
   "metadata": {},
   "outputs": [],
   "source": [
    "filename_vot = './models/LGBM_best_bayes_resampled.sav'\n",
    "joblib.dump(LGBM_best, filename_vot)"
   ]
  },
  {
   "cell_type": "markdown",
   "metadata": {},
   "source": [
    "Validation"
   ]
  },
  {
   "cell_type": "code",
   "execution_count": null,
   "metadata": {},
   "outputs": [],
   "source": [
    "fit_and_print(LGBM_best, X_test)"
   ]
  },
  {
   "cell_type": "code",
   "execution_count": null,
   "metadata": {},
   "outputs": [],
   "source": []
  }
 ],
 "metadata": {
  "kernelspec": {
   "display_name": "Python 3.9.12 ('artigo')",
   "language": "python",
   "name": "python3"
  },
  "language_info": {
   "codemirror_mode": {
    "name": "ipython",
    "version": 3
   },
   "file_extension": ".py",
   "mimetype": "text/x-python",
   "name": "python",
   "nbconvert_exporter": "python",
   "pygments_lexer": "ipython3",
   "version": "3.9.12"
  },
  "vscode": {
   "interpreter": {
    "hash": "77b285dce526106f0619df26edb004dd0a55300a7a7a7660bd0bf561a0915729"
   }
  }
 },
 "nbformat": 4,
 "nbformat_minor": 2
}
