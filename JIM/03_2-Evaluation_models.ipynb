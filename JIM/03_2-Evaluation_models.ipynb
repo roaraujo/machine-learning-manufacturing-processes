{
 "cells": [
  {
   "cell_type": "markdown",
   "metadata": {},
   "source": [
    "### Libraries"
   ]
  },
  {
   "cell_type": "code",
   "execution_count": null,
   "metadata": {},
   "outputs": [],
   "source": [
    "import time\n",
    "import joblib\n",
    "import warnings\n",
    "import numpy as np\n",
    "import pandas as pd\n",
    "import seaborn as sns\n",
    "import matplotlib.pyplot as plt\n",
    "from collections import Counter\n",
    "from scipy.stats import ks_2samp\n",
    "from IPython.display import Image\n",
    "\n",
    "import shap\n",
    "from sklearn.preprocessing import LabelEncoder\n",
    "from sklearn.model_selection import RepeatedStratifiedKFold, LeaveOneOut\n",
    "from sklearn.preprocessing import StandardScaler\n",
    "from sklearn.tree import export_graphviz\n",
    "from yellowbrick.model_selection import FeatureImportances\n",
    "\n",
    "from imblearn.over_sampling import SMOTE, ADASYN\n",
    "\n",
    "import xgboost as xgb\n",
    "from plot_learning import *\n",
    "from sklearn.svm import SVC\n",
    "from sklearn_rvm import EMRVC\n",
    "from lightgbm import LGBMClassifier\n",
    "from sklearn.linear_model import LogisticRegression\n",
    "from sklearn.neighbors import KNeighborsClassifier\n",
    "from sklearn.ensemble import RandomForestClassifier, AdaBoostClassifier, GradientBoostingClassifier, ExtraTreesClassifier, VotingClassifier\n",
    "from sklearn.neural_network import MLPClassifier\n",
    "from sklearn.gaussian_process import GaussianProcessClassifier\n",
    "from sklearn.gaussian_process.kernels import RBF\n",
    "from sklearn.model_selection import GridSearchCV, learning_curve, RandomizedSearchCV\n",
    "from sklearn.metrics  import average_precision_score, make_scorer, roc_curve,f1_score, precision_score, recall_score, fbeta_score, auc, roc_auc_score, accuracy_score, confusion_matrix, classification_report,precision_recall_curve\n",
    "from skopt import BayesSearchCV\n",
    "from skopt.space import Real, Categorical, Integer\n",
    "\n",
    "warnings.filterwarnings('ignore')"
   ]
  },
  {
   "cell_type": "markdown",
   "metadata": {},
   "source": [
    "### Read "
   ]
  },
  {
   "cell_type": "code",
   "execution_count": null,
   "metadata": {},
   "outputs": [],
   "source": [
    "warnings.filterwarnings('ignore')\n",
    "pd.set_option('display.max_columns', None)\n",
    "\n",
    "X_train = pd.read_csv(\"X_train.csv\", sep = \";\")\n",
    "X_test = pd.read_csv(\"X_test.csv\", sep = \";\")\n",
    "\n",
    "y_train = pd.read_csv(\"y_train.csv\", sep = \";\")\n",
    "y_test = pd.read_csv(\"y_test.csv\", sep = \";\")\n",
    "\n",
    "X_train.head()"
   ]
  },
  {
   "cell_type": "code",
   "execution_count": null,
   "metadata": {},
   "outputs": [],
   "source": [
    "## removendo variáveis \n",
    "X_train = X_train.drop([\n",
    "'H1RFV', 'H1LFV', 'H1RRO'\n",
    "], axis=1)\n",
    "\n",
    "X_test = X_test.drop([\n",
    "'H1RFV', 'H1LFV', 'H1RRO'\n",
    "], axis=1)"
   ]
  },
  {
   "cell_type": "code",
   "execution_count": null,
   "metadata": {},
   "outputs": [],
   "source": [
    "X_train.columns"
   ]
  },
  {
   "cell_type": "code",
   "execution_count": null,
   "metadata": {},
   "outputs": [],
   "source": [
    "y_train.GR.unique()"
   ]
  },
  {
   "cell_type": "code",
   "execution_count": null,
   "metadata": {},
   "outputs": [],
   "source": [
    "y_train.GR.value_counts()"
   ]
  },
  {
   "cell_type": "markdown",
   "metadata": {},
   "source": [
    "## Dataprep"
   ]
  },
  {
   "cell_type": "code",
   "execution_count": null,
   "metadata": {},
   "outputs": [],
   "source": [
    "def prepare_targets(y_train, y_test):\n",
    "    le = LabelEncoder()\n",
    "    le.fit(y_train)\n",
    "    y_train_enc = le.transform(y_train)\n",
    "    y_test_enc = le.transform(y_test)\n",
    "    \n",
    "    return y_train_enc, y_test_enc"
   ]
  },
  {
   "cell_type": "code",
   "execution_count": null,
   "metadata": {},
   "outputs": [],
   "source": [
    "y_train_enc, y_test_enc = prepare_targets(y_train, y_test)"
   ]
  },
  {
   "cell_type": "code",
   "execution_count": null,
   "metadata": {},
   "outputs": [],
   "source": [
    "print(Counter(y_train_enc).keys())\n",
    "print(Counter(y_train_enc).values())"
   ]
  },
  {
   "cell_type": "code",
   "execution_count": null,
   "metadata": {},
   "outputs": [],
   "source": [
    "print(Counter(y_test_enc).keys())\n",
    "print(Counter(y_test_enc).values())"
   ]
  },
  {
   "cell_type": "code",
   "execution_count": null,
   "metadata": {},
   "outputs": [],
   "source": [
    "file_minmax = \"./models/minmax.pickle\"\n",
    "file_smote = \"./models/smote.pickle\"\n",
    "\n",
    "minmax = joblib.load(file_minmax)\n",
    "smote= joblib.load(file_smote)"
   ]
  },
  {
   "cell_type": "code",
   "execution_count": null,
   "metadata": {},
   "outputs": [],
   "source": [
    "X_train_minmax = minmax.transform(X_train)\n",
    "X_test = minmax.transform(X_test)"
   ]
  },
  {
   "cell_type": "code",
   "execution_count": null,
   "metadata": {},
   "outputs": [],
   "source": [
    "X_resampled, y_resampled = smote.fit_resample(X_train_minmax, y_train_enc)"
   ]
  },
  {
   "cell_type": "code",
   "execution_count": null,
   "metadata": {},
   "outputs": [],
   "source": [
    "print(Counter(y_resampled).keys())\n",
    "print(Counter(y_resampled).values())"
   ]
  },
  {
   "cell_type": "markdown",
   "metadata": {},
   "source": [
    "## Predict"
   ]
  },
  {
   "cell_type": "code",
   "execution_count": null,
   "metadata": {},
   "outputs": [],
   "source": [
    "def fit_and_print(model, X_test, y_test):\n",
    "    y_pred = model.predict(X_test)\n",
    "    # print(\"Confusion Matrix: \\n\", confusion_matrix(y_test_test, y_pred))\n",
    "    cm = confusion_matrix(y_test, y_pred)\n",
    "    index =[\"A\", \"B\", \"C\"]\n",
    "    columns =[\"A\", \"B\", \"C\"]\n",
    "    cm_df = pd.DataFrame(cm,columns,index)                      \n",
    "    plt.figure(figsize=(8,6))  \n",
    "    sns.heatmap(cm_df, annot=True)\n",
    "    print(\"Classification Report: \\n\", classification_report(y_test, y_pred))  "
   ]
  },
  {
   "cell_type": "markdown",
   "metadata": {},
   "source": [
    "### Models"
   ]
  },
  {
   "cell_type": "code",
   "execution_count": null,
   "metadata": {},
   "outputs": [],
   "source": [
    "filename_1 = './models/RF_best_bayes_resampled.sav'\n",
    "filename_2 = './models/SVM_best_bayes_resampled.sav'\n",
    "filename_3 = './models/LR_best_bayes_resampled.sav'\n",
    "filename_4 = './models/MLP_best_resampled.sav'\n",
    "filename_5 = './models/KNN_best_bayes_resampled.sav'\n",
    "filename_6 = './models/GP_best_bayes_resampled.sav'\n",
    "filename_7 = './models/GBM_best_bayes_resampled.sav'\n",
    "filename_8 = './models/LGBM_best_bayes_resampled.sav'\n",
    "filename_9 = './models/XGB_best_bayes_resampled.sav'\n",
    "\n",
    "\n",
    "RF_best = joblib.load(filename_1)\n",
    "SVM_best = joblib.load(filename_2)\n",
    "LR_best = joblib.load(filename_3)\n",
    "MLP_best = joblib.load(filename_4)\n",
    "KNN_best = joblib.load(filename_5)\n",
    "GP_best = joblib.load(filename_6)\n",
    "GBM_best = joblib.load(filename_7)\n",
    "LGBM_best = joblib.load(filename_8)\n",
    "# XGB_best = joblib.load(filename_9)"
   ]
  },
  {
   "cell_type": "markdown",
   "metadata": {},
   "source": [
    "### Voting Classifier"
   ]
  },
  {
   "cell_type": "code",
   "execution_count": null,
   "metadata": {},
   "outputs": [],
   "source": [
    "model_RF = pd.Series(RF_best.predict(X_test), name=\"RF\")\n",
    "model_GP = pd.Series(GP_best.predict(X_test), name=\"GPC\")\n",
    "model_MLP = pd.Series(MLP_best.predict(X_test), name=\"MLP\")\n",
    "model_LR = pd.Series(LR_best.predict(X_test), name= \"LR\")\n",
    "model_SVM = pd.Series(SVM_best.predict(X_test), name=\"SVM\")\n",
    "model_GBM = pd.Series(GBM_best.predict(X_test), name=\"GBM\")\n",
    "model_LGBM = pd.Series(LGBM_best.predict(X_test), name=\"LGBM\")\n",
    "# model_XGB = pd.Series(XGB_best.predict(X_test), name=\"XGB\")\n",
    "model_KNN = pd.Series(KNN_best.predict(X_test), name=\"KNN\")\n",
    "\n",
    "# Concatenate all classifier results\n",
    "m= pd.concat([model_RF, model_GP, model_MLP, model_LR, model_SVM, model_LGBM, model_GBM, model_KNN],axis=1)\n",
    "\n",
    "corrmat = np.triu(m.corr(method='kendall'))\n",
    "\n",
    "g= sns.heatmap(m.corr(method='kendall'),cmap=\"coolwarm\",annot=True, fmt=\".2f\", mask = corrmat)"
   ]
  },
  {
   "cell_type": "code",
   "execution_count": null,
   "metadata": {},
   "outputs": [],
   "source": [
    "import scipy.stats as stats\n",
    "\n",
    "tau, p_value = stats.kendalltau(model_RF, model_GP)\n",
    "p_value"
   ]
  },
  {
   "cell_type": "code",
   "execution_count": null,
   "metadata": {},
   "outputs": [],
   "source": [
    "def fit_and_print_v2(model, X_test):\n",
    "    y_pred = model.predict(X_test)\n",
    "    cm = confusion_matrix(y_test_enc, y_pred)\n",
    "    index =[\"A\", \"B\", \"C\"]\n",
    "    columns =[\"A\", \"B\", \"C\"]\n",
    "    cm_df = pd.DataFrame(cm,columns,index)                      \n",
    "    plt.figure(figsize=(8,6))  \n",
    "    sns.heatmap(cm_df, annot=True)\n",
    "    print(\"Classification Report: \\n\", classification_report(y_test_enc, y_pred))  \n"
   ]
  },
  {
   "cell_type": "code",
   "execution_count": null,
   "metadata": {},
   "outputs": [],
   "source": [
    "fit_and_print_v2(RF_best, X_test)"
   ]
  },
  {
   "cell_type": "code",
   "execution_count": null,
   "metadata": {},
   "outputs": [],
   "source": [
    "fit_and_print_v2(GP_best, X_test)"
   ]
  },
  {
   "cell_type": "code",
   "execution_count": null,
   "metadata": {},
   "outputs": [],
   "source": []
  }
 ],
 "metadata": {
  "kernelspec": {
   "display_name": "Python 3.9.12 ('artigo')",
   "language": "python",
   "name": "python3"
  },
  "language_info": {
   "codemirror_mode": {
    "name": "ipython",
    "version": 3
   },
   "file_extension": ".py",
   "mimetype": "text/x-python",
   "name": "python",
   "nbconvert_exporter": "python",
   "pygments_lexer": "ipython3",
   "version": "3.9.12"
  },
  "vscode": {
   "interpreter": {
    "hash": "77b285dce526106f0619df26edb004dd0a55300a7a7a7660bd0bf561a0915729"
   }
  }
 },
 "nbformat": 4,
 "nbformat_minor": 2
}
